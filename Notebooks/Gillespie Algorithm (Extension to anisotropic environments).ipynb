{
 "cells": [
  {
   "cell_type": "markdown",
   "metadata": {},
   "source": [
    "# Diffusion as a Stochastic Process"
   ]
  },
  {
   "cell_type": "code",
   "execution_count": null,
   "metadata": {},
   "outputs": [],
   "source": []
  },
  {
   "cell_type": "code",
   "execution_count": 1,
   "metadata": {},
   "outputs": [],
   "source": [
    "import numpy as np\n",
    "from matplotlib import pyplot as plt\n",
    "import seaborn as sns"
   ]
  },
  {
   "cell_type": "code",
   "execution_count": 2,
   "metadata": {},
   "outputs": [],
   "source": [
    "%matplotlib inline"
   ]
  },
  {
   "cell_type": "code",
   "execution_count": null,
   "metadata": {},
   "outputs": [],
   "source": []
  },
  {
   "cell_type": "code",
   "execution_count": 804,
   "metadata": {},
   "outputs": [],
   "source": [
    "X = np.zeros((102,102))"
   ]
  },
  {
   "cell_type": "code",
   "execution_count": 805,
   "metadata": {},
   "outputs": [
    {
     "data": {
      "text/plain": [
       "array([[0., 0., 0., ..., 0., 0., 0.],\n",
       "       [0., 0., 0., ..., 0., 0., 0.],\n",
       "       [0., 0., 0., ..., 0., 0., 0.],\n",
       "       ...,\n",
       "       [0., 0., 0., ..., 0., 0., 0.],\n",
       "       [0., 0., 0., ..., 0., 0., 0.],\n",
       "       [0., 0., 0., ..., 0., 0., 0.]])"
      ]
     },
     "execution_count": 805,
     "metadata": {},
     "output_type": "execute_result"
    }
   ],
   "source": [
    "X"
   ]
  },
  {
   "cell_type": "code",
   "execution_count": 806,
   "metadata": {},
   "outputs": [
    {
     "data": {
      "text/plain": [
       "(102, 102)"
      ]
     },
     "execution_count": 806,
     "metadata": {},
     "output_type": "execute_result"
    }
   ],
   "source": [
    "X.shape"
   ]
  },
  {
   "cell_type": "code",
   "execution_count": 807,
   "metadata": {},
   "outputs": [
    {
     "data": {
      "text/plain": [
       "<matplotlib.axes._subplots.AxesSubplot at 0x1a32f02410>"
      ]
     },
     "execution_count": 807,
     "metadata": {},
     "output_type": "execute_result"
    },
    {
     "data": {
      "image/png": "[encoded data removed]",
      "text/plain": [
       "<Figure size 432x288 with 2 Axes>"
      ]
     },
     "metadata": {
      "needs_background": "light"
     },
     "output_type": "display_data"
    }
   ],
   "source": [
    "sns.heatmap(X[1:100][1:100])"
   ]
  },
  {
   "cell_type": "code",
   "execution_count": 808,
   "metadata": {},
   "outputs": [],
   "source": [
    "for i in range(400):\n",
    "    i,j = np.random.randint(1,101), np.random.randint(1,101)\n",
    "    X[i][j] = X[i][j] + 1"
   ]
  },
  {
   "cell_type": "markdown",
   "metadata": {},
   "source": [
    "### Distribucion uniforme"
   ]
  },
  {
   "cell_type": "code",
   "execution_count": 809,
   "metadata": {},
   "outputs": [],
   "source": [
    "def dist_uni(X):\n",
    "    for i in range(400):\n",
    "        i,j = np.random.randint(1,101), np.random.randint(1,101)\n",
    "        X[i][j] = X[i][j] + 1\n",
    "    return X"
   ]
  },
  {
   "cell_type": "code",
   "execution_count": null,
   "metadata": {},
   "outputs": [],
   "source": []
  },
  {
   "cell_type": "code",
   "execution_count": 810,
   "metadata": {},
   "outputs": [],
   "source": [
    "X = dist_uni(X)"
   ]
  },
  {
   "cell_type": "code",
   "execution_count": 811,
   "metadata": {},
   "outputs": [
    {
     "data": {
      "text/plain": [
       "array([[0., 0., 0., ..., 0., 0., 0.],\n",
       "       [0., 0., 0., ..., 1., 0., 0.],\n",
       "       [0., 0., 0., ..., 0., 0., 0.],\n",
       "       ...,\n",
       "       [0., 0., 0., ..., 0., 0., 0.],\n",
       "       [0., 0., 0., ..., 0., 0., 0.],\n",
       "       [0., 0., 0., ..., 0., 0., 0.]])"
      ]
     },
     "execution_count": 811,
     "metadata": {},
     "output_type": "execute_result"
    }
   ],
   "source": [
    "X"
   ]
  },
  {
   "cell_type": "code",
   "execution_count": 812,
   "metadata": {},
   "outputs": [
    {
     "data": {
      "text/plain": [
       "<matplotlib.axes._subplots.AxesSubplot at 0x1a32ebc810>"
      ]
     },
     "execution_count": 812,
     "metadata": {},
     "output_type": "execute_result"
    },
    {
     "data": {
      "image/png": "[encoded data removed]",
      "text/plain": [
       "<Figure size 432x288 with 2 Axes>"
      ]
     },
     "metadata": {
      "needs_background": "light"
     },
     "output_type": "display_data"
    }
   ],
   "source": [
    "sns.heatmap(X[1:101][1:101])"
   ]
  },
  {
   "cell_type": "markdown",
   "metadata": {},
   "source": [
    "### Actualización de Condiciones Periódicas"
   ]
  },
  {
   "cell_type": "code",
   "execution_count": 813,
   "metadata": {},
   "outputs": [],
   "source": [
    "for j in range(1,101):\n",
    "    X[0][j] = X[100][j]\n",
    "    X[101][j] = X[1][j]\n",
    "    X[j][0] = X[j][100]\n",
    "    X[j][101] = X[j][1]"
   ]
  },
  {
   "cell_type": "code",
   "execution_count": 814,
   "metadata": {},
   "outputs": [
    {
     "data": {
      "text/plain": [
       "<matplotlib.axes._subplots.AxesSubplot at 0x1a32601090>"
      ]
     },
     "execution_count": 814,
     "metadata": {},
     "output_type": "execute_result"
    },
    {
     "data": {
      "image/png": "[encoded data removed]",
      "text/plain": [
       "<Figure size 432x288 with 2 Axes>"
      ]
     },
     "metadata": {
      "needs_background": "light"
     },
     "output_type": "display_data"
    }
   ],
   "source": [
    "sns.heatmap(X[:][:])"
   ]
  },
  {
   "cell_type": "code",
   "execution_count": null,
   "metadata": {},
   "outputs": [],
   "source": []
  },
  {
   "cell_type": "code",
   "execution_count": null,
   "metadata": {},
   "outputs": [],
   "source": []
  },
  {
   "cell_type": "markdown",
   "metadata": {},
   "source": [
    "### Ley de Fick"
   ]
  },
  {
   "cell_type": "markdown",
   "metadata": {},
   "source": [
    "El flujo de partículas es proporcional al gradiente de concentración\n",
    "\n",
    "$$J(\\mathbf{x},t) = - D \\nabla c(\\mathbf{x}, t)$$\n",
    "\n",
    "Número de partículas que cruzan, por unidad de área, por unidad de tiempo. Entonces $A J$ es el número de partículas por unidad de tiempo que están atravesando la \"ventana\" de tamaño $A$.\n",
    "\n",
    "Para implementar el algoritmo, debemos calcular la probabilidades por unidad de tiempo de moverse las partículas a regiones contiguas. Para ello, usamos una versión discreta de la ley de Fick\n",
    "\n",
    "$$a(s,d,i,j) =  - A D \\frac{\\left [X(s,i + 1,j)/L^3 - X(s, i,j)/L^3 \\right ]}{L}$$\n",
    "\n",
    "$$[D] = \\frac{L^2}{s}$$\n",
    "\n",
    "en donde $d$ indica la dirección en la que se movería la partícula, en este caso a la derecha; cada partícula tiene 4 grados de libertad. Esto es, aquí la clave de poder considerar la difusión como un procesos análogo a las reacciones químicas (desde el punto de vista probabilístico), es que cada posibilidad de movimiento es análogo o equivalente a la posibilidad de una transmutación química.\n",
    "\n",
    "\n",
    "En un espacio de dos dimensiones, hay 4 posibilidades para cada molécula o partícula; hay que ponderarlas todas"
   ]
  },
  {
   "cell_type": "code",
   "execution_count": null,
   "metadata": {},
   "outputs": [],
   "source": []
  },
  {
   "cell_type": "code",
   "execution_count": 815,
   "metadata": {},
   "outputs": [],
   "source": [
    "D = 1."
   ]
  },
  {
   "cell_type": "code",
   "execution_count": 70,
   "metadata": {},
   "outputs": [],
   "source": [
    "a = np.zeros((4,101,101))"
   ]
  },
  {
   "cell_type": "markdown",
   "metadata": {},
   "source": [
    "### Cálculo de las \"propensiones\" $a(s,d,i,j)$"
   ]
  },
  {
   "cell_type": "code",
   "execution_count": 819,
   "metadata": {},
   "outputs": [],
   "source": [
    "for i in range(1,101):\n",
    "    for j in range(1,101):\n",
    "        a[0][i][j] = D*(X[i][j] - X[i - 1][j])\n",
    "        if a[0][i][j] < 0:\n",
    "            a[0][i][j] = 0\n",
    "        a[1][i][j] = D*(X[i][j] - X[i + 1][j])\n",
    "        if a[1][i][j] < 0:\n",
    "            a[1][i][j] = 0\n",
    "        a[2][i][j] = D*(X[i][j] - X[i][j - 1])\n",
    "        if a[2][i][j] < 0:\n",
    "            a[2][i][j] = 0\n",
    "        a[3][i][j] = D*(X[i][j] - X[i - 1][j + 1])\n",
    "        if a[3][i][j] < 0:\n",
    "            a[3][i][j] = 0"
   ]
  },
  {
   "cell_type": "code",
   "execution_count": null,
   "metadata": {},
   "outputs": [],
   "source": []
  },
  {
   "cell_type": "markdown",
   "metadata": {},
   "source": [
    "### Rutina Montecarlo para el algoritmo de Gillespie"
   ]
  },
  {
   "cell_type": "markdown",
   "metadata": {},
   "source": [
    "$$P(\\tau, \\mu, i, j) = a(\\mu, i, j)\\, \\exp{-[\\sum_{\\mu i j} a(\\mu, i ,j)] \\tau ]}$$\n",
    "\n",
    "$$P(\\tau, \\mu, i, j) = P_1(\\tau) P_2(\\mu, i, j| \\tau)$$\n",
    "\n",
    "$$P_1(\\tau)= \\exp{-[\\sum_{\\mu i j} a(\\mu, i ,j)] \\tau ]}  \\sum_{\\mu i j} a(\\mu, i, j)$$\n",
    "\n",
    "$$P_2(\\mu, i, j| \\tau) = \\frac{a( \\mu, i, j)}{\\sum_{\\mu i j} a(\\mu, i, j)}$$\n",
    "\n",
    "$$P_3(\\mu |\\tau) = \\sum_{i j} P_2(\\mu, i, j | \\tau) = \\frac{\\sum_{i j} a( \\mu, i, j)}{\\sum_{\\mu i j} a(\\mu, i, j)}$$\n",
    "\n",
    "\n",
    "$$P_4(i |\\tau, \\mu) = \\sum_{j} P_2(\\mu* ,i,j|\\tau) = \\sum_{j} \\left [\\frac{a(\\mu,i,j)}{\\sum_{\\mu, i, j} a(\\mu,i,j)}   \\right ]$$\n",
    "\n",
    "$$P_5(j |\\tau, \\mu, i*) = \\sum_{i} P_2(\\mu*,i*,j|\\tau) = \\sum_{i} \\left [\\frac{a(\\mu*,i*,j)}{\\sum_{\\mu, i, j} a(\\mu,i,j)}   \\right ]$$"
   ]
  },
  {
   "cell_type": "code",
   "execution_count": 818,
   "metadata": {},
   "outputs": [],
   "source": [
    "P2 = np.zeros((4,101,101))\n",
    "P3 = np.zeros((4))\n",
    "P4 = np.zeros((4,101))\n",
    "P5 = np.zeros((4,101))"
   ]
  },
  {
   "cell_type": "code",
   "execution_count": null,
   "metadata": {},
   "outputs": [],
   "source": []
  },
  {
   "cell_type": "code",
   "execution_count": null,
   "metadata": {},
   "outputs": [],
   "source": []
  },
  {
   "cell_type": "code",
   "execution_count": 911,
   "metadata": {},
   "outputs": [],
   "source": [
    "def fun_a0(a, d):\n",
    "    a0 = 0\n",
    "    for mu in range(0,4):\n",
    "        for i in range(1,d + 1):\n",
    "            for j in range(1,d + 1):\n",
    "                a0 = a0 + a[mu][i][j]\n",
    "    return a0"
   ]
  },
  {
   "cell_type": "code",
   "execution_count": 912,
   "metadata": {},
   "outputs": [
    {
     "data": {
      "text/plain": [
       "230.0"
      ]
     },
     "execution_count": 912,
     "metadata": {},
     "output_type": "execute_result"
    }
   ],
   "source": [
    "fun_a0(a, 100)"
   ]
  },
  {
   "cell_type": "markdown",
   "metadata": {},
   "source": [
    "### Función de  actualización de las propoensiones $a(\\mu, i, j)$"
   ]
  },
  {
   "cell_type": "code",
   "execution_count": 913,
   "metadata": {},
   "outputs": [],
   "source": [
    "def actualizacion_as(a, X, d):\n",
    "    for i in range(1,d + 1):\n",
    "        for j in range(1,d + 1):\n",
    "            a[0][i][j] =  D*(X[i][j] - X[i - 1][j])\n",
    "            if a[0][i][j] < 0:\n",
    "                a[0][i][j] = 0\n",
    "            a[1][i][j] =  D*(X[i][j] - X[i + 1][j])\n",
    "            if a[1][i][j] < 0:\n",
    "                a[1][i][j] = 0\n",
    "            a[2][i][j] =  D*(X[i][j] - X[i][j - 1])\n",
    "            if a[2][i][j] < 0:\n",
    "                a[2][i][j] = 0\n",
    "            a[3][i][j] =  D*(X[i][j] - X[i][j + 1])\n",
    "            if a[3][i][j] < 0:\n",
    "                a[3][i][j] = 0\n",
    "    return a"
   ]
  },
  {
   "cell_type": "code",
   "execution_count": null,
   "metadata": {},
   "outputs": [],
   "source": []
  },
  {
   "cell_type": "code",
   "execution_count": 566,
   "metadata": {},
   "outputs": [],
   "source": [
    "for mu in range(4):\n",
    "    for i in range(1,101):\n",
    "        for j in range(1,101):\n",
    "            P2[mu][i][j] = a[d][i][j]/a0"
   ]
  },
  {
   "cell_type": "code",
   "execution_count": 92,
   "metadata": {},
   "outputs": [],
   "source": [
    "for mu in range(4):\n",
    "    suma_mu = 0\n",
    "    for i in range(1,101):\n",
    "        for j in range(1,101):\n",
    "            suma_mu = suma_mu + P2[mu][i][j]\n",
    "    P3[mu] = suma_mu"
   ]
  },
  {
   "cell_type": "code",
   "execution_count": 96,
   "metadata": {},
   "outputs": [],
   "source": [
    "for mu in range(4):\n",
    "    for i in range(1,101):\n",
    "        suma_j = 0\n",
    "        for j in range(1,101):\n",
    "            suma_j = suma_j + P2[mu,i,j]\n",
    "        P4[mu][i] = suma_j"
   ]
  },
  {
   "cell_type": "code",
   "execution_count": 97,
   "metadata": {},
   "outputs": [],
   "source": [
    "for mu in range(4):\n",
    "    for j in range(1,101):\n",
    "        suma_i = 0\n",
    "        for i in range(1,101):\n",
    "            suma_i = suma_i + P2[mu,i,j]\n",
    "        P5[mu][j] = suma_i"
   ]
  },
  {
   "cell_type": "markdown",
   "metadata": {},
   "source": [
    "### Función que actualiza las probabilidades"
   ]
  },
  {
   "cell_type": "code",
   "execution_count": null,
   "metadata": {},
   "outputs": [],
   "source": []
  },
  {
   "cell_type": "markdown",
   "metadata": {},
   "source": [
    "## Aquí está el problema..."
   ]
  },
  {
   "cell_type": "markdown",
   "metadata": {},
   "source": [
    "**Las probabilidades $P_4$ y $P_5$ no pueden calcularse hasta que ya se han definido $\\mu$ e $i$ respectivamente**"
   ]
  },
  {
   "cell_type": "code",
   "execution_count": 989,
   "metadata": {},
   "outputs": [],
   "source": [
    "def act_probs(a, a0, P2, P3, d):\n",
    "\n",
    "    for mu in range(4):\n",
    "        for i in range(1,d + 1):\n",
    "            for j in range(1,d + 1):\n",
    "                P2[mu][i][j] = a[mu][i][j]/a0\n",
    "                \n",
    "    for mu in range(4):\n",
    "        suma_mu = 0\n",
    "        for i in range(1,d + 1):\n",
    "            for j in range(1,d + 1):\n",
    "                suma_mu = suma_mu + P2[mu][i][j]\n",
    "        P3[mu] = suma_mu\n",
    "        \n",
    "#    for mu in range(4):\n",
    "#        for i in range(1,d + 1):\n",
    "#            suma_j = 0\n",
    "#            for j in range(1,d + 1):\n",
    "#                suma_j = suma_j + P2[mu,i,j]\n",
    "#            P4[mu][i] = suma_j\n",
    "            \n",
    "#    for mu in range(4):\n",
    "#        for j in range(1,d + 1):\n",
    "#            suma_i = 0\n",
    "#            for i in range(1,d + 1):\n",
    "#                suma_i = suma_i + P2[mu,i,j]\n",
    "#            P5[mu][j] = suma_i\n",
    "            \n",
    "    return P2, P3"
   ]
  },
  {
   "cell_type": "markdown",
   "metadata": {},
   "source": [
    "### Algoritmo de Gillespie generalizado a ambientes anisotrópicos"
   ]
  },
  {
   "cell_type": "markdown",
   "metadata": {},
   "source": [
    "$$\\tau = \\frac{1}{a_0} \\ln{\\left (\\frac{1}{r1}\\right )}$$\n",
    "\n",
    "$$\\sum_{\\nu=1}^{\\mu -1} P_3(\\nu|\\tau) < r2 \\le \\sum_{\\nu=1}^{\\mu} P_3(\\nu|\\tau)$$\n",
    "\n",
    "\n",
    "$$\\sum_{i=1}^{i* -1} P_4(\\nu, i|\\tau) < r3*P_3(\\mu |\\tau) \\le \\sum_{i = 1}^{i*} P_3(\\mu, i|\\tau)$$\n",
    "\n",
    "\n",
    "$$\\sum_{j=1}^{j* -1} P_5(\\nu, j|\\tau) < r4*P_4(i |\\tau, \\mu) \\le \\sum_{j = 1}^{j*} P_5(\\mu, j|\\tau)$$\n",
    "\n",
    "Tenemos que elegir un cuarteto de números $\\tau$, el intervalo de tiempo, $\\mu$ el procesos (reacción-difusión), $i$ el renglón en la mala y $j$ la columna en la malla."
   ]
  },
  {
   "cell_type": "markdown",
   "metadata": {},
   "source": [
    "### Funciones del algoritmo de Gillespie que generan el cuarteto de números para actualizar"
   ]
  },
  {
   "cell_type": "code",
   "execution_count": null,
   "metadata": {},
   "outputs": [],
   "source": []
  },
  {
   "cell_type": "code",
   "execution_count": 992,
   "metadata": {},
   "outputs": [],
   "source": [
    "def fun_mu(P3,r2):\n",
    "    suma_mu = 0.\n",
    "    for nu in range(4):\n",
    "        #print('P3[mu]', P3[nu],'nu',nu)\n",
    "        suma_mu = suma_mu + P3[nu]\n",
    "        #print('Suma_mu', suma_mu,'r2',r2)\n",
    "        if suma_mu >= r2:\n",
    "            return nu\n",
    "    return nu"
   ]
  },
  {
   "cell_type": "code",
   "execution_count": 993,
   "metadata": {},
   "outputs": [],
   "source": [
    "def fun_i(P3,P4,r3,mu):\n",
    "    suma_i = 0\n",
    "    for i_star in range(1,101):\n",
    "        suma_i = suma_i + P4[i_star]\n",
    "        if suma_i >= r3*P3[mu]:\n",
    "            return i_star\n",
    "    return i_star"
   ]
  },
  {
   "cell_type": "code",
   "execution_count": 994,
   "metadata": {},
   "outputs": [],
   "source": [
    "def fun_j(P4,r4,mu,i):\n",
    "    suma_j = 0.\n",
    "    for j_star in range(1,101):\n",
    "        suma_j = suma_j + P2[mu][i][j_star]\n",
    "        if suma_j >= r4*(P4[i]):\n",
    "            return j_star\n",
    "    return j_star"
   ]
  },
  {
   "cell_type": "code",
   "execution_count": null,
   "metadata": {},
   "outputs": [],
   "source": []
  },
  {
   "cell_type": "code",
   "execution_count": null,
   "metadata": {},
   "outputs": [],
   "source": []
  },
  {
   "cell_type": "code",
   "execution_count": 885,
   "metadata": {},
   "outputs": [],
   "source": [
    "chosen_mus = [fun_mu(P3,np.random.rand()) for n in range(1000)]"
   ]
  },
  {
   "cell_type": "code",
   "execution_count": 886,
   "metadata": {},
   "outputs": [
    {
     "data": {
      "text/plain": [
       "Text(0.5, 1.0, \"Distribución de las mu's\")"
      ]
     },
     "execution_count": 886,
     "metadata": {},
     "output_type": "execute_result"
    },
    {
     "data": {
      "image/png": "[encoded data removed]",
      "text/plain": [
       "<Figure size 432x288 with 1 Axes>"
      ]
     },
     "metadata": {
      "needs_background": "light"
     },
     "output_type": "display_data"
    }
   ],
   "source": [
    "plt.plot(chosen_mus)\n",
    "plt.title(\"Distribución de las mu's\")"
   ]
  },
  {
   "cell_type": "code",
   "execution_count": 889,
   "metadata": {
    "scrolled": true
   },
   "outputs": [
    {
     "data": {
      "text/plain": [
       "Text(0.5, 1.0, \"Distribución de las i's\")"
      ]
     },
     "execution_count": 889,
     "metadata": {},
     "output_type": "execute_result"
    },
    {
     "data": {
      "image/png": "[encoded data removed]",
      "text/plain": [
       "<Figure size 432x288 with 1 Axes>"
      ]
     },
     "metadata": {
      "needs_background": "light"
     },
     "output_type": "display_data"
    }
   ],
   "source": [
    "plt.plot([fun_i(P3,P4,np.random.rand(),fun_mu(P3,np.random.rand())) for i in range(1000)])\n",
    "plt.ylim(0,100)\n",
    "plt.title(\"Distribución de las i's\")"
   ]
  },
  {
   "cell_type": "code",
   "execution_count": null,
   "metadata": {},
   "outputs": [],
   "source": []
  },
  {
   "cell_type": "code",
   "execution_count": 890,
   "metadata": {},
   "outputs": [
    {
     "data": {
      "text/plain": [
       "Text(0.5, 1.0, \"Distribución de las j's\")"
      ]
     },
     "execution_count": 890,
     "metadata": {},
     "output_type": "execute_result"
    },
    {
     "data": {
      "image/png": "[encoded data removed]",
      "text/plain": [
       "<Figure size 432x288 with 1 Axes>"
      ]
     },
     "metadata": {
      "needs_background": "light"
     },
     "output_type": "display_data"
    }
   ],
   "source": [
    "plt.plot([fun_j(P3,P5,np.random.rand(),fun_mu(P3,np.random.rand())) for i in range(1000)])\n",
    "plt.ylim(0,100)\n",
    "plt.title(\"Distribución de las j's\")"
   ]
  },
  {
   "cell_type": "code",
   "execution_count": null,
   "metadata": {},
   "outputs": [],
   "source": []
  },
  {
   "cell_type": "code",
   "execution_count": null,
   "metadata": {},
   "outputs": [],
   "source": []
  },
  {
   "cell_type": "markdown",
   "metadata": {},
   "source": [
    "### Actualizacion de la matriz de concentracion"
   ]
  },
  {
   "cell_type": "code",
   "execution_count": 978,
   "metadata": {},
   "outputs": [],
   "source": [
    "def fun_act_dif(X, mu, i, j):\n",
    "    if mu == 0:\n",
    "        X[i,j] = X[i,j] - 1\n",
    "        X[i - 1,j] = X[i - 1,j] + 1\n",
    "    # Difusion hacia abajo    \n",
    "    elif mu == 1:\n",
    "        X[i,j] = X[i,j] - 1\n",
    "        X[i + 1,j] = X[i + 1,j] + 1\n",
    "    # Difusion hacia la izquierda\n",
    "    elif mu == 2:\n",
    "        X[i,j] = X[i,j] - 1\n",
    "        X[i,j - 1] = X[i,j - 1] + 1\n",
    "    # Difusion hacia la derecha\n",
    "    elif mu == 3:\n",
    "        X[i,j] = X[i,j] - 1\n",
    "        X[i,j + 1] = X[i,j + 1] + 1\n",
    "    return X"
   ]
  },
  {
   "cell_type": "code",
   "execution_count": null,
   "metadata": {},
   "outputs": [],
   "source": []
  },
  {
   "cell_type": "code",
   "execution_count": null,
   "metadata": {},
   "outputs": [],
   "source": []
  },
  {
   "cell_type": "code",
   "execution_count": 1006,
   "metadata": {},
   "outputs": [],
   "source": [
    "def paso_montecarlo(X, a, t, P2, P3, d):\n",
    "    \n",
    "    r1 = np.random.rand()\n",
    "    r2 = np.random.rand()\n",
    "    r3 = np.random.rand()\n",
    "    r4 = np.random.rand()\n",
    "    \n",
    "    \n",
    "    # Calculo del peso universal a0\n",
    "    \n",
    "    a0 = fun_a0(a, d)\n",
    "    \n",
    "    #Calculo del intervalo tau\n",
    "    \n",
    "    \n",
    "    tau = (1./a0)*np.log(1/r1)\n",
    "    \n",
    "    #Actualizamos el tiempo\n",
    "                \n",
    "    t = t + tau\n",
    "    \n",
    "    \n",
    "    # Seleccion del procesos de reaccion-difusion\n",
    "    \n",
    "    mu = fun_mu(P3,r2)\n",
    "    \n",
    "        # Aqui se tienen que calcular las probabilidades P4 y P5\n",
    "    \n",
    "    for i in range(1,d + 1):\n",
    "        suma_j = 0\n",
    "        for j in range(1,d + 1):\n",
    "            suma_j = suma_j + P2[mu,i,j]\n",
    "        P4[i] = suma_j\n",
    "        \n",
    "    # Seleccion del renglon de ocurrencia\n",
    "        \n",
    "    i = fun_i(P3,P4,r3,mu)\n",
    "    \n",
    "    \n",
    "    \n",
    "    # Seleccion de la columna de ocurrencia\n",
    "    \n",
    "    j = fun_j(P4,r4,mu,i)\n",
    "    \n",
    "    #print('tau',format(tau, '.4f'),'mu',mu,'i',i,'j',j)\n",
    "    \n",
    "    #print('X[i,j]',X[i][j], 'X[i - 1,j]',X[i - 1][j], 'X[i + 1,j]',X[i + 1][j],#\n",
    "    #      'X[i,j - 1]',X[i][j - 1], 'X[i,j + 1]',X[i][j + 1], 'a(mu,i,j)',a[mu][i][j],#\n",
    "    #      'P2[mu][i][j]',P2[mu][i][j],'P3[mu]',P3[mu], 'P4[mu][i]',P4[i])\n",
    "    \n",
    "    # Actualizamos el vector de concentracion de acuerdo con el proceso elegido\n",
    "\n",
    "    X = fun_act_dif(X, mu, i, j)\n",
    "    \n",
    "    #print('X[i,j]',X[i][j])\n",
    "    \n",
    "    # Actualizamos las condiciones de contorno si se actualizo algun punto de la frontera\n",
    "    \n",
    "    if i == 1 | i == 100 | j == 1 | j == 100:\n",
    "        X = func_act_CC(X)\n",
    "\n",
    "        \n",
    "    # Actualizamos las as de acuerdo al nuevo vector X de concentracion\n",
    "    \n",
    "    a = actualizacion_as(a, X, d)\n",
    "    \n",
    "    # Actualizamos el peso universal a0\n",
    "    \n",
    "    a0 = fun_a0(a, d)\n",
    "    \n",
    "    \n",
    "    # Actualizamos las Ps\n",
    "    \n",
    "    P2, P3 = act_probs(a,a0,P2,P3, d)\n",
    "    \n",
    "\n",
    "    \n",
    "    return t, X, a, P2, P3"
   ]
  },
  {
   "cell_type": "code",
   "execution_count": null,
   "metadata": {},
   "outputs": [],
   "source": []
  },
  {
   "cell_type": "code",
   "execution_count": null,
   "metadata": {},
   "outputs": [],
   "source": []
  },
  {
   "cell_type": "markdown",
   "metadata": {},
   "source": [
    "### Tests"
   ]
  },
  {
   "cell_type": "code",
   "execution_count": null,
   "metadata": {},
   "outputs": [],
   "source": []
  },
  {
   "cell_type": "code",
   "execution_count": 963,
   "metadata": {},
   "outputs": [],
   "source": [
    "X0 = np.zeros((102,102))"
   ]
  },
  {
   "cell_type": "code",
   "execution_count": 964,
   "metadata": {},
   "outputs": [
    {
     "data": {
      "text/plain": [
       "array([[0., 0., 0., ..., 0., 0., 0.],\n",
       "       [0., 0., 0., ..., 0., 0., 0.],\n",
       "       [0., 0., 0., ..., 0., 0., 0.],\n",
       "       ...,\n",
       "       [0., 0., 0., ..., 0., 0., 0.],\n",
       "       [0., 0., 0., ..., 0., 0., 0.],\n",
       "       [0., 0., 0., ..., 0., 0., 0.]])"
      ]
     },
     "execution_count": 964,
     "metadata": {},
     "output_type": "execute_result"
    }
   ],
   "source": [
    "X0"
   ]
  },
  {
   "cell_type": "code",
   "execution_count": 965,
   "metadata": {},
   "outputs": [],
   "source": [
    "for i in range(25,51):\n",
    "    for j in range(25,51):\n",
    "        X0[i][j] = 40"
   ]
  },
  {
   "cell_type": "code",
   "execution_count": 966,
   "metadata": {},
   "outputs": [],
   "source": [
    "def func_act_CC(X0, d):\n",
    "    for j in range(1,d + 1):\n",
    "        X0[0][j] = X0[d][j]\n",
    "        X0[d + 1][j] = X0[1][j]\n",
    "        X0[j][0] = X0[j][d]\n",
    "        X0[j][d + 1] = X0[j][1]\n",
    "    return X0"
   ]
  },
  {
   "cell_type": "code",
   "execution_count": 967,
   "metadata": {},
   "outputs": [],
   "source": [
    "X0 = func_act_CC(X0, 100)"
   ]
  },
  {
   "cell_type": "code",
   "execution_count": 968,
   "metadata": {},
   "outputs": [
    {
     "data": {
      "text/plain": [
       "<matplotlib.axes._subplots.AxesSubplot at 0x1a36fa4710>"
      ]
     },
     "execution_count": 968,
     "metadata": {},
     "output_type": "execute_result"
    },
    {
     "data": {
      "image/png": "[encoded data removed]",
      "text/plain": [
       "<Figure size 432x288 with 2 Axes>"
      ]
     },
     "metadata": {
      "needs_background": "light"
     },
     "output_type": "display_data"
    }
   ],
   "source": [
    "sns.heatmap(X0[1:101][1:101])"
   ]
  },
  {
   "cell_type": "code",
   "execution_count": 970,
   "metadata": {},
   "outputs": [
    {
     "data": {
      "text/plain": [
       "(102, 102)"
      ]
     },
     "execution_count": 970,
     "metadata": {},
     "output_type": "execute_result"
    }
   ],
   "source": [
    "X0.shape"
   ]
  },
  {
   "cell_type": "code",
   "execution_count": 923,
   "metadata": {},
   "outputs": [],
   "source": [
    "a = np.zeros((4,102,102))"
   ]
  },
  {
   "cell_type": "code",
   "execution_count": 924,
   "metadata": {},
   "outputs": [],
   "source": [
    "def actualizacion_as(a, X, d):\n",
    "    for i in range(1,d + 1):\n",
    "        for j in range(1,d + 1):\n",
    "            a[0][i][j] =  D*(X[i][j] - X[i - 1][j])\n",
    "            if a[0][i][j] < 0:\n",
    "                a[0][i][j] = 0\n",
    "            a[1][i][j] =  D*(X[i][j] - X[i + 1][j])\n",
    "            if a[1][i][j] < 0:\n",
    "                a[1][i][j] = 0\n",
    "            a[2][i][j] =  D*(X[i][j] - X[i][j - 1])\n",
    "            if a[2][i][j] < 0:\n",
    "                a[2][i][j] = 0\n",
    "            a[3][i][j] =  D*(X[i][j] - X[i][j + 1])\n",
    "            if a[3][i][j] < 0:\n",
    "                a[3][i][j] = 0\n",
    "    return a"
   ]
  },
  {
   "cell_type": "code",
   "execution_count": null,
   "metadata": {},
   "outputs": [],
   "source": []
  },
  {
   "cell_type": "code",
   "execution_count": 925,
   "metadata": {},
   "outputs": [],
   "source": [
    "a = actualizacion_as(a,X0, 100)"
   ]
  },
  {
   "cell_type": "code",
   "execution_count": 926,
   "metadata": {},
   "outputs": [],
   "source": [
    "a0 = fun_a0(a, 100)"
   ]
  },
  {
   "cell_type": "code",
   "execution_count": 927,
   "metadata": {},
   "outputs": [],
   "source": [
    "P2 = np.zeros((4,102,102))\n",
    "P3 = np.zeros((4))\n",
    "P4 = np.zeros((4,102))\n",
    "P5 = np.zeros((4,102))"
   ]
  },
  {
   "cell_type": "code",
   "execution_count": 930,
   "metadata": {},
   "outputs": [],
   "source": [
    "P2, P3, P4, P5 = act_probs(a,a0,P2,P3,P4,P5,100)"
   ]
  },
  {
   "cell_type": "code",
   "execution_count": 931,
   "metadata": {},
   "outputs": [
    {
     "data": {
      "text/plain": [
       "array([0.25, 0.25, 0.25, 0.25])"
      ]
     },
     "execution_count": 931,
     "metadata": {},
     "output_type": "execute_result"
    }
   ],
   "source": [
    "P3"
   ]
  },
  {
   "cell_type": "code",
   "execution_count": null,
   "metadata": {},
   "outputs": [],
   "source": []
  },
  {
   "cell_type": "code",
   "execution_count": null,
   "metadata": {},
   "outputs": [],
   "source": []
  },
  {
   "cell_type": "code",
   "execution_count": null,
   "metadata": {},
   "outputs": [],
   "source": []
  },
  {
   "cell_type": "code",
   "execution_count": 863,
   "metadata": {},
   "outputs": [],
   "source": [
    "r1 = np.random.rand()\n",
    "r2 = np.random.rand()\n",
    "r3 = np.random.rand()\n",
    "r4 = np.random.rand()\n",
    "\n",
    "mu = fun_mu(P3,r2)\n",
    "    \n",
    "#Calculo del renglon\n",
    "\n",
    "i = fun_i(P3,P4,r3,mu)\n",
    "\n",
    "#Calculo de la columna\n",
    "\n",
    "j = fun_j(P3,P5,r4,mu)"
   ]
  },
  {
   "cell_type": "code",
   "execution_count": null,
   "metadata": {},
   "outputs": [],
   "source": []
  },
  {
   "cell_type": "code",
   "execution_count": 864,
   "metadata": {},
   "outputs": [
    {
     "data": {
      "text/plain": [
       "(0, 25, 33)"
      ]
     },
     "execution_count": 864,
     "metadata": {},
     "output_type": "execute_result"
    }
   ],
   "source": [
    "mu,i,j"
   ]
  },
  {
   "cell_type": "code",
   "execution_count": 856,
   "metadata": {},
   "outputs": [],
   "source": []
  },
  {
   "cell_type": "code",
   "execution_count": null,
   "metadata": {},
   "outputs": [],
   "source": []
  },
  {
   "cell_type": "code",
   "execution_count": null,
   "metadata": {},
   "outputs": [],
   "source": []
  },
  {
   "cell_type": "markdown",
   "metadata": {},
   "source": [
    "#### Está mal actualizada $P_3(\\mu|\\tau)$ porque $a(\\mu,i,j)$ no estaba operando bien"
   ]
  },
  {
   "cell_type": "code",
   "execution_count": null,
   "metadata": {},
   "outputs": [],
   "source": []
  },
  {
   "cell_type": "code",
   "execution_count": 932,
   "metadata": {},
   "outputs": [
    {
     "name": "stdout",
     "output_type": "stream",
     "text": [
      "0.0\n",
      "0.0\n",
      "0.0\n",
      "0.0\n",
      "0.0\n",
      "0.009615384615384616\n",
      "0.009615384615384616\n",
      "0.009615384615384616\n",
      "0.009615384615384616\n",
      "0.009615384615384616\n",
      "0.009615384615384616\n",
      "0.009615384615384616\n",
      "0.009615384615384616\n",
      "0.009615384615384616\n",
      "0.009615384615384616\n",
      "0.009615384615384616\n",
      "0.009615384615384616\n",
      "0.009615384615384616\n",
      "0.009615384615384616\n",
      "0.009615384615384616\n",
      "0.009615384615384616\n",
      "0.009615384615384616\n",
      "0.009615384615384616\n",
      "0.009615384615384616\n",
      "0.009615384615384616\n",
      "0.009615384615384616\n",
      "0.009615384615384616\n",
      "0.009615384615384616\n",
      "0.009615384615384616\n",
      "0.009615384615384616\n",
      "0.009615384615384616\n",
      "0.0\n",
      "0.0\n",
      "0.0\n",
      "0.0\n",
      "0.0\n"
     ]
    }
   ],
   "source": [
    "for i in range(20,56):\n",
    "    print(P2[3][i][50])"
   ]
  },
  {
   "cell_type": "code",
   "execution_count": null,
   "metadata": {},
   "outputs": [],
   "source": []
  },
  {
   "cell_type": "markdown",
   "metadata": {},
   "source": [
    "#### Is it $a(\\mu,i,j)$ well calculated?"
   ]
  },
  {
   "cell_type": "code",
   "execution_count": 933,
   "metadata": {},
   "outputs": [
    {
     "data": {
      "text/plain": [
       "<matplotlib.axes._subplots.AxesSubplot at 0x1a35430310>"
      ]
     },
     "execution_count": 933,
     "metadata": {},
     "output_type": "execute_result"
    },
    {
     "data": {
      "image/png": "[encoded data removed]",
      "text/plain": [
       "<Figure size 432x288 with 2 Axes>"
      ]
     },
     "metadata": {
      "needs_background": "light"
     },
     "output_type": "display_data"
    }
   ],
   "source": [
    "sns.heatmap(a[0][:][:])"
   ]
  },
  {
   "cell_type": "code",
   "execution_count": 934,
   "metadata": {},
   "outputs": [
    {
     "data": {
      "text/plain": [
       "<matplotlib.axes._subplots.AxesSubplot at 0x1a345dc490>"
      ]
     },
     "execution_count": 934,
     "metadata": {},
     "output_type": "execute_result"
    },
    {
     "data": {
      "image/png": "[encoded data removed]",
      "text/plain": [
       "<Figure size 432x288 with 2 Axes>"
      ]
     },
     "metadata": {
      "needs_background": "light"
     },
     "output_type": "display_data"
    }
   ],
   "source": [
    "sns.heatmap(a[1][:][:])"
   ]
  },
  {
   "cell_type": "code",
   "execution_count": 935,
   "metadata": {},
   "outputs": [
    {
     "data": {
      "text/plain": [
       "<matplotlib.axes._subplots.AxesSubplot at 0x1a34935110>"
      ]
     },
     "execution_count": 935,
     "metadata": {},
     "output_type": "execute_result"
    },
    {
     "data": {
      "image/png": "[encoded data removed]",
      "text/plain": [
       "<Figure size 432x288 with 2 Axes>"
      ]
     },
     "metadata": {
      "needs_background": "light"
     },
     "output_type": "display_data"
    }
   ],
   "source": [
    "sns.heatmap(a[2][:][:])"
   ]
  },
  {
   "cell_type": "code",
   "execution_count": 443,
   "metadata": {},
   "outputs": [
    {
     "data": {
      "text/plain": [
       "<matplotlib.axes._subplots.AxesSubplot at 0x1a29bfc390>"
      ]
     },
     "execution_count": 443,
     "metadata": {},
     "output_type": "execute_result"
    },
    {
     "data": {
      "image/png": "[encoded data removed]",
      "text/plain": [
       "<Figure size 432x288 with 2 Axes>"
      ]
     },
     "metadata": {
      "needs_background": "light"
     },
     "output_type": "display_data"
    }
   ],
   "source": [
    "sns.heatmap(a[3][:][:])"
   ]
  },
  {
   "cell_type": "markdown",
   "metadata": {},
   "source": [
    "#### Is not!!!"
   ]
  },
  {
   "cell_type": "code",
   "execution_count": 936,
   "metadata": {},
   "outputs": [
    {
     "data": {
      "text/plain": [
       "<matplotlib.axes._subplots.AxesSubplot at 0x1a35ffb3d0>"
      ]
     },
     "execution_count": 936,
     "metadata": {},
     "output_type": "execute_result"
    },
    {
     "data": {
      "image/png": "[encoded data removed]",
      "text/plain": [
       "<Figure size 432x288 with 2 Axes>"
      ]
     },
     "metadata": {
      "needs_background": "light"
     },
     "output_type": "display_data"
    }
   ],
   "source": [
    "sns.heatmap(a[3][:][:])"
   ]
  },
  {
   "cell_type": "code",
   "execution_count": null,
   "metadata": {},
   "outputs": [],
   "source": []
  },
  {
   "cell_type": "code",
   "execution_count": 937,
   "metadata": {},
   "outputs": [
    {
     "data": {
      "text/plain": [
       "0.009615384615384616"
      ]
     },
     "execution_count": 937,
     "metadata": {},
     "output_type": "execute_result"
    }
   ],
   "source": [
    "P2[0][25][26]"
   ]
  },
  {
   "cell_type": "markdown",
   "metadata": {},
   "source": [
    "#### $P_2(\\mu | \\tau)$ is well calculated...is it!?"
   ]
  },
  {
   "cell_type": "code",
   "execution_count": 938,
   "metadata": {},
   "outputs": [
    {
     "data": {
      "text/plain": [
       "<matplotlib.axes._subplots.AxesSubplot at 0x1a36220610>"
      ]
     },
     "execution_count": 938,
     "metadata": {},
     "output_type": "execute_result"
    },
    {
     "data": {
      "image/png": "[encoded data removed]",
      "text/plain": [
       "<Figure size 432x288 with 2 Axes>"
      ]
     },
     "metadata": {
      "needs_background": "light"
     },
     "output_type": "display_data"
    }
   ],
   "source": [
    "sns.heatmap(P2[0][:][:])"
   ]
  },
  {
   "cell_type": "code",
   "execution_count": 939,
   "metadata": {},
   "outputs": [
    {
     "data": {
      "text/plain": [
       "<matplotlib.axes._subplots.AxesSubplot at 0x1a364425d0>"
      ]
     },
     "execution_count": 939,
     "metadata": {},
     "output_type": "execute_result"
    },
    {
     "data": {
      "image/png": "[encoded data removed]",
      "text/plain": [
       "<Figure size 432x288 with 2 Axes>"
      ]
     },
     "metadata": {
      "needs_background": "light"
     },
     "output_type": "display_data"
    }
   ],
   "source": [
    "sns.heatmap(P2[1][:][:])"
   ]
  },
  {
   "cell_type": "code",
   "execution_count": 940,
   "metadata": {},
   "outputs": [
    {
     "data": {
      "text/plain": [
       "<matplotlib.axes._subplots.AxesSubplot at 0x1a365921d0>"
      ]
     },
     "execution_count": 940,
     "metadata": {},
     "output_type": "execute_result"
    },
    {
     "data": {
      "image/png": "[encoded data removed]",
      "text/plain": [
       "<Figure size 432x288 with 2 Axes>"
      ]
     },
     "metadata": {
      "needs_background": "light"
     },
     "output_type": "display_data"
    }
   ],
   "source": [
    "sns.heatmap(P2[2][:][:])"
   ]
  },
  {
   "cell_type": "code",
   "execution_count": 941,
   "metadata": {},
   "outputs": [
    {
     "data": {
      "text/plain": [
       "<matplotlib.axes._subplots.AxesSubplot at 0x1a3688b550>"
      ]
     },
     "execution_count": 941,
     "metadata": {},
     "output_type": "execute_result"
    },
    {
     "data": {
      "image/png": "[encoded data removed]",
      "text/plain": [
       "<Figure size 432x288 with 2 Axes>"
      ]
     },
     "metadata": {
      "needs_background": "light"
     },
     "output_type": "display_data"
    }
   ],
   "source": [
    "sns.heatmap(P2[3][:][:])"
   ]
  },
  {
   "cell_type": "code",
   "execution_count": 942,
   "metadata": {},
   "outputs": [
    {
     "data": {
      "text/plain": [
       "<matplotlib.axes._subplots.AxesSubplot at 0x1a36aa73d0>"
      ]
     },
     "execution_count": 942,
     "metadata": {},
     "output_type": "execute_result"
    },
    {
     "data": {
      "image/png": "[encoded data removed]",
      "text/plain": [
       "<Figure size 432x288 with 2 Axes>"
      ]
     },
     "metadata": {
      "needs_background": "light"
     },
     "output_type": "display_data"
    }
   ],
   "source": [
    "sns.heatmap(P4)"
   ]
  },
  {
   "cell_type": "code",
   "execution_count": 943,
   "metadata": {
    "scrolled": true
   },
   "outputs": [
    {
     "data": {
      "text/plain": [
       "<matplotlib.axes._subplots.AxesSubplot at 0x1a36542410>"
      ]
     },
     "execution_count": 943,
     "metadata": {},
     "output_type": "execute_result"
    },
    {
     "data": {
      "image/png": "[encoded data removed]",
      "text/plain": [
       "<Figure size 432x288 with 2 Axes>"
      ]
     },
     "metadata": {
      "needs_background": "light"
     },
     "output_type": "display_data"
    }
   ],
   "source": [
    "sns.heatmap(P5)"
   ]
  },
  {
   "cell_type": "code",
   "execution_count": null,
   "metadata": {},
   "outputs": [],
   "source": []
  },
  {
   "cell_type": "code",
   "execution_count": null,
   "metadata": {},
   "outputs": [],
   "source": []
  },
  {
   "cell_type": "code",
   "execution_count": null,
   "metadata": {},
   "outputs": [],
   "source": []
  },
  {
   "cell_type": "code",
   "execution_count": 794,
   "metadata": {},
   "outputs": [],
   "source": [
    "import time"
   ]
  },
  {
   "cell_type": "code",
   "execution_count": 791,
   "metadata": {},
   "outputs": [],
   "source": [
    "X0 = X"
   ]
  },
  {
   "cell_type": "markdown",
   "metadata": {},
   "source": [
    "## Simulación"
   ]
  },
  {
   "cell_type": "code",
   "execution_count": null,
   "metadata": {},
   "outputs": [],
   "source": []
  },
  {
   "cell_type": "code",
   "execution_count": 1012,
   "metadata": {},
   "outputs": [],
   "source": [
    "def nombre(s):\n",
    "    diferencia = 4 - len(str(s))\n",
    "    ceros = '' \n",
    "    for i in range(diferencia):\n",
    "        ceros = ceros + '0'\n",
    "    variable = ceros + str(s)\n",
    "    return variable"
   ]
  },
  {
   "cell_type": "code",
   "execution_count": null,
   "metadata": {},
   "outputs": [],
   "source": []
  },
  {
   "cell_type": "code",
   "execution_count": 1008,
   "metadata": {},
   "outputs": [
    {
     "name": "stdout",
     "output_type": "stream",
     "text": [
      "/Users/adrianovaldesgomez/Documents/Adriano_Programming\r\n"
     ]
    }
   ],
   "source": [
    "!pwd"
   ]
  },
  {
   "cell_type": "code",
   "execution_count": 1009,
   "metadata": {},
   "outputs": [],
   "source": [
    "%mkdir \"Gillespie_Sim_dif_00\""
   ]
  },
  {
   "cell_type": "code",
   "execution_count": 1010,
   "metadata": {},
   "outputs": [
    {
     "name": "stdout",
     "output_type": "stream",
     "text": [
      "/Users/adrianovaldesgomez/Documents/Adriano_Programming/Gillespie_Sim_dif_00\n"
     ]
    }
   ],
   "source": [
    "%cd Gillespie_Sim_dif_00/"
   ]
  },
  {
   "cell_type": "code",
   "execution_count": null,
   "metadata": {},
   "outputs": [],
   "source": []
  },
  {
   "cell_type": "code",
   "execution_count": null,
   "metadata": {},
   "outputs": [],
   "source": []
  },
  {
   "cell_type": "code",
   "execution_count": null,
   "metadata": {},
   "outputs": [],
   "source": []
  },
  {
   "cell_type": "code",
   "execution_count": null,
   "metadata": {},
   "outputs": [],
   "source": []
  },
  {
   "cell_type": "code",
   "execution_count": null,
   "metadata": {},
   "outputs": [
    {
     "data": {
      "image/png": "[encoded data removed]",
      "text/plain": [
       "<Figure size 432x288 with 2 Axes>"
      ]
     },
     "metadata": {
      "needs_background": "light"
     },
     "output_type": "display_data"
    }
   ],
   "source": [
    "start_time = time.time()\n",
    "\n",
    "N_pasos = 3000\n",
    "\n",
    "\n",
    "d = 10\n",
    "\n",
    "# Creamos una condicion inicial; una distribucion de particulas inicial\n",
    "\n",
    "X0 = np.zeros((d + 2, d + 2))\n",
    "\n",
    "for i in range(3,7):\n",
    "    for j in range(3,7):\n",
    "        X0[i][j] = 1\n",
    "\n",
    "\n",
    "# Replicamos las condiciones iniciales en el borde\n",
    "\n",
    "X0 = func_act_CC(X0, d)\n",
    "\n",
    "# Visualizamos la conddicion inicial\n",
    "\n",
    "sns.heatmap(X0)\n",
    "plt.title(\"Condicion inicial\")\n",
    "plt.savefig('Gillespie_Dif_{}.png'.format(nombre(0)))\n",
    "plt.show()\n",
    "\n",
    "# Iniciamos los vetores para las propensiones y probabilidades condicionadas\n",
    "\n",
    "a = np.zeros((4,102,102))\n",
    "P2 = np.zeros((4,102,102))\n",
    "P3 = np.zeros((4))\n",
    "P4 = np.zeros((102))\n",
    "#P5 = np.zeros((4,102))\n",
    "\n",
    "# Iniciamos el tiempo\n",
    "\n",
    "t = 0\n",
    "\n",
    "# Calculamos las propensiones\n",
    "\n",
    "a = actualizacion_as(a,X0, d)\n",
    "\n",
    "# Lista para registrar los momentos de actualizacion\n",
    "\n",
    "tiempos = [0]\n",
    "\n",
    "# Calculo de las probabilidades iniciales\n",
    "\n",
    "P2, P3 = act_probs(a,a0,P2,P3, d)\n",
    "\n",
    "\n",
    "# Bucle Principal Monte Carlo\n",
    "\n",
    "for i in range(0,N_pasos):\n",
    "    t, X0, a, P2, P3 = paso_montecarlo(X0, a, t, P2, P3, d)\n",
    "    tiempos.append(t)\n",
    "    fig = plt.figure()\n",
    "    sns.heatmap(X0)\n",
    "    fig.savefig('Gillespie_Dif_{}.png'.format(nombre(i+1)))\n",
    "    plt.close()\n",
    "    #fig.show()\n",
    "    \n",
    "sns.heatmap(X0)\n",
    "plt.title(\"Condicion final\")\n",
    "plt.show()\n",
    "\n",
    "tiempo_Sim = (time.time() - start_time)/60.\n",
    "\n",
    "print(\"- %s minutos de simulación -\" % (tiempo_Sim))"
   ]
  },
  {
   "cell_type": "code",
   "execution_count": null,
   "metadata": {},
   "outputs": [],
   "source": []
  },
  {
   "cell_type": "code",
   "execution_count": 1015,
   "metadata": {},
   "outputs": [
    {
     "name": "stdout",
     "output_type": "stream",
     "text": [
      "MEncoder 1.3.0-4.2.1 (C) 2000-2016 MPlayer Team\n",
      "224 audio & 451 video codecs\n",
      "\n",
      "WARNING: OUTPUT FILE FORMAT IS _AVI_. See -of help.\n",
      "success: format: 16  data: 0x0 - 0x0\n",
      "MF file format detected.\n",
      "[mf] search expr: *.png\n",
      "[mf] number of files: 462 (3696)\n",
      "[demux_mf] file type was not set! trying 'type=png'...\n",
      "VIDEO:  [MPNG]  0x0  24bpp  25.000 fps    0.0 kbps ( 0.0 kbyte/s)\n",
      "[V] filefmt:16  fourcc:0x474E504D  size:0x0  fps:25.000  ftime:=0.0400\n",
      "Input fps will be interpreted as 20.000 instead.\n",
      "libavcodec version 57.24.102 (internal)\n",
      "Opening video filter: [expand osd=1]\n",
      "Expand: -1 x -1, -1 ; -1, osd: 1, aspect: 0.000000, round: 1\n",
      "==========================================================================\n",
      "Opening video decoder: [ffmpeg] FFmpeg's libavcodec codec family\n",
      "Selected video codec: [ffpng] vfm: ffmpeg (FFmpeg PNG)\n",
      "==========================================================================\n",
      "Could not find matching colorspace - retrying with -vf scale...\n",
      "Opening video filter: [scale]\n",
      "Movie-Aspect is undefined - no prescaling applied.\n",
      "[swscaler @ 0x10ff7c410]bicubic scaler, from rgba to yuv420p using MMXEXT\n",
      "videocodec: libavcodec (432x288 fourcc=3234504d [MP42])\n",
      "[VE_LAVC] High quality encoding selected (non-realtime)!\n",
      "Movie-Aspect is 1.50:1 - prescaling to correct movie aspect.\n",
      "[msmpeg4v2 @ 0x10ff62fe0]AVFrame.format is not set\n",
      "[msmpeg4v2 @ 0x10ff62fe0]AVFrame.width or height is not set\n",
      "Writing header...\n",
      "ODML: vprp aspect is 16384:10922.\n",
      "Writing header...\n",
      "ODML: vprp aspect is 16384:10922.\n",
      "Pos:   0.1s      1f ( 0%)  0.00fps Trem:   0min   0mb  A-V:0.000 [0:0]\n",
      "[msmpeg4v2 @ 0x10ff62fe0]AVFrame.format is not set\n",
      "[msmpeg4v2 @ 0x10ff62fe0]AVFrame.width or height is not set\n",
      "Pos:   0.1s      2f ( 0%)  0.00fps Trem:   0min   0mb  A-V:0.000 [0:0]\n",
      "[msmpeg4v2 @ 0x10ff62fe0]AVFrame.format is not set\n",
      "[msmpeg4v2 @ 0x10ff62fe0]AVFrame.width or height is not set\n",
      "Pos:   0.1s      3f ( 0%)  0.00fps Trem:   0min   0mb  A-V:0.000 [0:0]\n",
      "[msmpeg4v2 @ 0x10ff62fe0]AVFrame.format is not set\n",
      "[msmpeg4v2 @ 0x10ff62fe0]AVFrame.width or height is not set\n",
      "Pos:   0.2s      4f ( 0%)  0.00fps Trem:   0min   0mb  A-V:0.000 [0:0]\n",
      "[msmpeg4v2 @ 0x10ff62fe0]AVFrame.format is not set\n",
      "[msmpeg4v2 @ 0x10ff62fe0]AVFrame.width or height is not set\n",
      "Pos:   0.2s      5f ( 1%)  0.00fps Trem:   0min   1mb  A-V:0.000 [0:0]\n",
      "[msmpeg4v2 @ 0x10ff62fe0]AVFrame.format is not set\n",
      "[msmpeg4v2 @ 0x10ff62fe0]AVFrame.width or height is not set\n",
      "Pos:   0.3s      6f ( 1%)  0.00fps Trem:   0min   1mb  A-V:0.000 [0:0]\n",
      "[msmpeg4v2 @ 0x10ff62fe0]AVFrame.format is not set\n",
      "[msmpeg4v2 @ 0x10ff62fe0]AVFrame.width or height is not set\n",
      "Pos:   0.3s      7f ( 1%)  0.00fps Trem:   0min   1mb  A-V:0.000 [0:0]\n",
      "[msmpeg4v2 @ 0x10ff62fe0]AVFrame.format is not set\n",
      "[msmpeg4v2 @ 0x10ff62fe0]AVFrame.width or height is not set\n",
      "Pos:   0.4s      8f ( 1%)  0.00fps Trem:   0min   2mb  A-V:0.000 [0:0]\n",
      "[msmpeg4v2 @ 0x10ff62fe0]AVFrame.format is not set\n",
      "[msmpeg4v2 @ 0x10ff62fe0]AVFrame.width or height is not set\n",
      "Pos:   0.5s      9f ( 1%)  0.00fps Trem:   0min   2mb  A-V:0.000 [0:0]\n",
      "[msmpeg4v2 @ 0x10ff62fe0]AVFrame.format is not set\n",
      "[msmpeg4v2 @ 0x10ff62fe0]AVFrame.width or height is not set\n",
      "Pos:   0.5s     10f ( 2%)  0.00fps Trem:   0min   1mb  A-V:0.000 [0:0]\n",
      "[msmpeg4v2 @ 0x10ff62fe0]AVFrame.format is not set\n",
      "[msmpeg4v2 @ 0x10ff62fe0]AVFrame.width or height is not set\n",
      "Pos:   0.6s     11f ( 2%)  0.00fps Trem:   0min   1mb  A-V:0.000 [0:0]\n",
      "[msmpeg4v2 @ 0x10ff62fe0]AVFrame.format is not set\n",
      "[msmpeg4v2 @ 0x10ff62fe0]AVFrame.width or height is not set\n",
      "Pos:   0.6s     12f ( 2%)  0.00fps Trem:   0min   1mb  A-V:0.000 [0:0]\n",
      "[msmpeg4v2 @ 0x10ff62fe0]AVFrame.format is not set\n",
      "[msmpeg4v2 @ 0x10ff62fe0]AVFrame.width or height is not set\n",
      "Pos:   0.7s     13f ( 2%)  0.00fps Trem:   0min   1mb  A-V:0.000 [0:0]\n",
      "[msmpeg4v2 @ 0x10ff62fe0]AVFrame.format is not set\n",
      "[msmpeg4v2 @ 0x10ff62fe0]AVFrame.width or height is not set\n",
      "Pos:   0.7s     14f ( 3%)  0.00fps Trem:   0min   0mb  A-V:0.000 [0:0]\n",
      "[msmpeg4v2 @ 0x10ff62fe0]AVFrame.format is not set\n",
      "[msmpeg4v2 @ 0x10ff62fe0]AVFrame.width or height is not set\n",
      "Pos:   0.8s     15f ( 3%)  0.00fps Trem:   0min   0mb  A-V:0.000 [0:0]\n",
      "[msmpeg4v2 @ 0x10ff62fe0]AVFrame.format is not set\n",
      "[msmpeg4v2 @ 0x10ff62fe0]AVFrame.width or height is not set\n",
      "Pos:   0.8s     16f ( 3%)  0.00fps Trem:   0min   0mb  A-V:0.000 [0:0]\n",
      "[msmpeg4v2 @ 0x10ff62fe0]AVFrame.format is not set\n",
      "[msmpeg4v2 @ 0x10ff62fe0]AVFrame.width or height is not set\n",
      "Pos:   0.8s     17f ( 3%)  0.00fps Trem:   0min   0mb  A-V:0.000 [0:0]\n",
      "[msmpeg4v2 @ 0x10ff62fe0]AVFrame.format is not set\n",
      "[msmpeg4v2 @ 0x10ff62fe0]AVFrame.width or height is not set\n",
      "Pos:   0.9s     18f ( 3%)  0.00fps Trem:   0min   0mb  A-V:0.000 [0:0]\n",
      "[msmpeg4v2 @ 0x10ff62fe0]AVFrame.format is not set\n",
      "[msmpeg4v2 @ 0x10ff62fe0]AVFrame.width or height is not set\n",
      "Pos:   0.9s     19f ( 4%)  0.00fps Trem:   0min   0mb  A-V:0.000 [0:0]\n",
      "[msmpeg4v2 @ 0x10ff62fe0]AVFrame.format is not set\n",
      "[msmpeg4v2 @ 0x10ff62fe0]AVFrame.width or height is not set\n",
      "Pos:   1.0s     20f ( 4%)  0.00fps Trem:   0min   0mb  A-V:0.000 [0:0]\n",
      "[msmpeg4v2 @ 0x10ff62fe0]AVFrame.format is not set\n",
      "[msmpeg4v2 @ 0x10ff62fe0]AVFrame.width or height is not set\n",
      "Pos:   1.1s     21f ( 4%)  0.00fps Trem:   0min   0mb  A-V:0.000 [181:0]\n",
      "[msmpeg4v2 @ 0x10ff62fe0]AVFrame.format is not set\n",
      "[msmpeg4v2 @ 0x10ff62fe0]AVFrame.width or height is not set\n",
      "Pos:   1.1s     22f ( 4%)  0.00fps Trem:   0min   0mb  A-V:0.000 [176:0]\n",
      "[msmpeg4v2 @ 0x10ff62fe0]AVFrame.format is not set\n",
      "[msmpeg4v2 @ 0x10ff62fe0]AVFrame.width or height is not set\n",
      "Pos:   1.1s     23f ( 4%)  0.00fps Trem:   0min   0mb  A-V:0.000 [171:0]\n",
      "[msmpeg4v2 @ 0x10ff62fe0]AVFrame.format is not set\n",
      "[msmpeg4v2 @ 0x10ff62fe0]AVFrame.width or height is not set\n",
      "Pos:   1.2s     24f ( 5%)  0.00fps Trem:   0min   0mb  A-V:0.000 [168:0]\n",
      "[msmpeg4v2 @ 0x10ff62fe0]AVFrame.format is not set\n",
      "[msmpeg4v2 @ 0x10ff62fe0]AVFrame.width or height is not set\n",
      "Pos:   1.2s     25f ( 5%)  0.00fps Trem:   0min   0mb  A-V:0.000 [164:0]\n",
      "[msmpeg4v2 @ 0x10ff62fe0]AVFrame.format is not set\n",
      "[msmpeg4v2 @ 0x10ff62fe0]AVFrame.width or height is not set\n",
      "Pos:   1.3s     26f ( 5%)  0.00fps Trem:   0min   0mb  A-V:0.000 [161:0]\n",
      "[msmpeg4v2 @ 0x10ff62fe0]AVFrame.format is not set\n",
      "[msmpeg4v2 @ 0x10ff62fe0]AVFrame.width or height is not set\n",
      "Pos:   1.4s     27f ( 5%)  0.00fps Trem:   0min   0mb  A-V:0.000 [159:0]\n",
      "[msmpeg4v2 @ 0x10ff62fe0]AVFrame.format is not set\n",
      "[msmpeg4v2 @ 0x10ff62fe0]AVFrame.width or height is not set\n",
      "Pos:   1.4s     28f ( 6%)  0.00fps Trem:   0min   0mb  A-V:0.000 [156:0]\n",
      "[msmpeg4v2 @ 0x10ff62fe0]AVFrame.format is not set\n",
      "[msmpeg4v2 @ 0x10ff62fe0]AVFrame.width or height is not set\n",
      "Pos:   1.4s     29f ( 6%)  0.00fps Trem:   0min   0mb  A-V:0.000 [152:0]\n",
      "[msmpeg4v2 @ 0x10ff62fe0]AVFrame.format is not set\n",
      "[msmpeg4v2 @ 0x10ff62fe0]AVFrame.width or height is not set\n",
      "Pos:   1.5s     30f ( 6%)  0.00fps Trem:   0min   0mb  A-V:0.000 [149:0]\n",
      "[msmpeg4v2 @ 0x10ff62fe0]AVFrame.format is not set\n",
      "[msmpeg4v2 @ 0x10ff62fe0]AVFrame.width or height is not set\n",
      "Pos:   1.6s     31f ( 6%)  0.00fps Trem:   0min   0mb  A-V:0.000 [147:0]\n",
      "[msmpeg4v2 @ 0x10ff62fe0]AVFrame.format is not set\n",
      "[msmpeg4v2 @ 0x10ff62fe0]AVFrame.width or height is not set\n",
      "Pos:   1.6s     32f ( 6%)  0.00fps Trem:   0min   0mb  A-V:0.000 [145:0]\n",
      "[msmpeg4v2 @ 0x10ff62fe0]AVFrame.format is not set\n",
      "[msmpeg4v2 @ 0x10ff62fe0]AVFrame.width or height is not set\n",
      "Pos:   1.6s     33f ( 7%)  0.00fps Trem:   0min   0mb  A-V:0.000 [143:0]\n",
      "[msmpeg4v2 @ 0x10ff62fe0]AVFrame.format is not set\n",
      "[msmpeg4v2 @ 0x10ff62fe0]AVFrame.width or height is not set\n",
      "Pos:   1.7s     34f ( 7%)  0.00fps Trem:   0min   0mb  A-V:0.000 [141:0]\n",
      "[msmpeg4v2 @ 0x10ff62fe0]AVFrame.format is not set\n",
      "[msmpeg4v2 @ 0x10ff62fe0]AVFrame.width or height is not set\n",
      "Pos:   1.8s     35f ( 7%)  0.00fps Trem:   0min   0mb  A-V:0.000 [139:0]\n",
      "[msmpeg4v2 @ 0x10ff62fe0]AVFrame.format is not set\n",
      "[msmpeg4v2 @ 0x10ff62fe0]AVFrame.width or height is not set\n",
      "Pos:   1.8s     36f ( 7%)  0.00fps Trem:   0min   0mb  A-V:0.000 [137:0]\n",
      "[msmpeg4v2 @ 0x10ff62fe0]AVFrame.format is not set\n",
      "[msmpeg4v2 @ 0x10ff62fe0]AVFrame.width or height is not set\n",
      "Pos:   1.9s     37f ( 8%)  0.00fps Trem:   0min   0mb  A-V:0.000 [135:0]\n",
      "[msmpeg4v2 @ 0x10ff62fe0]AVFrame.format is not set\n",
      "[msmpeg4v2 @ 0x10ff62fe0]AVFrame.width or height is not set\n",
      "Pos:   1.9s     38f ( 8%)  0.00fps Trem:   0min   0mb  A-V:0.000 [132:0]\n",
      "[msmpeg4v2 @ 0x10ff62fe0]AVFrame.format is not set\n",
      "[msmpeg4v2 @ 0x10ff62fe0]AVFrame.width or height is not set\n",
      "Pos:   1.9s     39f ( 8%)  0.00fps Trem:   0min   0mb  A-V:0.000 [131:0]\n",
      "[msmpeg4v2 @ 0x10ff62fe0]AVFrame.format is not set\n",
      "[msmpeg4v2 @ 0x10ff62fe0]AVFrame.width or height is not set\n"
     ]
    },
    {
     "name": "stdout",
     "output_type": "stream",
     "text": [
      "Pos:   2.0s     40f ( 8%)  0.00fps Trem:   0min   0mb  A-V:0.000 [131:0]\n",
      "[msmpeg4v2 @ 0x10ff62fe0]AVFrame.format is not set\n",
      "[msmpeg4v2 @ 0x10ff62fe0]AVFrame.width or height is not set\n",
      "Pos:   2.0s     41f ( 8%)  0.00fps Trem:   0min   0mb  A-V:0.000 [129:0]\n",
      "[msmpeg4v2 @ 0x10ff62fe0]AVFrame.format is not set\n",
      "[msmpeg4v2 @ 0x10ff62fe0]AVFrame.width or height is not set\n",
      "Pos:   2.1s     42f ( 9%)  0.00fps Trem:   0min   0mb  A-V:0.000 [129:0]\n",
      "[msmpeg4v2 @ 0x10ff62fe0]AVFrame.format is not set\n",
      "[msmpeg4v2 @ 0x10ff62fe0]AVFrame.width or height is not set\n",
      "Pos:   2.1s     43f ( 9%)  0.00fps Trem:   0min   0mb  A-V:0.000 [128:0]\n",
      "[msmpeg4v2 @ 0x10ff62fe0]AVFrame.format is not set\n",
      "[msmpeg4v2 @ 0x10ff62fe0]AVFrame.width or height is not set\n",
      "Pos:   2.2s     44f ( 9%)  0.00fps Trem:   0min   0mb  A-V:0.000 [126:0]\n",
      "[msmpeg4v2 @ 0x10ff62fe0]AVFrame.format is not set\n",
      "[msmpeg4v2 @ 0x10ff62fe0]AVFrame.width or height is not set\n",
      "Pos:   2.2s     45f ( 9%)  0.00fps Trem:   0min   0mb  A-V:0.000 [126:0]\n",
      "[msmpeg4v2 @ 0x10ff62fe0]AVFrame.format is not set\n",
      "[msmpeg4v2 @ 0x10ff62fe0]AVFrame.width or height is not set\n",
      "Pos:   2.3s     46f ( 9%)  0.00fps Trem:   0min   0mb  A-V:0.000 [124:0]\n",
      "[msmpeg4v2 @ 0x10ff62fe0]AVFrame.format is not set\n",
      "[msmpeg4v2 @ 0x10ff62fe0]AVFrame.width or height is not set\n",
      "Pos:   2.4s     47f (10%)  0.00fps Trem:   0min   0mb  A-V:0.000 [123:0]\n",
      "[msmpeg4v2 @ 0x10ff62fe0]AVFrame.format is not set\n",
      "[msmpeg4v2 @ 0x10ff62fe0]AVFrame.width or height is not set\n",
      "Pos:   2.4s     48f (10%)  0.00fps Trem:   0min   0mb  A-V:0.000 [123:0]\n",
      "[msmpeg4v2 @ 0x10ff62fe0]AVFrame.format is not set\n",
      "[msmpeg4v2 @ 0x10ff62fe0]AVFrame.width or height is not set\n",
      "Pos:   2.5s     49f (10%)  0.00fps Trem:   0min   0mb  A-V:0.000 [122:0]\n",
      "[msmpeg4v2 @ 0x10ff62fe0]AVFrame.format is not set\n",
      "[msmpeg4v2 @ 0x10ff62fe0]AVFrame.width or height is not set\n",
      "Pos:   2.5s     50f (10%)  0.00fps Trem:   0min   0mb  A-V:0.000 [121:0]\n",
      "[msmpeg4v2 @ 0x10ff62fe0]AVFrame.format is not set\n",
      "[msmpeg4v2 @ 0x10ff62fe0]AVFrame.width or height is not set\n",
      "Pos:   2.5s     51f (11%)  0.00fps Trem:   0min   0mb  A-V:0.000 [121:0]\n",
      "[msmpeg4v2 @ 0x10ff62fe0]AVFrame.format is not set\n",
      "[msmpeg4v2 @ 0x10ff62fe0]AVFrame.width or height is not set\n",
      "Pos:   2.6s     52f (11%)  0.00fps Trem:   0min   0mb  A-V:0.000 [120:0]\n",
      "[msmpeg4v2 @ 0x10ff62fe0]AVFrame.format is not set\n",
      "[msmpeg4v2 @ 0x10ff62fe0]AVFrame.width or height is not set\n",
      "Pos:   2.6s     53f (11%)  0.00fps Trem:   0min   0mb  A-V:0.000 [119:0]\n",
      "[msmpeg4v2 @ 0x10ff62fe0]AVFrame.format is not set\n",
      "[msmpeg4v2 @ 0x10ff62fe0]AVFrame.width or height is not set\n",
      "Pos:   2.7s     54f (11%)  0.00fps Trem:   0min   0mb  A-V:0.000 [118:0]\n",
      "[msmpeg4v2 @ 0x10ff62fe0]AVFrame.format is not set\n",
      "[msmpeg4v2 @ 0x10ff62fe0]AVFrame.width or height is not set\n",
      "Pos:   2.8s     55f (11%)  0.00fps Trem:   0min   0mb  A-V:0.000 [118:0]\n",
      "[msmpeg4v2 @ 0x10ff62fe0]AVFrame.format is not set\n",
      "[msmpeg4v2 @ 0x10ff62fe0]AVFrame.width or height is not set\n",
      "Pos:   2.8s     56f (12%)  0.00fps Trem:   0min   0mb  A-V:0.000 [116:0]\n",
      "[msmpeg4v2 @ 0x10ff62fe0]AVFrame.format is not set\n",
      "[msmpeg4v2 @ 0x10ff62fe0]AVFrame.width or height is not set\n",
      "Pos:   2.9s     57f (12%)  0.00fps Trem:   0min   0mb  A-V:0.000 [116:0]\n",
      "[msmpeg4v2 @ 0x10ff62fe0]AVFrame.format is not set\n",
      "[msmpeg4v2 @ 0x10ff62fe0]AVFrame.width or height is not set\n",
      "Pos:   2.9s     58f (12%)  0.00fps Trem:   0min   0mb  A-V:0.000 [115:0]\n",
      "[msmpeg4v2 @ 0x10ff62fe0]AVFrame.format is not set\n",
      "[msmpeg4v2 @ 0x10ff62fe0]AVFrame.width or height is not set\n",
      "Pos:   3.0s     59f (12%)  0.00fps Trem:   0min   0mb  A-V:0.000 [115:0]\n",
      "[msmpeg4v2 @ 0x10ff62fe0]AVFrame.format is not set\n",
      "[msmpeg4v2 @ 0x10ff62fe0]AVFrame.width or height is not set\n",
      "Pos:   3.0s     60f (13%)  0.00fps Trem:   0min   0mb  A-V:0.000 [115:0]\n",
      "[msmpeg4v2 @ 0x10ff62fe0]AVFrame.format is not set\n",
      "[msmpeg4v2 @ 0x10ff62fe0]AVFrame.width or height is not set\n",
      "Pos:   3.0s     61f (13%)  0.00fps Trem:   0min   0mb  A-V:0.000 [114:0]\n",
      "[msmpeg4v2 @ 0x10ff62fe0]AVFrame.format is not set\n",
      "[msmpeg4v2 @ 0x10ff62fe0]AVFrame.width or height is not set\n",
      "Pos:   3.1s     62f (13%)  0.00fps Trem:   0min   0mb  A-V:0.000 [113:0]\n",
      "[msmpeg4v2 @ 0x10ff62fe0]AVFrame.format is not set\n",
      "[msmpeg4v2 @ 0x10ff62fe0]AVFrame.width or height is not set\n",
      "Pos:   3.1s     63f (13%)  0.00fps Trem:   0min   0mb  A-V:0.000 [113:0]\n",
      "[msmpeg4v2 @ 0x10ff62fe0]AVFrame.format is not set\n",
      "[msmpeg4v2 @ 0x10ff62fe0]AVFrame.width or height is not set\n",
      "Pos:   3.2s     64f (13%)  0.00fps Trem:   0min   0mb  A-V:0.000 [112:0]\n",
      "[msmpeg4v2 @ 0x10ff62fe0]AVFrame.format is not set\n",
      "[msmpeg4v2 @ 0x10ff62fe0]AVFrame.width or height is not set\n",
      "Pos:   3.2s     65f (14%)  0.00fps Trem:   0min   0mb  A-V:0.000 [111:0]\n",
      "[msmpeg4v2 @ 0x10ff62fe0]AVFrame.format is not set\n",
      "[msmpeg4v2 @ 0x10ff62fe0]AVFrame.width or height is not set\n",
      "Pos:   3.3s     66f (14%)  0.00fps Trem:   0min   0mb  A-V:0.000 [111:0]\n",
      "[msmpeg4v2 @ 0x10ff62fe0]AVFrame.format is not set\n",
      "[msmpeg4v2 @ 0x10ff62fe0]AVFrame.width or height is not set\n",
      "Pos:   3.4s     67f (14%)  0.00fps Trem:   0min   0mb  A-V:0.000 [111:0]\n",
      "[msmpeg4v2 @ 0x10ff62fe0]AVFrame.format is not set\n",
      "[msmpeg4v2 @ 0x10ff62fe0]AVFrame.width or height is not set\n",
      "Pos:   3.4s     68f (14%)  0.00fps Trem:   0min   0mb  A-V:0.000 [110:0]\n",
      "[msmpeg4v2 @ 0x10ff62fe0]AVFrame.format is not set\n",
      "[msmpeg4v2 @ 0x10ff62fe0]AVFrame.width or height is not set\n",
      "Pos:   3.5s     69f (14%)  0.00fps Trem:   0min   0mb  A-V:0.000 [110:0]\n",
      "[msmpeg4v2 @ 0x10ff62fe0]AVFrame.format is not set\n",
      "[msmpeg4v2 @ 0x10ff62fe0]AVFrame.width or height is not set\n",
      "Pos:   3.5s     70f (15%)  0.00fps Trem:   0min   0mb  A-V:0.000 [110:0]\n",
      "[msmpeg4v2 @ 0x10ff62fe0]AVFrame.format is not set\n",
      "[msmpeg4v2 @ 0x10ff62fe0]AVFrame.width or height is not set\n",
      "Pos:   3.5s     71f (15%)  0.00fps Trem:   0min   0mb  A-V:0.000 [109:0]\n",
      "[msmpeg4v2 @ 0x10ff62fe0]AVFrame.format is not set\n",
      "[msmpeg4v2 @ 0x10ff62fe0]AVFrame.width or height is not set\n",
      "Pos:   3.6s     72f (15%)  0.00fps Trem:   0min   0mb  A-V:0.000 [109:0]\n",
      "[msmpeg4v2 @ 0x10ff62fe0]AVFrame.format is not set\n",
      "[msmpeg4v2 @ 0x10ff62fe0]AVFrame.width or height is not set\n",
      "Pos:   3.6s     73f (15%)  0.00fps Trem:   0min   0mb  A-V:0.000 [108:0]\n",
      "[msmpeg4v2 @ 0x10ff62fe0]AVFrame.format is not set\n",
      "[msmpeg4v2 @ 0x10ff62fe0]AVFrame.width or height is not set\n",
      "Pos:   3.7s     74f (16%)  0.00fps Trem:   0min   0mb  A-V:0.000 [107:0]\n",
      "[msmpeg4v2 @ 0x10ff62fe0]AVFrame.format is not set\n",
      "[msmpeg4v2 @ 0x10ff62fe0]AVFrame.width or height is not set\n",
      "Pos:   3.8s     75f (16%)  0.00fps Trem:   0min   0mb  A-V:0.000 [107:0]\n",
      "[msmpeg4v2 @ 0x10ff62fe0]AVFrame.format is not set\n",
      "[msmpeg4v2 @ 0x10ff62fe0]AVFrame.width or height is not set\n",
      "Pos:   3.8s     76f (16%)  0.00fps Trem:   0min   0mb  A-V:0.000 [107:0]\n",
      "[msmpeg4v2 @ 0x10ff62fe0]AVFrame.format is not set\n",
      "[msmpeg4v2 @ 0x10ff62fe0]AVFrame.width or height is not set\n",
      "Pos:   3.9s     77f (16%)  0.00fps Trem:   0min   0mb  A-V:0.000 [106:0]\n",
      "[msmpeg4v2 @ 0x10ff62fe0]AVFrame.format is not set\n",
      "[msmpeg4v2 @ 0x10ff62fe0]AVFrame.width or height is not set\n",
      "Pos:   3.9s     78f (16%)  0.00fps Trem:   0min   0mb  A-V:0.000 [106:0]\n",
      "[msmpeg4v2 @ 0x10ff62fe0]AVFrame.format is not set\n",
      "[msmpeg4v2 @ 0x10ff62fe0]AVFrame.width or height is not set\n",
      "Pos:   4.0s     79f (17%)  0.00fps Trem:   0min   0mb  A-V:0.000 [105:0]\n",
      "[msmpeg4v2 @ 0x10ff62fe0]AVFrame.format is not set\n",
      "[msmpeg4v2 @ 0x10ff62fe0]AVFrame.width or height is not set\n",
      "Pos:   4.0s     80f (17%)  0.00fps Trem:   0min   0mb  A-V:0.000 [105:0]\n",
      "[msmpeg4v2 @ 0x10ff62fe0]AVFrame.format is not set\n",
      "[msmpeg4v2 @ 0x10ff62fe0]AVFrame.width or height is not set\n",
      "Pos:   4.0s     81f (17%)  0.00fps Trem:   0min   0mb  A-V:0.000 [104:0]\n",
      "[msmpeg4v2 @ 0x10ff62fe0]AVFrame.format is not set\n",
      "[msmpeg4v2 @ 0x10ff62fe0]AVFrame.width or height is not set\n",
      "Pos:   4.1s     82f (17%)  0.00fps Trem:   0min   0mb  A-V:0.000 [104:0]\n",
      "[msmpeg4v2 @ 0x10ff62fe0]AVFrame.format is not set\n",
      "[msmpeg4v2 @ 0x10ff62fe0]AVFrame.width or height is not set\n",
      "Pos:   4.2s     83f (18%)  0.00fps Trem:   0min   0mb  A-V:0.000 [103:0]\n",
      "[msmpeg4v2 @ 0x10ff62fe0]AVFrame.format is not set\n",
      "[msmpeg4v2 @ 0x10ff62fe0]AVFrame.width or height is not set\n",
      "Pos:   4.2s     84f (18%)  0.00fps Trem:   0min   0mb  A-V:0.000 [103:0]\n",
      "[msmpeg4v2 @ 0x10ff62fe0]AVFrame.format is not set\n",
      "[msmpeg4v2 @ 0x10ff62fe0]AVFrame.width or height is not set\n"
     ]
    },
    {
     "name": "stdout",
     "output_type": "stream",
     "text": [
      "Pos:   4.2s     85f (18%)  0.00fps Trem:   0min   0mb  A-V:0.000 [103:0]\n",
      "[msmpeg4v2 @ 0x10ff62fe0]AVFrame.format is not set\n",
      "[msmpeg4v2 @ 0x10ff62fe0]AVFrame.width or height is not set\n",
      "Pos:   4.3s     86f (18%)  0.00fps Trem:   0min   0mb  A-V:0.000 [103:0]\n",
      "[msmpeg4v2 @ 0x10ff62fe0]AVFrame.format is not set\n",
      "[msmpeg4v2 @ 0x10ff62fe0]AVFrame.width or height is not set\n",
      "Pos:   4.3s     87f (18%)  0.00fps Trem:   0min   0mb  A-V:0.000 [102:0]\n",
      "[msmpeg4v2 @ 0x10ff62fe0]AVFrame.format is not set\n",
      "[msmpeg4v2 @ 0x10ff62fe0]AVFrame.width or height is not set\n",
      "Pos:   4.4s     88f (19%)  0.00fps Trem:   0min   0mb  A-V:0.000 [102:0]\n",
      "[msmpeg4v2 @ 0x10ff62fe0]AVFrame.format is not set\n",
      "[msmpeg4v2 @ 0x10ff62fe0]AVFrame.width or height is not set\n",
      "Pos:   4.5s     89f (19%)  0.00fps Trem:   0min   0mb  A-V:0.000 [101:0]\n",
      "[msmpeg4v2 @ 0x10ff62fe0]AVFrame.format is not set\n",
      "[msmpeg4v2 @ 0x10ff62fe0]AVFrame.width or height is not set\n",
      "Pos:   4.5s     90f (19%)  0.00fps Trem:   0min   0mb  A-V:0.000 [101:0]\n",
      "[msmpeg4v2 @ 0x10ff62fe0]AVFrame.format is not set\n",
      "[msmpeg4v2 @ 0x10ff62fe0]AVFrame.width or height is not set\n",
      "Pos:   4.5s     91f (19%)  0.00fps Trem:   0min   0mb  A-V:0.000 [101:0]\n",
      "[msmpeg4v2 @ 0x10ff62fe0]AVFrame.format is not set\n",
      "[msmpeg4v2 @ 0x10ff62fe0]AVFrame.width or height is not set\n",
      "Pos:   4.6s     92f (19%)  0.00fps Trem:   0min   0mb  A-V:0.000 [101:0]\n",
      "[msmpeg4v2 @ 0x10ff62fe0]AVFrame.format is not set\n",
      "[msmpeg4v2 @ 0x10ff62fe0]AVFrame.width or height is not set\n",
      "Pos:   4.7s     93f (20%)  0.00fps Trem:   0min   0mb  A-V:0.000 [101:0]\n",
      "[msmpeg4v2 @ 0x10ff62fe0]AVFrame.format is not set\n",
      "[msmpeg4v2 @ 0x10ff62fe0]AVFrame.width or height is not set\n",
      "Pos:   4.7s     94f (20%)  0.00fps Trem:   0min   0mb  A-V:0.000 [100:0]\n",
      "[msmpeg4v2 @ 0x10ff62fe0]AVFrame.format is not set\n",
      "[msmpeg4v2 @ 0x10ff62fe0]AVFrame.width or height is not set\n",
      "Pos:   4.8s     95f (20%)  0.00fps Trem:   0min   0mb  A-V:0.000 [100:0]\n",
      "[msmpeg4v2 @ 0x10ff62fe0]AVFrame.format is not set\n",
      "[msmpeg4v2 @ 0x10ff62fe0]AVFrame.width or height is not set\n",
      "Pos:   4.8s     96f (20%)  0.00fps Trem:   0min   0mb  A-V:0.000 [99:0]\n",
      "[msmpeg4v2 @ 0x10ff62fe0]AVFrame.format is not set\n",
      "[msmpeg4v2 @ 0x10ff62fe0]AVFrame.width or height is not set\n",
      "Pos:   4.8s     97f (21%)  0.00fps Trem:   0min   0mb  A-V:0.000 [99:0]\n",
      "[msmpeg4v2 @ 0x10ff62fe0]AVFrame.format is not set\n",
      "[msmpeg4v2 @ 0x10ff62fe0]AVFrame.width or height is not set\n",
      "Pos:   4.9s     98f (21%)  0.00fps Trem:   0min   0mb  A-V:0.000 [99:0]\n",
      "[msmpeg4v2 @ 0x10ff62fe0]AVFrame.format is not set\n",
      "[msmpeg4v2 @ 0x10ff62fe0]AVFrame.width or height is not set\n",
      "Pos:   5.0s     99f (21%)  0.00fps Trem:   0min   0mb  A-V:0.000 [99:0]\n",
      "[msmpeg4v2 @ 0x10ff62fe0]AVFrame.format is not set\n",
      "[msmpeg4v2 @ 0x10ff62fe0]AVFrame.width or height is not set\n",
      "Pos:   5.0s    100f (21%)  0.00fps Trem:   0min   0mb  A-V:0.000 [99:0]\n",
      "[msmpeg4v2 @ 0x10ff62fe0]AVFrame.format is not set\n",
      "[msmpeg4v2 @ 0x10ff62fe0]AVFrame.width or height is not set\n",
      "Pos:   5.0s    101f (21%)  0.00fps Trem:   0min   0mb  A-V:0.000 [98:0]\n",
      "[msmpeg4v2 @ 0x10ff62fe0]AVFrame.format is not set\n",
      "[msmpeg4v2 @ 0x10ff62fe0]AVFrame.width or height is not set\n",
      "Pos:   5.1s    102f (22%)  0.00fps Trem:   0min   0mb  A-V:0.000 [98:0]\n",
      "[msmpeg4v2 @ 0x10ff62fe0]AVFrame.format is not set\n",
      "[msmpeg4v2 @ 0x10ff62fe0]AVFrame.width or height is not set\n",
      "Pos:   5.2s    103f (22%)  0.00fps Trem:   0min   0mb  A-V:0.000 [98:0]\n",
      "[msmpeg4v2 @ 0x10ff62fe0]AVFrame.format is not set\n",
      "[msmpeg4v2 @ 0x10ff62fe0]AVFrame.width or height is not set\n",
      "Pos:   5.2s    104f (22%)  0.00fps Trem:   0min   0mb  A-V:0.000 [97:0]\n",
      "[msmpeg4v2 @ 0x10ff62fe0]AVFrame.format is not set\n",
      "[msmpeg4v2 @ 0x10ff62fe0]AVFrame.width or height is not set\n",
      "Pos:   5.2s    105f (22%)  0.00fps Trem:   0min   0mb  A-V:0.000 [97:0]\n",
      "[msmpeg4v2 @ 0x10ff62fe0]AVFrame.format is not set\n",
      "[msmpeg4v2 @ 0x10ff62fe0]AVFrame.width or height is not set\n",
      "Pos:   5.3s    106f (22%)  0.00fps Trem:   0min   0mb  A-V:0.000 [96:0]\n",
      "[msmpeg4v2 @ 0x10ff62fe0]AVFrame.format is not set\n",
      "[msmpeg4v2 @ 0x10ff62fe0]AVFrame.width or height is not set\n",
      "Pos:   5.3s    107f (23%)  0.00fps Trem:   0min   0mb  A-V:0.000 [96:0]\n",
      "[msmpeg4v2 @ 0x10ff62fe0]AVFrame.format is not set\n",
      "[msmpeg4v2 @ 0x10ff62fe0]AVFrame.width or height is not set\n",
      "Pos:   5.4s    108f (23%)  0.00fps Trem:   0min   0mb  A-V:0.000 [96:0]\n",
      "[msmpeg4v2 @ 0x10ff62fe0]AVFrame.format is not set\n",
      "[msmpeg4v2 @ 0x10ff62fe0]AVFrame.width or height is not set\n",
      "Pos:   5.5s    109f (23%)  0.00fps Trem:   0min   0mb  A-V:0.000 [96:0]\n",
      "[msmpeg4v2 @ 0x10ff62fe0]AVFrame.format is not set\n",
      "[msmpeg4v2 @ 0x10ff62fe0]AVFrame.width or height is not set\n",
      "Pos:   5.5s    110f (23%)  0.00fps Trem:   0min   0mb  A-V:0.000 [96:0]\n",
      "[msmpeg4v2 @ 0x10ff62fe0]AVFrame.format is not set\n",
      "[msmpeg4v2 @ 0x10ff62fe0]AVFrame.width or height is not set\n",
      "Pos:   5.5s    111f (24%)  0.00fps Trem:   0min   0mb  A-V:0.000 [96:0]\n",
      "[msmpeg4v2 @ 0x10ff62fe0]AVFrame.format is not set\n",
      "[msmpeg4v2 @ 0x10ff62fe0]AVFrame.width or height is not set\n",
      "Pos:   5.6s    112f (24%)  0.00fps Trem:   0min   0mb  A-V:0.000 [95:0]\n",
      "[msmpeg4v2 @ 0x10ff62fe0]AVFrame.format is not set\n",
      "[msmpeg4v2 @ 0x10ff62fe0]AVFrame.width or height is not set\n",
      "Pos:   5.7s    113f (24%)  0.00fps Trem:   0min   0mb  A-V:0.000 [95:0]\n",
      "[msmpeg4v2 @ 0x10ff62fe0]AVFrame.format is not set\n",
      "[msmpeg4v2 @ 0x10ff62fe0]AVFrame.width or height is not set\n",
      "Pos:   5.7s    114f (24%)  0.00fps Trem:   0min   0mb  A-V:0.000 [95:0]\n",
      "[msmpeg4v2 @ 0x10ff62fe0]AVFrame.format is not set\n",
      "[msmpeg4v2 @ 0x10ff62fe0]AVFrame.width or height is not set\n",
      "Pos:   5.8s    115f (24%)  0.00fps Trem:   0min   0mb  A-V:0.000 [95:0]\n",
      "[msmpeg4v2 @ 0x10ff62fe0]AVFrame.format is not set\n",
      "[msmpeg4v2 @ 0x10ff62fe0]AVFrame.width or height is not set\n",
      "Pos:   5.8s    116f (25%)  0.00fps Trem:   0min   0mb  A-V:0.000 [94:0]\n",
      "[msmpeg4v2 @ 0x10ff62fe0]AVFrame.format is not set\n",
      "[msmpeg4v2 @ 0x10ff62fe0]AVFrame.width or height is not set\n",
      "Pos:   5.8s    117f (25%)  0.00fps Trem:   0min   0mb  A-V:0.000 [94:0]\n",
      "[msmpeg4v2 @ 0x10ff62fe0]AVFrame.format is not set\n",
      "[msmpeg4v2 @ 0x10ff62fe0]AVFrame.width or height is not set\n",
      "Pos:   5.9s    118f (25%)  0.00fps Trem:   0min   0mb  A-V:0.000 [95:0]\n",
      "[msmpeg4v2 @ 0x10ff62fe0]AVFrame.format is not set\n",
      "[msmpeg4v2 @ 0x10ff62fe0]AVFrame.width or height is not set\n",
      "Pos:   6.0s    119f (25%)  0.00fps Trem:   0min   0mb  A-V:0.000 [95:0]\n",
      "[msmpeg4v2 @ 0x10ff62fe0]AVFrame.format is not set\n",
      "[msmpeg4v2 @ 0x10ff62fe0]AVFrame.width or height is not set\n",
      "Pos:   6.0s    120f (26%)  0.00fps Trem:   0min   0mb  A-V:0.000 [94:0]\n",
      "[msmpeg4v2 @ 0x10ff62fe0]AVFrame.format is not set\n",
      "[msmpeg4v2 @ 0x10ff62fe0]AVFrame.width or height is not set\n",
      "Pos:   6.0s    121f (26%)  0.00fps Trem:   0min   0mb  A-V:0.000 [94:0]\n",
      "[msmpeg4v2 @ 0x10ff62fe0]AVFrame.format is not set\n",
      "[msmpeg4v2 @ 0x10ff62fe0]AVFrame.width or height is not set\n",
      "Pos:   6.1s    122f (26%)  0.00fps Trem:   0min   0mb  A-V:0.000 [94:0]\n",
      "[msmpeg4v2 @ 0x10ff62fe0]AVFrame.format is not set\n",
      "[msmpeg4v2 @ 0x10ff62fe0]AVFrame.width or height is not set\n",
      "Pos:   6.2s    123f (26%)  0.00fps Trem:   0min   0mb  A-V:0.000 [94:0]\n",
      "[msmpeg4v2 @ 0x10ff62fe0]AVFrame.format is not set\n",
      "[msmpeg4v2 @ 0x10ff62fe0]AVFrame.width or height is not set\n",
      "Pos:   6.2s    124f (26%)  0.00fps Trem:   0min   0mb  A-V:0.000 [93:0]\n",
      "[msmpeg4v2 @ 0x10ff62fe0]AVFrame.format is not set\n",
      "[msmpeg4v2 @ 0x10ff62fe0]AVFrame.width or height is not set\n",
      "Pos:   6.2s    125f (27%)  0.00fps Trem:   0min   0mb  A-V:0.000 [93:0]\n",
      "[msmpeg4v2 @ 0x10ff62fe0]AVFrame.format is not set\n",
      "[msmpeg4v2 @ 0x10ff62fe0]AVFrame.width or height is not set\n",
      "Pos:   6.3s    126f (27%)  0.00fps Trem:   0min   0mb  A-V:0.000 [93:0]\n",
      "[msmpeg4v2 @ 0x10ff62fe0]AVFrame.format is not set\n",
      "[msmpeg4v2 @ 0x10ff62fe0]AVFrame.width or height is not set\n",
      "Pos:   6.3s    127f (27%)  0.00fps Trem:   0min   0mb  A-V:0.000 [93:0]\n",
      "[msmpeg4v2 @ 0x10ff62fe0]AVFrame.format is not set\n",
      "[msmpeg4v2 @ 0x10ff62fe0]AVFrame.width or height is not set\n",
      "Pos:   6.4s    128f (27%)  0.00fps Trem:   0min   0mb  A-V:0.000 [93:0]\n",
      "[msmpeg4v2 @ 0x10ff62fe0]AVFrame.format is not set\n",
      "[msmpeg4v2 @ 0x10ff62fe0]AVFrame.width or height is not set\n",
      "Pos:   6.5s    129f (27%)  0.00fps Trem:   0min   0mb  A-V:0.000 [93:0]\n",
      "[msmpeg4v2 @ 0x10ff62fe0]AVFrame.format is not set\n",
      "[msmpeg4v2 @ 0x10ff62fe0]AVFrame.width or height is not set\n",
      "Pos:   6.5s    130f (28%)  0.00fps Trem:   0min   0mb  A-V:0.000 [92:0]\n",
      "[msmpeg4v2 @ 0x10ff62fe0]AVFrame.format is not set\n",
      "[msmpeg4v2 @ 0x10ff62fe0]AVFrame.width or height is not set\n",
      "Pos:   6.5s    131f (28%)  0.00fps Trem:   0min   0mb  A-V:0.000 [92:0]\n",
      "[msmpeg4v2 @ 0x10ff62fe0]AVFrame.format is not set\n",
      "[msmpeg4v2 @ 0x10ff62fe0]AVFrame.width or height is not set\n",
      "Pos:   6.6s    132f (28%)  0.00fps Trem:   0min   0mb  A-V:0.000 [92:0]\n",
      "[msmpeg4v2 @ 0x10ff62fe0]AVFrame.format is not set\n",
      "[msmpeg4v2 @ 0x10ff62fe0]AVFrame.width or height is not set\n",
      "Pos:   6.7s    133f (28%)  0.00fps Trem:   0min   0mb  A-V:0.000 [108:0]\n",
      "[msmpeg4v2 @ 0x10ff62fe0]AVFrame.format is not set\n",
      "[msmpeg4v2 @ 0x10ff62fe0]AVFrame.width or height is not set\n",
      "Pos:   6.7s    134f (29%)  0.00fps Trem:   0min   0mb  A-V:0.000 [109:0]\n",
      "[msmpeg4v2 @ 0x10ff62fe0]AVFrame.format is not set\n",
      "[msmpeg4v2 @ 0x10ff62fe0]AVFrame.width or height is not set\n",
      "Pos:   6.8s    135f (29%)  0.00fps Trem:   0min   0mb  A-V:0.000 [109:0]\n",
      "[msmpeg4v2 @ 0x10ff62fe0]AVFrame.format is not set\n",
      "[msmpeg4v2 @ 0x10ff62fe0]AVFrame.width or height is not set\n",
      "Pos:   6.8s    136f (29%)  0.00fps Trem:   0min   0mb  A-V:0.000 [108:0]\n",
      "[msmpeg4v2 @ 0x10ff62fe0]AVFrame.format is not set\n",
      "[msmpeg4v2 @ 0x10ff62fe0]AVFrame.width or height is not set\n"
     ]
    },
    {
     "name": "stdout",
     "output_type": "stream",
     "text": [
      "Pos:   6.8s    137f (29%)  0.00fps Trem:   0min   0mb  A-V:0.000 [108:0]\n",
      "[msmpeg4v2 @ 0x10ff62fe0]AVFrame.format is not set\n",
      "[msmpeg4v2 @ 0x10ff62fe0]AVFrame.width or height is not set\n",
      "Pos:   6.9s    138f (29%)  0.00fps Trem:   0min   0mb  A-V:0.000 [108:0]\n",
      "[msmpeg4v2 @ 0x10ff62fe0]AVFrame.format is not set\n",
      "[msmpeg4v2 @ 0x10ff62fe0]AVFrame.width or height is not set\n",
      "Pos:   7.0s    139f (30%)  0.00fps Trem:   0min   0mb  A-V:0.000 [107:0]\n",
      "[msmpeg4v2 @ 0x10ff62fe0]AVFrame.format is not set\n",
      "[msmpeg4v2 @ 0x10ff62fe0]AVFrame.width or height is not set\n",
      "Pos:   7.0s    140f (30%)  0.00fps Trem:   0min   0mb  A-V:0.000 [107:0]\n",
      "[msmpeg4v2 @ 0x10ff62fe0]AVFrame.format is not set\n",
      "[msmpeg4v2 @ 0x10ff62fe0]AVFrame.width or height is not set\n",
      "Pos:   7.0s    141f (30%)  0.00fps Trem:   0min   0mb  A-V:0.000 [107:0]\n",
      "[msmpeg4v2 @ 0x10ff62fe0]AVFrame.format is not set\n",
      "[msmpeg4v2 @ 0x10ff62fe0]AVFrame.width or height is not set\n",
      "Pos:   7.1s    142f (30%)  0.00fps Trem:   0min   0mb  A-V:0.000 [107:0]\n",
      "[msmpeg4v2 @ 0x10ff62fe0]AVFrame.format is not set\n",
      "[msmpeg4v2 @ 0x10ff62fe0]AVFrame.width or height is not set\n",
      "Pos:   7.2s    143f (31%)  0.00fps Trem:   0min   0mb  A-V:0.000 [107:0]\n",
      "[msmpeg4v2 @ 0x10ff62fe0]AVFrame.format is not set\n",
      "[msmpeg4v2 @ 0x10ff62fe0]AVFrame.width or height is not set\n",
      "Pos:   7.2s    144f (31%)  0.00fps Trem:   0min   0mb  A-V:0.000 [107:0]\n",
      "[msmpeg4v2 @ 0x10ff62fe0]AVFrame.format is not set\n",
      "[msmpeg4v2 @ 0x10ff62fe0]AVFrame.width or height is not set\n",
      "Pos:   7.2s    145f (31%)  0.00fps Trem:   0min   0mb  A-V:0.000 [107:0]\n",
      "[msmpeg4v2 @ 0x10ff62fe0]AVFrame.format is not set\n",
      "[msmpeg4v2 @ 0x10ff62fe0]AVFrame.width or height is not set\n",
      "Pos:   7.3s    146f (31%)  0.00fps Trem:   0min   0mb  A-V:0.000 [107:0]\n",
      "[msmpeg4v2 @ 0x10ff62fe0]AVFrame.format is not set\n",
      "[msmpeg4v2 @ 0x10ff62fe0]AVFrame.width or height is not set\n",
      "Pos:   7.3s    147f (31%)  0.00fps Trem:   0min   0mb  A-V:0.000 [106:0]\n",
      "[msmpeg4v2 @ 0x10ff62fe0]AVFrame.format is not set\n",
      "[msmpeg4v2 @ 0x10ff62fe0]AVFrame.width or height is not set\n",
      "Pos:   7.4s    148f (32%)  0.00fps Trem:   0min   0mb  A-V:0.000 [106:0]\n",
      "[msmpeg4v2 @ 0x10ff62fe0]AVFrame.format is not set\n",
      "[msmpeg4v2 @ 0x10ff62fe0]AVFrame.width or height is not set\n",
      "Pos:   7.5s    149f (32%)  0.00fps Trem:   0min   0mb  A-V:0.000 [106:0]\n",
      "[msmpeg4v2 @ 0x10ff62fe0]AVFrame.format is not set\n",
      "[msmpeg4v2 @ 0x10ff62fe0]AVFrame.width or height is not set\n",
      "Pos:   7.5s    150f (32%)  0.00fps Trem:   0min   0mb  A-V:0.000 [106:0]\n",
      "[msmpeg4v2 @ 0x10ff62fe0]AVFrame.format is not set\n",
      "[msmpeg4v2 @ 0x10ff62fe0]AVFrame.width or height is not set\n",
      "Pos:   7.5s    151f (32%)  0.00fps Trem:   0min   0mb  A-V:0.000 [105:0]\n",
      "[msmpeg4v2 @ 0x10ff62fe0]AVFrame.format is not set\n",
      "[msmpeg4v2 @ 0x10ff62fe0]AVFrame.width or height is not set\n",
      "Pos:   7.6s    152f (32%)  0.00fps Trem:   0min   0mb  A-V:0.000 [106:0]\n",
      "[msmpeg4v2 @ 0x10ff62fe0]AVFrame.format is not set\n",
      "[msmpeg4v2 @ 0x10ff62fe0]AVFrame.width or height is not set\n",
      "Pos:   7.7s    153f (33%)  0.00fps Trem:   0min   0mb  A-V:0.000 [105:0]\n",
      "[msmpeg4v2 @ 0x10ff62fe0]AVFrame.format is not set\n",
      "[msmpeg4v2 @ 0x10ff62fe0]AVFrame.width or height is not set\n",
      "Pos:   7.7s    154f (33%) 153.85fps Trem:   0min   0mb  A-V:0.000 [105:0]\n",
      "[msmpeg4v2 @ 0x10ff62fe0]AVFrame.format is not set\n",
      "[msmpeg4v2 @ 0x10ff62fe0]AVFrame.width or height is not set\n",
      "Pos:   7.8s    155f (33%) 153.92fps Trem:   0min   0mb  A-V:0.000 [105:0]\n",
      "[msmpeg4v2 @ 0x10ff62fe0]AVFrame.format is not set\n",
      "[msmpeg4v2 @ 0x10ff62fe0]AVFrame.width or height is not set\n",
      "Pos:   7.8s    156f (33%) 153.69fps Trem:   0min   0mb  A-V:0.000 [105:0]\n",
      "[msmpeg4v2 @ 0x10ff62fe0]AVFrame.format is not set\n",
      "[msmpeg4v2 @ 0x10ff62fe0]AVFrame.width or height is not set\n",
      "Pos:   7.8s    157f (34%) 153.62fps Trem:   0min   0mb  A-V:0.000 [105:0]\n",
      "[msmpeg4v2 @ 0x10ff62fe0]AVFrame.format is not set\n",
      "[msmpeg4v2 @ 0x10ff62fe0]AVFrame.width or height is not set\n",
      "Pos:   7.9s    158f (34%) 153.25fps Trem:   0min   0mb  A-V:0.000 [104:0]\n",
      "[msmpeg4v2 @ 0x10ff62fe0]AVFrame.format is not set\n",
      "[msmpeg4v2 @ 0x10ff62fe0]AVFrame.width or height is not set\n",
      "Pos:   8.0s    159f (34%) 153.18fps Trem:   0min   0mb  A-V:0.000 [104:0]\n",
      "[msmpeg4v2 @ 0x10ff62fe0]AVFrame.format is not set\n",
      "[msmpeg4v2 @ 0x10ff62fe0]AVFrame.width or height is not set\n",
      "Pos:   8.0s    160f (34%) 153.26fps Trem:   0min   0mb  A-V:0.000 [104:0]\n",
      "[msmpeg4v2 @ 0x10ff62fe0]AVFrame.format is not set\n",
      "[msmpeg4v2 @ 0x10ff62fe0]AVFrame.width or height is not set\n",
      "Pos:   8.1s    161f (34%) 152.75fps Trem:   0min   0mb  A-V:0.000 [104:0]\n",
      "[msmpeg4v2 @ 0x10ff62fe0]AVFrame.format is not set\n",
      "[msmpeg4v2 @ 0x10ff62fe0]AVFrame.width or height is not set\n",
      "Pos:   8.1s    162f (35%) 152.69fps Trem:   0min   0mb  A-V:0.000 [104:0]\n",
      "[msmpeg4v2 @ 0x10ff62fe0]AVFrame.format is not set\n",
      "[msmpeg4v2 @ 0x10ff62fe0]AVFrame.width or height is not set\n",
      "Pos:   8.2s    163f (35%) 152.76fps Trem:   0min   0mb  A-V:0.000 [104:0]\n",
      "[msmpeg4v2 @ 0x10ff62fe0]AVFrame.format is not set\n",
      "[msmpeg4v2 @ 0x10ff62fe0]AVFrame.width or height is not set\n",
      "Pos:   8.2s    164f (35%) 151.85fps Trem:   0min   0mb  A-V:0.000 [103:0]\n",
      "[msmpeg4v2 @ 0x10ff62fe0]AVFrame.format is not set\n",
      "[msmpeg4v2 @ 0x10ff62fe0]AVFrame.width or height is not set\n",
      "Pos:   8.2s    165f (35%) 151.65fps Trem:   0min   0mb  A-V:0.000 [103:0]\n",
      "[msmpeg4v2 @ 0x10ff62fe0]AVFrame.format is not set\n",
      "[msmpeg4v2 @ 0x10ff62fe0]AVFrame.width or height is not set\n",
      "Pos:   8.3s    166f (36%) 151.60fps Trem:   0min   0mb  A-V:0.000 [103:0]\n",
      "[msmpeg4v2 @ 0x10ff62fe0]AVFrame.format is not set\n",
      "[msmpeg4v2 @ 0x10ff62fe0]AVFrame.width or height is not set\n",
      "Pos:   8.3s    167f (36%) 151.68fps Trem:   0min   0mb  A-V:0.000 [103:0]\n",
      "[msmpeg4v2 @ 0x10ff62fe0]AVFrame.format is not set\n",
      "[msmpeg4v2 @ 0x10ff62fe0]AVFrame.width or height is not set\n",
      "Pos:   8.4s    168f (36%) 151.22fps Trem:   0min   0mb  A-V:0.000 [103:0]\n",
      "[msmpeg4v2 @ 0x10ff62fe0]AVFrame.format is not set\n",
      "[msmpeg4v2 @ 0x10ff62fe0]AVFrame.width or height is not set\n",
      "Pos:   8.4s    169f (36%) 151.16fps Trem:   0min   0mb  A-V:0.000 [103:0]\n",
      "[msmpeg4v2 @ 0x10ff62fe0]AVFrame.format is not set\n",
      "[msmpeg4v2 @ 0x10ff62fe0]AVFrame.width or height is not set\n",
      "Pos:   8.5s    170f (36%) 150.98fps Trem:   0min   0mb  A-V:0.000 [103:0]\n",
      "[msmpeg4v2 @ 0x10ff62fe0]AVFrame.format is not set\n",
      "[msmpeg4v2 @ 0x10ff62fe0]AVFrame.width or height is not set\n",
      "Pos:   8.6s    171f (37%) 150.79fps Trem:   0min   0mb  A-V:0.000 [102:0]\n",
      "[msmpeg4v2 @ 0x10ff62fe0]AVFrame.format is not set\n",
      "[msmpeg4v2 @ 0x10ff62fe0]AVFrame.width or height is not set\n",
      "Pos:   8.6s    172f (37%) 150.22fps Trem:   0min   0mb  A-V:0.000 [102:0]\n",
      "[msmpeg4v2 @ 0x10ff62fe0]AVFrame.format is not set\n",
      "[msmpeg4v2 @ 0x10ff62fe0]AVFrame.width or height is not set\n",
      "Pos:   8.7s    173f (37%) 150.04fps Trem:   0min   0mb  A-V:0.000 [102:0]\n",
      "[msmpeg4v2 @ 0x10ff62fe0]AVFrame.format is not set\n",
      "[msmpeg4v2 @ 0x10ff62fe0]AVFrame.width or height is not set\n",
      "Pos:   8.7s    174f (37%) 149.74fps Trem:   0min   0mb  A-V:0.000 [102:0]\n",
      "[msmpeg4v2 @ 0x10ff62fe0]AVFrame.format is not set\n",
      "[msmpeg4v2 @ 0x10ff62fe0]AVFrame.width or height is not set\n",
      "Pos:   8.8s    175f (37%) 149.70fps Trem:   0min   0mb  A-V:0.000 [102:0]\n",
      "[msmpeg4v2 @ 0x10ff62fe0]AVFrame.format is not set\n",
      "[msmpeg4v2 @ 0x10ff62fe0]AVFrame.width or height is not set\n",
      "Pos:   8.8s    176f (38%) 149.66fps Trem:   0min   0mb  A-V:0.000 [102:0]\n",
      "[msmpeg4v2 @ 0x10ff62fe0]AVFrame.format is not set\n",
      "[msmpeg4v2 @ 0x10ff62fe0]AVFrame.width or height is not set\n",
      "Pos:   8.8s    177f (38%) 149.75fps Trem:   0min   0mb  A-V:0.000 [102:0]\n",
      "[msmpeg4v2 @ 0x10ff62fe0]AVFrame.format is not set\n",
      "[msmpeg4v2 @ 0x10ff62fe0]AVFrame.width or height is not set\n",
      "Pos:   8.9s    178f (38%) 149.83fps Trem:   0min   0mb  A-V:0.000 [102:0]\n",
      "[msmpeg4v2 @ 0x10ff62fe0]AVFrame.format is not set\n",
      "[msmpeg4v2 @ 0x10ff62fe0]AVFrame.width or height is not set\n",
      "Pos:   8.9s    179f (38%) 149.79fps Trem:   0min   0mb  A-V:0.000 [102:0]\n",
      "[msmpeg4v2 @ 0x10ff62fe0]AVFrame.format is not set\n",
      "[msmpeg4v2 @ 0x10ff62fe0]AVFrame.width or height is not set\n",
      "Pos:   9.0s    180f (39%) 149.75fps Trem:   0min   0mb  A-V:0.000 [101:0]\n",
      "[msmpeg4v2 @ 0x10ff62fe0]AVFrame.format is not set\n",
      "[msmpeg4v2 @ 0x10ff62fe0]AVFrame.width or height is not set\n",
      "Pos:   9.1s    181f (39%) 149.59fps Trem:   0min   0mb  A-V:0.000 [101:0]\n",
      "[msmpeg4v2 @ 0x10ff62fe0]AVFrame.format is not set\n",
      "[msmpeg4v2 @ 0x10ff62fe0]AVFrame.width or height is not set\n",
      "Pos:   9.1s    182f (39%) 149.67fps Trem:   0min   0mb  A-V:0.000 [101:0]\n",
      "[msmpeg4v2 @ 0x10ff62fe0]AVFrame.format is not set\n",
      "[msmpeg4v2 @ 0x10ff62fe0]AVFrame.width or height is not set\n",
      "Pos:   9.2s    183f (39%) 149.63fps Trem:   0min   0mb  A-V:0.000 [101:0]\n",
      "[msmpeg4v2 @ 0x10ff62fe0]AVFrame.format is not set\n",
      "[msmpeg4v2 @ 0x10ff62fe0]AVFrame.width or height is not set\n",
      "Pos:   9.2s    184f (39%) 149.84fps Trem:   0min   0mb  A-V:0.000 [101:0]\n",
      "[msmpeg4v2 @ 0x10ff62fe0]AVFrame.format is not set\n",
      "[msmpeg4v2 @ 0x10ff62fe0]AVFrame.width or height is not set\n",
      "Pos:   9.2s    185f (40%) 149.80fps Trem:   0min   0mb  A-V:0.000 [101:0]\n",
      "[msmpeg4v2 @ 0x10ff62fe0]AVFrame.format is not set\n",
      "[msmpeg4v2 @ 0x10ff62fe0]AVFrame.width or height is not set\n",
      "Pos:   9.3s    186f (40%) 149.76fps Trem:   0min   0mb  A-V:0.000 [100:0]\n",
      "[msmpeg4v2 @ 0x10ff62fe0]AVFrame.format is not set\n",
      "[msmpeg4v2 @ 0x10ff62fe0]AVFrame.width or height is not set\n",
      "Pos:   9.3s    187f (40%) 149.72fps Trem:   0min   0mb  A-V:0.000 [100:0]\n",
      "[msmpeg4v2 @ 0x10ff62fe0]AVFrame.format is not set\n",
      "[msmpeg4v2 @ 0x10ff62fe0]AVFrame.width or height is not set\n"
     ]
    },
    {
     "name": "stdout",
     "output_type": "stream",
     "text": [
      "Pos:   9.4s    188f (40%) 149.56fps Trem:   0min   0mb  A-V:0.000 [100:0]\n",
      "[msmpeg4v2 @ 0x10ff62fe0]AVFrame.format is not set\n",
      "[msmpeg4v2 @ 0x10ff62fe0]AVFrame.width or height is not set\n",
      "Pos:   9.4s    189f (40%) 149.53fps Trem:   0min   0mb  A-V:0.000 [101:0]\n",
      "[msmpeg4v2 @ 0x10ff62fe0]AVFrame.format is not set\n",
      "[msmpeg4v2 @ 0x10ff62fe0]AVFrame.width or height is not set\n",
      "Pos:   9.5s    190f (41%) 149.61fps Trem:   0min   0mb  A-V:0.000 [100:0]\n",
      "[msmpeg4v2 @ 0x10ff62fe0]AVFrame.format is not set\n",
      "[msmpeg4v2 @ 0x10ff62fe0]AVFrame.width or height is not set\n",
      "Pos:   9.6s    191f (41%) 149.69fps Trem:   0min   0mb  A-V:0.000 [100:0]\n",
      "[msmpeg4v2 @ 0x10ff62fe0]AVFrame.format is not set\n",
      "[msmpeg4v2 @ 0x10ff62fe0]AVFrame.width or height is not set\n",
      "Pos:   9.6s    192f (41%) 149.53fps Trem:   0min   0mb  A-V:0.000 [100:0]\n",
      "[msmpeg4v2 @ 0x10ff62fe0]AVFrame.format is not set\n",
      "[msmpeg4v2 @ 0x10ff62fe0]AVFrame.width or height is not set\n",
      "Pos:   9.7s    193f (41%) 149.73fps Trem:   0min   0mb  A-V:0.000 [100:0]\n",
      "[msmpeg4v2 @ 0x10ff62fe0]AVFrame.format is not set\n",
      "[msmpeg4v2 @ 0x10ff62fe0]AVFrame.width or height is not set\n",
      "Pos:   9.7s    194f (42%) 149.69fps Trem:   0min   0mb  A-V:0.000 [100:0]\n",
      "[msmpeg4v2 @ 0x10ff62fe0]AVFrame.format is not set\n",
      "[msmpeg4v2 @ 0x10ff62fe0]AVFrame.width or height is not set\n",
      "Pos:   9.8s    195f (42%) 149.77fps Trem:   0min   0mb  A-V:0.000 [100:0]\n",
      "[msmpeg4v2 @ 0x10ff62fe0]AVFrame.format is not set\n",
      "[msmpeg4v2 @ 0x10ff62fe0]AVFrame.width or height is not set\n",
      "Pos:   9.8s    196f (42%) 149.73fps Trem:   0min   0mb  A-V:0.000 [100:0]\n",
      "[msmpeg4v2 @ 0x10ff62fe0]AVFrame.format is not set\n",
      "[msmpeg4v2 @ 0x10ff62fe0]AVFrame.width or height is not set\n",
      "Pos:   9.8s    197f (42%) 149.58fps Trem:   0min   0mb  A-V:0.000 [100:0]\n",
      "[msmpeg4v2 @ 0x10ff62fe0]AVFrame.format is not set\n",
      "[msmpeg4v2 @ 0x10ff62fe0]AVFrame.width or height is not set\n",
      "Pos:   9.9s    198f (42%) 149.66fps Trem:   0min   0mb  A-V:0.000 [100:0]\n",
      "[msmpeg4v2 @ 0x10ff62fe0]AVFrame.format is not set\n",
      "[msmpeg4v2 @ 0x10ff62fe0]AVFrame.width or height is not set\n",
      "Pos:   9.9s    199f (43%) 149.51fps Trem:   0min   0mb  A-V:0.000 [100:0]\n",
      "[msmpeg4v2 @ 0x10ff62fe0]AVFrame.format is not set\n",
      "[msmpeg4v2 @ 0x10ff62fe0]AVFrame.width or height is not set\n",
      "Pos:  10.0s    200f (43%) 149.59fps Trem:   0min   0mb  A-V:0.000 [100:0]\n",
      "[msmpeg4v2 @ 0x10ff62fe0]AVFrame.format is not set\n",
      "[msmpeg4v2 @ 0x10ff62fe0]AVFrame.width or height is not set\n",
      "Pos:  10.1s    201f (43%) 149.66fps Trem:   0min   0mb  A-V:0.000 [99:0]\n",
      "[msmpeg4v2 @ 0x10ff62fe0]AVFrame.format is not set\n",
      "[msmpeg4v2 @ 0x10ff62fe0]AVFrame.width or height is not set\n",
      "Pos:  10.1s    202f (43%) 149.30fps Trem:   0min   0mb  A-V:0.000 [99:0]\n",
      "[msmpeg4v2 @ 0x10ff62fe0]AVFrame.format is not set\n",
      "[msmpeg4v2 @ 0x10ff62fe0]AVFrame.width or height is not set\n",
      "Pos:  10.2s    203f (44%) 149.26fps Trem:   0min   0mb  A-V:0.000 [99:0]\n",
      "[msmpeg4v2 @ 0x10ff62fe0]AVFrame.format is not set\n",
      "[msmpeg4v2 @ 0x10ff62fe0]AVFrame.width or height is not set\n",
      "Pos:  10.2s    204f (44%) 148.80fps Trem:   0min   0mb  A-V:0.000 [99:0]\n",
      "[msmpeg4v2 @ 0x10ff62fe0]AVFrame.format is not set\n",
      "[msmpeg4v2 @ 0x10ff62fe0]AVFrame.width or height is not set\n",
      "Pos:  10.2s    205f (44%) 148.87fps Trem:   0min   0mb  A-V:0.000 [99:0]\n",
      "[msmpeg4v2 @ 0x10ff62fe0]AVFrame.format is not set\n",
      "[msmpeg4v2 @ 0x10ff62fe0]AVFrame.width or height is not set\n",
      "Pos:  10.3s    206f (44%) 148.84fps Trem:   0min   0mb  A-V:0.000 [99:0]\n",
      "[msmpeg4v2 @ 0x10ff62fe0]AVFrame.format is not set\n",
      "[msmpeg4v2 @ 0x10ff62fe0]AVFrame.width or height is not set\n",
      "Pos:  10.3s    207f (44%) 148.92fps Trem:   0min   0mb  A-V:0.000 [99:0]\n",
      "[msmpeg4v2 @ 0x10ff62fe0]AVFrame.format is not set\n",
      "[msmpeg4v2 @ 0x10ff62fe0]AVFrame.width or height is not set\n",
      "Pos:  10.4s    208f (45%) 149.10fps Trem:   0min   0mb  A-V:0.000 [98:0]\n",
      "[msmpeg4v2 @ 0x10ff62fe0]AVFrame.format is not set\n",
      "[msmpeg4v2 @ 0x10ff62fe0]AVFrame.width or height is not set\n",
      "Pos:  10.4s    209f (45%) 149.18fps Trem:   0min   0mb  A-V:0.000 [98:0]\n",
      "[msmpeg4v2 @ 0x10ff62fe0]AVFrame.format is not set\n",
      "[msmpeg4v2 @ 0x10ff62fe0]AVFrame.width or height is not set\n",
      "Pos:  10.5s    210f (45%) 149.36fps Trem:   0min   0mb  A-V:0.000 [98:0]\n",
      "[msmpeg4v2 @ 0x10ff62fe0]AVFrame.format is not set\n",
      "[msmpeg4v2 @ 0x10ff62fe0]AVFrame.width or height is not set\n",
      "Pos:  10.6s    211f (45%) 149.33fps Trem:   0min   0mb  A-V:0.000 [98:0]\n",
      "[msmpeg4v2 @ 0x10ff62fe0]AVFrame.format is not set\n",
      "[msmpeg4v2 @ 0x10ff62fe0]AVFrame.width or height is not set\n",
      "Pos:  10.6s    212f (45%) 149.30fps Trem:   0min   0mb  A-V:0.000 [98:0]\n",
      "[msmpeg4v2 @ 0x10ff62fe0]AVFrame.format is not set\n",
      "[msmpeg4v2 @ 0x10ff62fe0]AVFrame.width or height is not set\n",
      "Pos:  10.7s    213f (46%) 149.16fps Trem:   0min   0mb  A-V:0.000 [98:0]\n",
      "[msmpeg4v2 @ 0x10ff62fe0]AVFrame.format is not set\n",
      "[msmpeg4v2 @ 0x10ff62fe0]AVFrame.width or height is not set\n",
      "Pos:  10.7s    214f (46%) 148.92fps Trem:   0min   0mb  A-V:0.000 [98:0]\n",
      "[msmpeg4v2 @ 0x10ff62fe0]AVFrame.format is not set\n",
      "[msmpeg4v2 @ 0x10ff62fe0]AVFrame.width or height is not set\n",
      "Pos:  10.8s    215f (46%) 149.10fps Trem:   0min   0mb  A-V:0.000 [98:0]\n",
      "[msmpeg4v2 @ 0x10ff62fe0]AVFrame.format is not set\n",
      "[msmpeg4v2 @ 0x10ff62fe0]AVFrame.width or height is not set\n",
      "Pos:  10.8s    216f (46%) 149.17fps Trem:   0min   0mb  A-V:0.000 [98:0]\n",
      "[msmpeg4v2 @ 0x10ff62fe0]AVFrame.format is not set\n",
      "[msmpeg4v2 @ 0x10ff62fe0]AVFrame.width or height is not set\n",
      "Pos:  10.8s    217f (47%) 149.24fps Trem:   0min   0mb  A-V:0.000 [98:0]\n",
      "[msmpeg4v2 @ 0x10ff62fe0]AVFrame.format is not set\n",
      "[msmpeg4v2 @ 0x10ff62fe0]AVFrame.width or height is not set\n",
      "Pos:  10.9s    218f (47%) 149.21fps Trem:   0min   0mb  A-V:0.000 [98:0]\n",
      "[msmpeg4v2 @ 0x10ff62fe0]AVFrame.format is not set\n",
      "[msmpeg4v2 @ 0x10ff62fe0]AVFrame.width or height is not set\n",
      "Pos:  10.9s    219f (47%) 149.08fps Trem:   0min   0mb  A-V:0.000 [98:0]\n",
      "[msmpeg4v2 @ 0x10ff62fe0]AVFrame.format is not set\n",
      "[msmpeg4v2 @ 0x10ff62fe0]AVFrame.width or height is not set\n",
      "Pos:  11.0s    220f (47%) 149.05fps Trem:   0min   0mb  A-V:0.000 [97:0]\n",
      "[msmpeg4v2 @ 0x10ff62fe0]AVFrame.format is not set\n",
      "[msmpeg4v2 @ 0x10ff62fe0]AVFrame.width or height is not set\n",
      "Pos:  11.1s    221f (47%) 149.12fps Trem:   0min   0mb  A-V:0.000 [97:0]\n",
      "[msmpeg4v2 @ 0x10ff62fe0]AVFrame.format is not set\n",
      "[msmpeg4v2 @ 0x10ff62fe0]AVFrame.width or height is not set\n",
      "Pos:  11.1s    222f (48%) 149.29fps Trem:   0min   0mb  A-V:0.000 [97:0]\n",
      "[msmpeg4v2 @ 0x10ff62fe0]AVFrame.format is not set\n",
      "[msmpeg4v2 @ 0x10ff62fe0]AVFrame.width or height is not set\n",
      "Pos:  11.2s    223f (48%) 149.36fps Trem:   0min   0mb  A-V:0.000 [97:0]\n",
      "[msmpeg4v2 @ 0x10ff62fe0]AVFrame.format is not set\n",
      "[msmpeg4v2 @ 0x10ff62fe0]AVFrame.width or height is not set\n",
      "Pos:  11.2s    224f (48%) 149.33fps Trem:   0min   0mb  A-V:0.000 [97:0]\n",
      "[msmpeg4v2 @ 0x10ff62fe0]AVFrame.format is not set\n",
      "[msmpeg4v2 @ 0x10ff62fe0]AVFrame.width or height is not set\n",
      "Pos:  11.2s    225f (48%) 149.30fps Trem:   0min   0mb  A-V:0.000 [97:0]\n",
      "[msmpeg4v2 @ 0x10ff62fe0]AVFrame.format is not set\n",
      "[msmpeg4v2 @ 0x10ff62fe0]AVFrame.width or height is not set\n",
      "Pos:  11.3s    226f (49%) 149.47fps Trem:   0min   0mb  A-V:0.000 [97:0]\n",
      "[msmpeg4v2 @ 0x10ff62fe0]AVFrame.format is not set\n",
      "[msmpeg4v2 @ 0x10ff62fe0]AVFrame.width or height is not set\n",
      "Pos:  11.3s    227f (49%) 149.44fps Trem:   0min   0mb  A-V:0.000 [97:0]\n",
      "[msmpeg4v2 @ 0x10ff62fe0]AVFrame.format is not set\n",
      "[msmpeg4v2 @ 0x10ff62fe0]AVFrame.width or height is not set\n",
      "Pos:  11.4s    228f (49%) 149.51fps Trem:   0min   0mb  A-V:0.000 [97:0]\n",
      "[msmpeg4v2 @ 0x10ff62fe0]AVFrame.format is not set\n",
      "[msmpeg4v2 @ 0x10ff62fe0]AVFrame.width or height is not set\n",
      "Pos:  11.4s    229f (49%) 149.38fps Trem:   0min   0mb  A-V:0.000 [97:0]\n",
      "[msmpeg4v2 @ 0x10ff62fe0]AVFrame.format is not set\n",
      "[msmpeg4v2 @ 0x10ff62fe0]AVFrame.width or height is not set\n",
      "Pos:  11.5s    230f (49%) 149.45fps Trem:   0min   0mb  A-V:0.000 [96:0]\n",
      "[msmpeg4v2 @ 0x10ff62fe0]AVFrame.format is not set\n",
      "[msmpeg4v2 @ 0x10ff62fe0]AVFrame.width or height is not set\n",
      "Pos:  11.6s    231f (50%) 149.51fps Trem:   0min   0mb  A-V:0.000 [96:0]\n",
      "[msmpeg4v2 @ 0x10ff62fe0]AVFrame.format is not set\n",
      "[msmpeg4v2 @ 0x10ff62fe0]AVFrame.width or height is not set\n",
      "Pos:  11.6s    232f (50%) 149.48fps Trem:   0min   0mb  A-V:0.000 [96:0]\n",
      "[msmpeg4v2 @ 0x10ff62fe0]AVFrame.format is not set\n",
      "[msmpeg4v2 @ 0x10ff62fe0]AVFrame.width or height is not set\n",
      "Pos:  11.7s    233f (50%) 149.65fps Trem:   0min   0mb  A-V:0.000 [96:0]\n",
      "[msmpeg4v2 @ 0x10ff62fe0]AVFrame.format is not set\n",
      "[msmpeg4v2 @ 0x10ff62fe0]AVFrame.width or height is not set\n",
      "Pos:  11.7s    234f (50%) 149.71fps Trem:   0min   0mb  A-V:0.000 [96:0]\n",
      "[msmpeg4v2 @ 0x10ff62fe0]AVFrame.format is not set\n",
      "[msmpeg4v2 @ 0x10ff62fe0]AVFrame.width or height is not set\n"
     ]
    },
    {
     "name": "stdout",
     "output_type": "stream",
     "text": [
      "Pos:  11.8s    235f (50%) 149.78fps Trem:   0min   0mb  A-V:0.000 [96:0]\n",
      "[msmpeg4v2 @ 0x10ff62fe0]AVFrame.format is not set\n",
      "[msmpeg4v2 @ 0x10ff62fe0]AVFrame.width or height is not set\n",
      "Pos:  11.8s    236f (51%) 149.75fps Trem:   0min   0mb  A-V:0.000 [96:0]\n",
      "[msmpeg4v2 @ 0x10ff62fe0]AVFrame.format is not set\n",
      "[msmpeg4v2 @ 0x10ff62fe0]AVFrame.width or height is not set\n",
      "Pos:  11.8s    237f (51%) 149.72fps Trem:   0min   0mb  A-V:0.000 [96:0]\n",
      "[msmpeg4v2 @ 0x10ff62fe0]AVFrame.format is not set\n",
      "[msmpeg4v2 @ 0x10ff62fe0]AVFrame.width or height is not set\n",
      "Pos:  11.9s    238f (51%) 149.87fps Trem:   0min   0mb  A-V:0.000 [95:0]\n",
      "[msmpeg4v2 @ 0x10ff62fe0]AVFrame.format is not set\n",
      "[msmpeg4v2 @ 0x10ff62fe0]AVFrame.width or height is not set\n",
      "Pos:  11.9s    239f (51%) 149.84fps Trem:   0min   0mb  A-V:0.000 [96:0]\n",
      "[msmpeg4v2 @ 0x10ff62fe0]AVFrame.format is not set\n",
      "[msmpeg4v2 @ 0x10ff62fe0]AVFrame.width or height is not set\n",
      "Pos:  12.0s    240f (52%) 149.91fps Trem:   0min   0mb  A-V:0.000 [95:0]\n",
      "[msmpeg4v2 @ 0x10ff62fe0]AVFrame.format is not set\n",
      "[msmpeg4v2 @ 0x10ff62fe0]AVFrame.width or height is not set\n",
      "Pos:  12.1s    241f (52%) 150.06fps Trem:   0min   0mb  A-V:0.000 [95:0]\n",
      "[msmpeg4v2 @ 0x10ff62fe0]AVFrame.format is not set\n",
      "[msmpeg4v2 @ 0x10ff62fe0]AVFrame.width or height is not set\n",
      "Pos:  12.1s    242f (52%) 150.22fps Trem:   0min   0mb  A-V:0.000 [95:0]\n",
      "[msmpeg4v2 @ 0x10ff62fe0]AVFrame.format is not set\n",
      "[msmpeg4v2 @ 0x10ff62fe0]AVFrame.width or height is not set\n",
      "Pos:  12.2s    243f (52%) 150.37fps Trem:   0min   0mb  A-V:0.000 [95:0]\n",
      "[msmpeg4v2 @ 0x10ff62fe0]AVFrame.format is not set\n",
      "[msmpeg4v2 @ 0x10ff62fe0]AVFrame.width or height is not set\n",
      "Pos:  12.2s    244f (52%) 150.34fps Trem:   0min   0mb  A-V:0.000 [95:0]\n",
      "[msmpeg4v2 @ 0x10ff62fe0]AVFrame.format is not set\n",
      "[msmpeg4v2 @ 0x10ff62fe0]AVFrame.width or height is not set\n",
      "Pos:  12.2s    245f (52%) 150.31fps Trem:   0min   0mb  A-V:0.000 [95:0]\n",
      "[msmpeg4v2 @ 0x10ff62fe0]AVFrame.format is not set\n",
      "[msmpeg4v2 @ 0x10ff62fe0]AVFrame.width or height is not set\n",
      "Pos:  12.3s    246f (52%) 150.27fps Trem:   0min   0mb  A-V:0.000 [95:0]\n",
      "[msmpeg4v2 @ 0x10ff62fe0]AVFrame.format is not set\n",
      "[msmpeg4v2 @ 0x10ff62fe0]AVFrame.width or height is not set\n",
      "Pos:  12.3s    247f (52%) 150.33fps Trem:   0min   0mb  A-V:0.000 [95:0]\n",
      "[msmpeg4v2 @ 0x10ff62fe0]AVFrame.format is not set\n",
      "[msmpeg4v2 @ 0x10ff62fe0]AVFrame.width or height is not set\n",
      "Pos:  12.4s    248f (52%) 150.49fps Trem:   0min   0mb  A-V:0.000 [95:0]\n",
      "[msmpeg4v2 @ 0x10ff62fe0]AVFrame.format is not set\n",
      "[msmpeg4v2 @ 0x10ff62fe0]AVFrame.width or height is not set\n",
      "Pos:  12.4s    249f (54%) 150.54fps Trem:   0min   0mb  A-V:0.000 [95:0]\n",
      "[msmpeg4v2 @ 0x10ff62fe0]AVFrame.format is not set\n",
      "[msmpeg4v2 @ 0x10ff62fe0]AVFrame.width or height is not set\n",
      "Pos:  12.5s    250f (54%) 150.69fps Trem:   0min   0mb  A-V:0.000 [95:0]\n",
      "[msmpeg4v2 @ 0x10ff62fe0]AVFrame.format is not set\n",
      "[msmpeg4v2 @ 0x10ff62fe0]AVFrame.width or height is not set\n",
      "Pos:  12.6s    251f (54%) 150.84fps Trem:   0min   0mb  A-V:0.000 [95:0]\n",
      "[msmpeg4v2 @ 0x10ff62fe0]AVFrame.format is not set\n",
      "[msmpeg4v2 @ 0x10ff62fe0]AVFrame.width or height is not set\n",
      "Pos:  12.6s    252f (54%) 150.90fps Trem:   0min   0mb  A-V:0.000 [95:0]\n",
      "[msmpeg4v2 @ 0x10ff62fe0]AVFrame.format is not set\n",
      "[msmpeg4v2 @ 0x10ff62fe0]AVFrame.width or height is not set\n",
      "Pos:  12.7s    253f (54%) 150.86fps Trem:   0min   0mb  A-V:0.000 [94:0]\n",
      "[msmpeg4v2 @ 0x10ff62fe0]AVFrame.format is not set\n",
      "[msmpeg4v2 @ 0x10ff62fe0]AVFrame.width or height is not set\n",
      "Pos:  12.7s    254f (55%) 150.83fps Trem:   0min   0mb  A-V:0.000 [94:0]\n",
      "[msmpeg4v2 @ 0x10ff62fe0]AVFrame.format is not set\n",
      "[msmpeg4v2 @ 0x10ff62fe0]AVFrame.width or height is not set\n",
      "Pos:  12.8s    255f (55%) 150.98fps Trem:   0min   0mb  A-V:0.000 [94:0]\n",
      "[msmpeg4v2 @ 0x10ff62fe0]AVFrame.format is not set\n",
      "[msmpeg4v2 @ 0x10ff62fe0]AVFrame.width or height is not set\n",
      "Pos:  12.8s    256f (55%) 151.12fps Trem:   0min   0mb  A-V:0.000 [94:0]\n",
      "[msmpeg4v2 @ 0x10ff62fe0]AVFrame.format is not set\n",
      "[msmpeg4v2 @ 0x10ff62fe0]AVFrame.width or height is not set\n",
      "Pos:  12.8s    257f (55%) 151.18fps Trem:   0min   0mb  A-V:0.000 [94:0]\n",
      "[msmpeg4v2 @ 0x10ff62fe0]AVFrame.format is not set\n",
      "[msmpeg4v2 @ 0x10ff62fe0]AVFrame.width or height is not set\n",
      "Pos:  12.9s    258f (55%) 151.32fps Trem:   0min   0mb  A-V:0.000 [94:0]\n",
      "[msmpeg4v2 @ 0x10ff62fe0]AVFrame.format is not set\n",
      "[msmpeg4v2 @ 0x10ff62fe0]AVFrame.width or height is not set\n",
      "Pos:  12.9s    259f (56%) 151.46fps Trem:   0min   0mb  A-V:0.000 [94:0]\n",
      "[msmpeg4v2 @ 0x10ff62fe0]AVFrame.format is not set\n",
      "[msmpeg4v2 @ 0x10ff62fe0]AVFrame.width or height is not set\n",
      "Pos:  13.0s    260f (56%) 151.52fps Trem:   0min   0mb  A-V:0.000 [94:0]\n",
      "[msmpeg4v2 @ 0x10ff62fe0]AVFrame.format is not set\n",
      "[msmpeg4v2 @ 0x10ff62fe0]AVFrame.width or height is not set\n",
      "Pos:  13.1s    261f (56%) 151.66fps Trem:   0min   0mb  A-V:0.000 [94:0]\n",
      "[msmpeg4v2 @ 0x10ff62fe0]AVFrame.format is not set\n",
      "[msmpeg4v2 @ 0x10ff62fe0]AVFrame.width or height is not set\n",
      "Pos:  13.1s    262f (56%) 151.36fps Trem:   0min   0mb  A-V:0.000 [94:0]\n",
      "[msmpeg4v2 @ 0x10ff62fe0]AVFrame.format is not set\n",
      "[msmpeg4v2 @ 0x10ff62fe0]AVFrame.width or height is not set\n",
      "Pos:  13.2s    263f (57%) 151.50fps Trem:   0min   0mb  A-V:0.000 [94:0]\n",
      "[msmpeg4v2 @ 0x10ff62fe0]AVFrame.format is not set\n",
      "[msmpeg4v2 @ 0x10ff62fe0]AVFrame.width or height is not set\n",
      "Pos:  13.2s    264f (57%) 151.64fps Trem:   0min   0mb  A-V:0.000 [94:0]\n",
      "[msmpeg4v2 @ 0x10ff62fe0]AVFrame.format is not set\n",
      "[msmpeg4v2 @ 0x10ff62fe0]AVFrame.width or height is not set\n",
      "Pos:  13.2s    265f (57%) 151.78fps Trem:   0min   0mb  A-V:0.000 [102:0]\n",
      "[msmpeg4v2 @ 0x10ff62fe0]AVFrame.format is not set\n",
      "[msmpeg4v2 @ 0x10ff62fe0]AVFrame.width or height is not set\n",
      "Pos:  13.3s    266f (57%) 151.83fps Trem:   0min   0mb  A-V:0.000 [102:0]\n",
      "[msmpeg4v2 @ 0x10ff62fe0]AVFrame.format is not set\n",
      "[msmpeg4v2 @ 0x10ff62fe0]AVFrame.width or height is not set\n",
      "Pos:  13.3s    267f (57%) 152.05fps Trem:   0min   0mb  A-V:0.000 [102:0]\n",
      "[msmpeg4v2 @ 0x10ff62fe0]AVFrame.format is not set\n",
      "[msmpeg4v2 @ 0x10ff62fe0]AVFrame.width or height is not set\n",
      "Pos:  13.4s    268f (58%) 152.19fps Trem:   0min   0mb  A-V:0.000 [102:0]\n",
      "[msmpeg4v2 @ 0x10ff62fe0]AVFrame.format is not set\n",
      "[msmpeg4v2 @ 0x10ff62fe0]AVFrame.width or height is not set\n",
      "Pos:  13.4s    269f (58%) 152.32fps Trem:   0min   0mb  A-V:0.000 [102:0]\n",
      "[msmpeg4v2 @ 0x10ff62fe0]AVFrame.format is not set\n",
      "[msmpeg4v2 @ 0x10ff62fe0]AVFrame.width or height is not set\n",
      "Pos:  13.5s    270f (58%) 152.37fps Trem:   0min   0mb  A-V:0.000 [102:0]\n",
      "[msmpeg4v2 @ 0x10ff62fe0]AVFrame.format is not set\n",
      "[msmpeg4v2 @ 0x10ff62fe0]AVFrame.width or height is not set\n",
      "Pos:  13.6s    271f (58%) 152.33fps Trem:   0min   0mb  A-V:0.000 [102:0]\n",
      "[msmpeg4v2 @ 0x10ff62fe0]AVFrame.format is not set\n",
      "[msmpeg4v2 @ 0x10ff62fe0]AVFrame.width or height is not set\n",
      "Pos:  13.6s    272f (58%) 152.38fps Trem:   0min   0mb  A-V:0.000 [102:0]\n",
      "[msmpeg4v2 @ 0x10ff62fe0]AVFrame.format is not set\n",
      "[msmpeg4v2 @ 0x10ff62fe0]AVFrame.width or height is not set\n",
      "Pos:  13.7s    273f (58%) 152.51fps Trem:   0min   0mb  A-V:0.000 [102:0]\n",
      "[msmpeg4v2 @ 0x10ff62fe0]AVFrame.format is not set\n",
      "[msmpeg4v2 @ 0x10ff62fe0]AVFrame.width or height is not set\n",
      "Pos:  13.7s    274f (58%) 152.65fps Trem:   0min   0mb  A-V:0.000 [102:0]\n",
      "[msmpeg4v2 @ 0x10ff62fe0]AVFrame.format is not set\n",
      "[msmpeg4v2 @ 0x10ff62fe0]AVFrame.width or height is not set\n",
      "Pos:  13.8s    275f (58%) 152.78fps Trem:   0min   0mb  A-V:0.000 [101:0]\n",
      "[msmpeg4v2 @ 0x10ff62fe0]AVFrame.format is not set\n",
      "[msmpeg4v2 @ 0x10ff62fe0]AVFrame.width or height is not set\n",
      "Pos:  13.8s    276f (58%) 152.82fps Trem:   0min   0mb  A-V:0.000 [101:0]\n",
      "[msmpeg4v2 @ 0x10ff62fe0]AVFrame.format is not set\n",
      "[msmpeg4v2 @ 0x10ff62fe0]AVFrame.width or height is not set\n",
      "Pos:  13.8s    277f (60%) 152.95fps Trem:   0min   0mb  A-V:0.000 [101:0]\n",
      "[msmpeg4v2 @ 0x10ff62fe0]AVFrame.format is not set\n",
      "[msmpeg4v2 @ 0x10ff62fe0]AVFrame.width or height is not set\n",
      "Pos:  13.9s    278f (60%) 153.08fps Trem:   0min   0mb  A-V:0.000 [101:0]\n",
      "[msmpeg4v2 @ 0x10ff62fe0]AVFrame.format is not set\n",
      "[msmpeg4v2 @ 0x10ff62fe0]AVFrame.width or height is not set\n",
      "Pos:  13.9s    279f (60%) 153.13fps Trem:   0min   0mb  A-V:0.000 [101:0]\n",
      "[msmpeg4v2 @ 0x10ff62fe0]AVFrame.format is not set\n",
      "[msmpeg4v2 @ 0x10ff62fe0]AVFrame.width or height is not set\n",
      "Pos:  14.0s    280f (60%) 153.09fps Trem:   0min   0mb  A-V:0.000 [101:0]\n",
      "[msmpeg4v2 @ 0x10ff62fe0]AVFrame.format is not set\n",
      "[msmpeg4v2 @ 0x10ff62fe0]AVFrame.width or height is not set\n",
      "Pos:  14.1s    281f (60%) 153.13fps Trem:   0min   0mb  A-V:0.000 [101:0]\n",
      "[msmpeg4v2 @ 0x10ff62fe0]AVFrame.format is not set\n",
      "[msmpeg4v2 @ 0x10ff62fe0]AVFrame.width or height is not set\n",
      "Pos:  14.1s    282f (61%) 153.26fps Trem:   0min   0mb  A-V:0.000 [101:0]\n",
      "[msmpeg4v2 @ 0x10ff62fe0]AVFrame.format is not set\n",
      "[msmpeg4v2 @ 0x10ff62fe0]AVFrame.width or height is not set\n",
      "Pos:  14.2s    283f (61%) 153.30fps Trem:   0min   0mb  A-V:0.000 [101:0]\n",
      "[msmpeg4v2 @ 0x10ff62fe0]AVFrame.format is not set\n",
      "[msmpeg4v2 @ 0x10ff62fe0]AVFrame.width or height is not set\n",
      "Pos:  14.2s    284f (61%) 153.35fps Trem:   0min   0mb  A-V:0.000 [101:0]\n",
      "[msmpeg4v2 @ 0x10ff62fe0]AVFrame.format is not set\n",
      "[msmpeg4v2 @ 0x10ff62fe0]AVFrame.width or height is not set\n",
      "Pos:  14.2s    285f (61%) 153.47fps Trem:   0min   0mb  A-V:0.000 [101:0]\n",
      "[msmpeg4v2 @ 0x10ff62fe0]AVFrame.format is not set\n",
      "[msmpeg4v2 @ 0x10ff62fe0]AVFrame.width or height is not set\n",
      "Pos:  14.3s    286f (62%) 153.60fps Trem:   0min   0mb  A-V:0.000 [101:0]\n",
      "[msmpeg4v2 @ 0x10ff62fe0]AVFrame.format is not set\n",
      "[msmpeg4v2 @ 0x10ff62fe0]AVFrame.width or height is not set\n",
      "Pos:  14.3s    287f (62%) 153.72fps Trem:   0min   0mb  A-V:0.000 [100:0]\n",
      "[msmpeg4v2 @ 0x10ff62fe0]AVFrame.format is not set\n",
      "[msmpeg4v2 @ 0x10ff62fe0]AVFrame.width or height is not set\n"
     ]
    },
    {
     "name": "stdout",
     "output_type": "stream",
     "text": [
      "Pos:  14.4s    288f (62%) 153.60fps Trem:   0min   0mb  A-V:0.000 [100:0]\n",
      "[msmpeg4v2 @ 0x10ff62fe0]AVFrame.format is not set\n",
      "[msmpeg4v2 @ 0x10ff62fe0]AVFrame.width or height is not set\n",
      "Pos:  14.4s    289f (62%) 153.64fps Trem:   0min   0mb  A-V:0.000 [100:0]\n",
      "[msmpeg4v2 @ 0x10ff62fe0]AVFrame.format is not set\n",
      "[msmpeg4v2 @ 0x10ff62fe0]AVFrame.width or height is not set\n",
      "Pos:  14.5s    290f (62%) 153.52fps Trem:   0min   0mb  A-V:0.000 [100:0]\n",
      "[msmpeg4v2 @ 0x10ff62fe0]AVFrame.format is not set\n",
      "[msmpeg4v2 @ 0x10ff62fe0]AVFrame.width or height is not set\n",
      "Pos:  14.6s    291f (63%) 153.56fps Trem:   0min   0mb  A-V:0.000 [100:0]\n",
      "[msmpeg4v2 @ 0x10ff62fe0]AVFrame.format is not set\n",
      "[msmpeg4v2 @ 0x10ff62fe0]AVFrame.width or height is not set\n",
      "Pos:  14.6s    292f (63%) 153.52fps Trem:   0min   0mb  A-V:0.000 [100:0]\n",
      "[msmpeg4v2 @ 0x10ff62fe0]AVFrame.format is not set\n",
      "[msmpeg4v2 @ 0x10ff62fe0]AVFrame.width or height is not set\n",
      "Pos:  14.7s    293f (63%) 153.56fps Trem:   0min   0mb  A-V:0.000 [100:0]\n",
      "[msmpeg4v2 @ 0x10ff62fe0]AVFrame.format is not set\n",
      "[msmpeg4v2 @ 0x10ff62fe0]AVFrame.width or height is not set\n",
      "Pos:  14.7s    294f (63%) 153.61fps Trem:   0min   0mb  A-V:0.000 [100:0]\n",
      "[msmpeg4v2 @ 0x10ff62fe0]AVFrame.format is not set\n",
      "[msmpeg4v2 @ 0x10ff62fe0]AVFrame.width or height is not set\n",
      "Pos:  14.8s    295f (63%) 153.65fps Trem:   0min   0mb  A-V:0.000 [100:0]\n",
      "[msmpeg4v2 @ 0x10ff62fe0]AVFrame.format is not set\n",
      "[msmpeg4v2 @ 0x10ff62fe0]AVFrame.width or height is not set\n",
      "Pos:  14.8s    296f (64%) 153.61fps Trem:   0min   0mb  A-V:0.000 [100:0]\n",
      "[msmpeg4v2 @ 0x10ff62fe0]AVFrame.format is not set\n",
      "[msmpeg4v2 @ 0x10ff62fe0]AVFrame.width or height is not set\n",
      "Pos:  14.8s    297f (64%) 153.57fps Trem:   0min   0mb  A-V:0.000 [100:0]\n",
      "[msmpeg4v2 @ 0x10ff62fe0]AVFrame.format is not set\n",
      "[msmpeg4v2 @ 0x10ff62fe0]AVFrame.width or height is not set\n",
      "Pos:  14.9s    298f (64%) 153.53fps Trem:   0min   0mb  A-V:0.000 [100:0]\n",
      "[msmpeg4v2 @ 0x10ff62fe0]AVFrame.format is not set\n",
      "[msmpeg4v2 @ 0x10ff62fe0]AVFrame.width or height is not set\n",
      "Pos:  14.9s    299f (64%) 153.49fps Trem:   0min   0mb  A-V:0.000 [99:0]\n",
      "[msmpeg4v2 @ 0x10ff62fe0]AVFrame.format is not set\n",
      "[msmpeg4v2 @ 0x10ff62fe0]AVFrame.width or height is not set\n",
      "Pos:  15.0s    300f (65%) 153.53fps Trem:   0min   0mb  A-V:0.000 [99:0]\n",
      "[msmpeg4v2 @ 0x10ff62fe0]AVFrame.format is not set\n",
      "[msmpeg4v2 @ 0x10ff62fe0]AVFrame.width or height is not set\n",
      "Pos:  15.1s    301f (65%) 153.57fps Trem:   0min   0mb  A-V:0.000 [99:0]\n",
      "[msmpeg4v2 @ 0x10ff62fe0]AVFrame.format is not set\n",
      "[msmpeg4v2 @ 0x10ff62fe0]AVFrame.width or height is not set\n",
      "Pos:  15.1s    302f (65%) 153.61fps Trem:   0min   0mb  A-V:0.000 [99:0]\n",
      "[msmpeg4v2 @ 0x10ff62fe0]AVFrame.format is not set\n",
      "[msmpeg4v2 @ 0x10ff62fe0]AVFrame.width or height is not set\n",
      "Pos:  15.2s    303f (65%) 153.65fps Trem:   0min   0mb  A-V:0.000 [99:0]\n",
      "[msmpeg4v2 @ 0x10ff62fe0]AVFrame.format is not set\n",
      "[msmpeg4v2 @ 0x10ff62fe0]AVFrame.width or height is not set\n",
      "Pos:  15.2s    304f (65%) 153.61fps Trem:   0min   0mb  A-V:0.000 [99:0]\n",
      "[msmpeg4v2 @ 0x10ff62fe0]AVFrame.format is not set\n",
      "[msmpeg4v2 @ 0x10ff62fe0]AVFrame.width or height is not set\n",
      "Pos:  15.2s    305f (66%) 153.65fps Trem:   0min   0mb  A-V:0.000 [99:0]\n",
      "[msmpeg4v2 @ 0x10ff62fe0]AVFrame.format is not set\n",
      "[msmpeg4v2 @ 0x10ff62fe0]AVFrame.width or height is not set\n",
      "Pos:  15.3s    306f (66%) 153.69fps Trem:   0min   0mb  A-V:0.000 [99:0]\n",
      "[msmpeg4v2 @ 0x10ff62fe0]AVFrame.format is not set\n",
      "[msmpeg4v2 @ 0x10ff62fe0]AVFrame.width or height is not set\n",
      "Pos:  15.3s    307f (66%) 153.81fps Trem:   0min   0mb  A-V:0.000 [99:0]\n",
      "[msmpeg4v2 @ 0x10ff62fe0]AVFrame.format is not set\n",
      "[msmpeg4v2 @ 0x10ff62fe0]AVFrame.width or height is not set\n",
      "Pos:  15.4s    308f (66%) 153.85fps Trem:   0min   0mb  A-V:0.000 [99:0]\n",
      "[msmpeg4v2 @ 0x10ff62fe0]AVFrame.format is not set\n",
      "[msmpeg4v2 @ 0x10ff62fe0]AVFrame.width or height is not set\n",
      "Pos:  15.4s    309f (67%) 153.96fps Trem:   0min   0mb  A-V:0.000 [99:0]\n",
      "[msmpeg4v2 @ 0x10ff62fe0]AVFrame.format is not set\n",
      "[msmpeg4v2 @ 0x10ff62fe0]AVFrame.width or height is not set\n",
      "Pos:  15.5s    310f (67%) 154.00fps Trem:   0min   0mb  A-V:0.000 [99:0]\n",
      "[msmpeg4v2 @ 0x10ff62fe0]AVFrame.format is not set\n",
      "[msmpeg4v2 @ 0x10ff62fe0]AVFrame.width or height is not set\n",
      "Pos:  15.6s    311f (67%) 154.04fps Trem:   0min   0mb  A-V:0.000 [99:0]\n",
      "[msmpeg4v2 @ 0x10ff62fe0]AVFrame.format is not set\n",
      "[msmpeg4v2 @ 0x10ff62fe0]AVFrame.width or height is not set\n",
      "Pos:  15.6s    312f (67%) 153.92fps Trem:   0min   0mb  A-V:0.000 [99:0]\n",
      "[msmpeg4v2 @ 0x10ff62fe0]AVFrame.format is not set\n",
      "[msmpeg4v2 @ 0x10ff62fe0]AVFrame.width or height is not set\n",
      "Pos:  15.7s    313f (67%) 153.88fps Trem:   0min   0mb  A-V:0.000 [99:0]\n",
      "[msmpeg4v2 @ 0x10ff62fe0]AVFrame.format is not set\n",
      "[msmpeg4v2 @ 0x10ff62fe0]AVFrame.width or height is not set\n",
      "Pos:  15.7s    314f (68%) 153.85fps Trem:   0min   0mb  A-V:0.000 [99:0]\n",
      "[msmpeg4v2 @ 0x10ff62fe0]AVFrame.format is not set\n",
      "[msmpeg4v2 @ 0x10ff62fe0]AVFrame.width or height is not set\n",
      "Pos:  15.8s    315f (68%) 153.88fps Trem:   0min   0mb  A-V:0.000 [99:0]\n",
      "[msmpeg4v2 @ 0x10ff62fe0]AVFrame.format is not set\n",
      "[msmpeg4v2 @ 0x10ff62fe0]AVFrame.width or height is not set\n",
      "Pos:  15.8s    316f (68%) 153.92fps Trem:   0min   0mb  A-V:0.000 [98:0]\n",
      "[msmpeg4v2 @ 0x10ff62fe0]AVFrame.format is not set\n",
      "[msmpeg4v2 @ 0x10ff62fe0]AVFrame.width or height is not set\n",
      "Pos:  15.8s    317f (68%) 153.96fps Trem:   0min   0mb  A-V:0.000 [98:0]\n",
      "[msmpeg4v2 @ 0x10ff62fe0]AVFrame.format is not set\n",
      "[msmpeg4v2 @ 0x10ff62fe0]AVFrame.width or height is not set\n",
      "Pos:  15.9s    318f (68%) 154.00fps Trem:   0min   0mb  A-V:0.000 [98:0]\n",
      "[msmpeg4v2 @ 0x10ff62fe0]AVFrame.format is not set\n",
      "[msmpeg4v2 @ 0x10ff62fe0]AVFrame.width or height is not set\n",
      "Pos:  15.9s    319f (69%) 153.96fps Trem:   0min   0mb  A-V:0.000 [98:0]\n",
      "[msmpeg4v2 @ 0x10ff62fe0]AVFrame.format is not set\n",
      "[msmpeg4v2 @ 0x10ff62fe0]AVFrame.width or height is not set\n",
      "Pos:  16.0s    320f (69%) 153.99fps Trem:   0min   0mb  A-V:0.000 [98:0]\n",
      "[msmpeg4v2 @ 0x10ff62fe0]AVFrame.format is not set\n",
      "[msmpeg4v2 @ 0x10ff62fe0]AVFrame.width or height is not set\n",
      "Pos:  16.1s    321f (69%) 154.03fps Trem:   0min   0mb  A-V:0.000 [98:0]\n",
      "[msmpeg4v2 @ 0x10ff62fe0]AVFrame.format is not set\n",
      "[msmpeg4v2 @ 0x10ff62fe0]AVFrame.width or height is not set\n",
      "Pos:  16.1s    322f (69%) 153.99fps Trem:   0min   0mb  A-V:0.000 [98:0]\n",
      "[msmpeg4v2 @ 0x10ff62fe0]AVFrame.format is not set\n",
      "[msmpeg4v2 @ 0x10ff62fe0]AVFrame.width or height is not set\n",
      "Pos:  16.1s    323f (70%) 153.96fps Trem:   0min   0mb  A-V:0.000 [98:0]\n",
      "[msmpeg4v2 @ 0x10ff62fe0]AVFrame.format is not set\n",
      "[msmpeg4v2 @ 0x10ff62fe0]AVFrame.width or height is not set\n",
      "Pos:  16.2s    324f (70%) 153.92fps Trem:   0min   0mb  A-V:0.000 [98:0]\n",
      "[msmpeg4v2 @ 0x10ff62fe0]AVFrame.format is not set\n",
      "[msmpeg4v2 @ 0x10ff62fe0]AVFrame.width or height is not set\n",
      "Pos:  16.2s    325f (70%) 153.96fps Trem:   0min   0mb  A-V:0.000 [98:0]\n",
      "[msmpeg4v2 @ 0x10ff62fe0]AVFrame.format is not set\n",
      "[msmpeg4v2 @ 0x10ff62fe0]AVFrame.width or height is not set\n",
      "Pos:  16.3s    326f (70%) 153.63fps Trem:   0min   0mb  A-V:0.000 [98:0]\n",
      "[msmpeg4v2 @ 0x10ff62fe0]AVFrame.format is not set\n",
      "[msmpeg4v2 @ 0x10ff62fe0]AVFrame.width or height is not set\n",
      "Pos:  16.4s    327f (70%) 153.59fps Trem:   0min   0mb  A-V:0.000 [98:0]\n",
      "[msmpeg4v2 @ 0x10ff62fe0]AVFrame.format is not set\n",
      "[msmpeg4v2 @ 0x10ff62fe0]AVFrame.width or height is not set\n",
      "Pos:  16.4s    328f (71%) 153.56fps Trem:   0min   0mb  A-V:0.000 [98:0]\n",
      "[msmpeg4v2 @ 0x10ff62fe0]AVFrame.format is not set\n",
      "[msmpeg4v2 @ 0x10ff62fe0]AVFrame.width or height is not set\n",
      "Pos:  16.4s    329f (71%) 153.38fps Trem:   0min   0mb  A-V:0.000 [97:0]\n",
      "[msmpeg4v2 @ 0x10ff62fe0]AVFrame.format is not set\n",
      "[msmpeg4v2 @ 0x10ff62fe0]AVFrame.width or height is not set\n",
      "Pos:  16.5s    330f (71%) 153.42fps Trem:   0min   0mb  A-V:0.000 [97:0]\n",
      "[msmpeg4v2 @ 0x10ff62fe0]AVFrame.format is not set\n",
      "[msmpeg4v2 @ 0x10ff62fe0]AVFrame.width or height is not set\n",
      "Pos:  16.6s    331f (71%) 153.45fps Trem:   0min   0mb  A-V:0.000 [97:0]\n",
      "[msmpeg4v2 @ 0x10ff62fe0]AVFrame.format is not set\n",
      "[msmpeg4v2 @ 0x10ff62fe0]AVFrame.width or height is not set\n",
      "Pos:  16.6s    332f (72%) 153.49fps Trem:   0min   0mb  A-V:0.000 [97:0]\n",
      "[msmpeg4v2 @ 0x10ff62fe0]AVFrame.format is not set\n",
      "[msmpeg4v2 @ 0x10ff62fe0]AVFrame.width or height is not set\n",
      "Pos:  16.6s    333f (72%) 153.39fps Trem:   0min   0mb  A-V:0.000 [97:0]\n",
      "[msmpeg4v2 @ 0x10ff62fe0]AVFrame.format is not set\n",
      "[msmpeg4v2 @ 0x10ff62fe0]AVFrame.width or height is not set\n",
      "Pos:  16.7s    334f (72%) 153.35fps Trem:   0min   0mb  A-V:0.000 [97:0]\n",
      "[msmpeg4v2 @ 0x10ff62fe0]AVFrame.format is not set\n",
      "[msmpeg4v2 @ 0x10ff62fe0]AVFrame.width or height is not set\n"
     ]
    },
    {
     "name": "stdout",
     "output_type": "stream",
     "text": [
      "Pos:  16.8s    335f (72%) 153.04fps Trem:   0min   0mb  A-V:0.000 [97:0]\n",
      "[msmpeg4v2 @ 0x10ff62fe0]AVFrame.format is not set\n",
      "[msmpeg4v2 @ 0x10ff62fe0]AVFrame.width or height is not set\n",
      "Pos:  16.8s    336f (72%) 153.01fps Trem:   0min   0mb  A-V:0.000 [97:0]\n",
      "[msmpeg4v2 @ 0x10ff62fe0]AVFrame.format is not set\n",
      "[msmpeg4v2 @ 0x10ff62fe0]AVFrame.width or height is not set\n",
      "Pos:  16.9s    337f (73%) 153.04fps Trem:   0min   0mb  A-V:0.000 [97:0]\n",
      "[msmpeg4v2 @ 0x10ff62fe0]AVFrame.format is not set\n",
      "[msmpeg4v2 @ 0x10ff62fe0]AVFrame.width or height is not set\n",
      "Pos:  16.9s    338f (73%) 153.08fps Trem:   0min   0mb  A-V:0.000 [97:0]\n",
      "[msmpeg4v2 @ 0x10ff62fe0]AVFrame.format is not set\n",
      "[msmpeg4v2 @ 0x10ff62fe0]AVFrame.width or height is not set\n",
      "Pos:  16.9s    339f (73%) 153.19fps Trem:   0min   0mb  A-V:0.000 [97:0]\n",
      "[msmpeg4v2 @ 0x10ff62fe0]AVFrame.format is not set\n",
      "[msmpeg4v2 @ 0x10ff62fe0]AVFrame.width or height is not set\n",
      "Pos:  17.0s    340f (73%) 153.22fps Trem:   0min   0mb  A-V:0.000 [96:0]\n",
      "[msmpeg4v2 @ 0x10ff62fe0]AVFrame.format is not set\n",
      "[msmpeg4v2 @ 0x10ff62fe0]AVFrame.width or height is not set\n",
      "Pos:  17.1s    341f (73%) 153.19fps Trem:   0min   0mb  A-V:0.000 [96:0]\n",
      "[msmpeg4v2 @ 0x10ff62fe0]AVFrame.format is not set\n",
      "[msmpeg4v2 @ 0x10ff62fe0]AVFrame.width or height is not set\n",
      "Pos:  17.1s    342f (74%) 153.23fps Trem:   0min   0mb  A-V:0.000 [96:0]\n",
      "[msmpeg4v2 @ 0x10ff62fe0]AVFrame.format is not set\n",
      "[msmpeg4v2 @ 0x10ff62fe0]AVFrame.width or height is not set\n",
      "Pos:  17.1s    343f (74%) 153.33fps Trem:   0min   0mb  A-V:0.000 [96:0]\n",
      "[msmpeg4v2 @ 0x10ff62fe0]AVFrame.format is not set\n",
      "[msmpeg4v2 @ 0x10ff62fe0]AVFrame.width or height is not set\n",
      "Pos:  17.2s    344f (74%) 153.30fps Trem:   0min   0mb  A-V:0.000 [96:0]\n",
      "[msmpeg4v2 @ 0x10ff62fe0]AVFrame.format is not set\n",
      "[msmpeg4v2 @ 0x10ff62fe0]AVFrame.width or height is not set\n",
      "Pos:  17.2s    345f (74%) 153.13fps Trem:   0min   0mb  A-V:0.000 [96:0]\n",
      "[msmpeg4v2 @ 0x10ff62fe0]AVFrame.format is not set\n",
      "[msmpeg4v2 @ 0x10ff62fe0]AVFrame.width or height is not set\n",
      "Pos:  17.3s    346f (75%) 153.10fps Trem:   0min   0mb  A-V:0.000 [96:0]\n",
      "[msmpeg4v2 @ 0x10ff62fe0]AVFrame.format is not set\n",
      "[msmpeg4v2 @ 0x10ff62fe0]AVFrame.width or height is not set\n",
      "Pos:  17.4s    347f (75%) 152.93fps Trem:   0min   0mb  A-V:0.000 [96:0]\n",
      "[msmpeg4v2 @ 0x10ff62fe0]AVFrame.format is not set\n",
      "[msmpeg4v2 @ 0x10ff62fe0]AVFrame.width or height is not set\n",
      "Pos:  17.4s    348f (75%) 152.90fps Trem:   0min   0mb  A-V:0.000 [96:0]\n",
      "[msmpeg4v2 @ 0x10ff62fe0]AVFrame.format is not set\n",
      "[msmpeg4v2 @ 0x10ff62fe0]AVFrame.width or height is not set\n",
      "Pos:  17.4s    349f (75%) 152.87fps Trem:   0min   0mb  A-V:0.000 [96:0]\n",
      "[msmpeg4v2 @ 0x10ff62fe0]AVFrame.format is not set\n",
      "[msmpeg4v2 @ 0x10ff62fe0]AVFrame.width or height is not set\n",
      "Pos:  17.5s    350f (75%) 152.84fps Trem:   0min   0mb  A-V:0.000 [96:0]\n",
      "[msmpeg4v2 @ 0x10ff62fe0]AVFrame.format is not set\n",
      "[msmpeg4v2 @ 0x10ff62fe0]AVFrame.width or height is not set\n",
      "Pos:  17.6s    351f (76%) 152.94fps Trem:   0min   0mb  A-V:0.000 [95:0]\n",
      "[msmpeg4v2 @ 0x10ff62fe0]AVFrame.format is not set\n",
      "[msmpeg4v2 @ 0x10ff62fe0]AVFrame.width or height is not set\n",
      "Pos:  17.6s    352f (76%) 152.91fps Trem:   0min   0mb  A-V:0.000 [95:0]\n",
      "[msmpeg4v2 @ 0x10ff62fe0]AVFrame.format is not set\n",
      "[msmpeg4v2 @ 0x10ff62fe0]AVFrame.width or height is not set\n",
      "Pos:  17.6s    353f (76%) 152.95fps Trem:   0min   0mb  A-V:0.000 [95:0]\n",
      "[msmpeg4v2 @ 0x10ff62fe0]AVFrame.format is not set\n",
      "[msmpeg4v2 @ 0x10ff62fe0]AVFrame.width or height is not set\n",
      "Pos:  17.7s    354f (76%) 153.05fps Trem:   0min   0mb  A-V:0.000 [95:0]\n",
      "[msmpeg4v2 @ 0x10ff62fe0]AVFrame.format is not set\n",
      "[msmpeg4v2 @ 0x10ff62fe0]AVFrame.width or height is not set\n",
      "Pos:  17.8s    355f (77%) 153.08fps Trem:   0min   0mb  A-V:0.000 [95:0]\n",
      "[msmpeg4v2 @ 0x10ff62fe0]AVFrame.format is not set\n",
      "[msmpeg4v2 @ 0x10ff62fe0]AVFrame.width or height is not set\n",
      "Pos:  17.8s    356f (77%) 153.05fps Trem:   0min   0mb  A-V:0.000 [95:0]\n",
      "[msmpeg4v2 @ 0x10ff62fe0]AVFrame.format is not set\n",
      "[msmpeg4v2 @ 0x10ff62fe0]AVFrame.width or height is not set\n",
      "Pos:  17.9s    357f (77%) 153.02fps Trem:   0min   0mb  A-V:0.000 [95:0]\n",
      "[msmpeg4v2 @ 0x10ff62fe0]AVFrame.format is not set\n",
      "[msmpeg4v2 @ 0x10ff62fe0]AVFrame.width or height is not set\n",
      "Pos:  17.9s    358f (77%) 152.99fps Trem:   0min   0mb  A-V:0.000 [95:0]\n",
      "[msmpeg4v2 @ 0x10ff62fe0]AVFrame.format is not set\n",
      "[msmpeg4v2 @ 0x10ff62fe0]AVFrame.width or height is not set\n",
      "Pos:  17.9s    359f (77%) 152.96fps Trem:   0min   0mb  A-V:0.000 [95:0]\n",
      "[msmpeg4v2 @ 0x10ff62fe0]AVFrame.format is not set\n",
      "[msmpeg4v2 @ 0x10ff62fe0]AVFrame.width or height is not set\n",
      "Pos:  18.0s    360f (78%) 152.80fps Trem:   0min   0mb  A-V:0.000 [95:0]\n",
      "[msmpeg4v2 @ 0x10ff62fe0]AVFrame.format is not set\n",
      "[msmpeg4v2 @ 0x10ff62fe0]AVFrame.width or height is not set\n",
      "Pos:  18.1s    361f (78%) 152.84fps Trem:   0min   0mb  A-V:0.000 [95:0]\n",
      "[msmpeg4v2 @ 0x10ff62fe0]AVFrame.format is not set\n",
      "[msmpeg4v2 @ 0x10ff62fe0]AVFrame.width or height is not set\n",
      "Pos:  18.1s    362f (78%) 152.81fps Trem:   0min   0mb  A-V:0.000 [95:0]\n",
      "[msmpeg4v2 @ 0x10ff62fe0]AVFrame.format is not set\n",
      "[msmpeg4v2 @ 0x10ff62fe0]AVFrame.width or height is not set\n",
      "Pos:  18.1s    363f (78%) 152.84fps Trem:   0min   0mb  A-V:0.000 [95:0]\n",
      "[msmpeg4v2 @ 0x10ff62fe0]AVFrame.format is not set\n",
      "[msmpeg4v2 @ 0x10ff62fe0]AVFrame.width or height is not set\n",
      "Pos:  18.2s    364f (78%) 152.81fps Trem:   0min   0mb  A-V:0.000 [95:0]\n",
      "[msmpeg4v2 @ 0x10ff62fe0]AVFrame.format is not set\n",
      "[msmpeg4v2 @ 0x10ff62fe0]AVFrame.width or height is not set\n",
      "Pos:  18.2s    365f (79%) 152.85fps Trem:   0min   0mb  A-V:0.000 [95:0]\n",
      "[msmpeg4v2 @ 0x10ff62fe0]AVFrame.format is not set\n",
      "[msmpeg4v2 @ 0x10ff62fe0]AVFrame.width or height is not set\n",
      "Pos:  18.3s    366f (79%) 152.95fps Trem:   0min   0mb  A-V:0.000 [95:0]\n",
      "[msmpeg4v2 @ 0x10ff62fe0]AVFrame.format is not set\n",
      "[msmpeg4v2 @ 0x10ff62fe0]AVFrame.width or height is not set\n",
      "Pos:  18.4s    367f (79%) 152.98fps Trem:   0min   0mb  A-V:0.000 [95:0]\n",
      "[msmpeg4v2 @ 0x10ff62fe0]AVFrame.format is not set\n",
      "[msmpeg4v2 @ 0x10ff62fe0]AVFrame.width or height is not set\n",
      "Pos:  18.4s    368f (79%) 153.01fps Trem:   0min   0mb  A-V:0.000 [94:0]\n",
      "[msmpeg4v2 @ 0x10ff62fe0]AVFrame.format is not set\n",
      "[msmpeg4v2 @ 0x10ff62fe0]AVFrame.width or height is not set\n",
      "Pos:  18.4s    369f (80%) 152.92fps Trem:   0min   0mb  A-V:0.000 [94:0]\n",
      "[msmpeg4v2 @ 0x10ff62fe0]AVFrame.format is not set\n",
      "[msmpeg4v2 @ 0x10ff62fe0]AVFrame.width or height is not set\n",
      "Pos:  18.5s    370f (80%) 152.83fps Trem:   0min   0mb  A-V:0.000 [94:0]\n",
      "[msmpeg4v2 @ 0x10ff62fe0]AVFrame.format is not set\n",
      "[msmpeg4v2 @ 0x10ff62fe0]AVFrame.width or height is not set\n",
      "Pos:  18.6s    371f (80%) 152.80fps Trem:   0min   0mb  A-V:0.000 [94:0]\n",
      "[msmpeg4v2 @ 0x10ff62fe0]AVFrame.format is not set\n",
      "[msmpeg4v2 @ 0x10ff62fe0]AVFrame.width or height is not set\n",
      "Pos:  18.6s    372f (80%) 152.71fps Trem:   0min   0mb  A-V:0.000 [94:0]\n",
      "[msmpeg4v2 @ 0x10ff62fe0]AVFrame.format is not set\n",
      "[msmpeg4v2 @ 0x10ff62fe0]AVFrame.width or height is not set\n",
      "Pos:  18.6s    373f (80%) 152.74fps Trem:   0min   0mb  A-V:0.000 [94:0]\n",
      "[msmpeg4v2 @ 0x10ff62fe0]AVFrame.format is not set\n",
      "[msmpeg4v2 @ 0x10ff62fe0]AVFrame.width or height is not set\n",
      "Pos:  18.7s    374f (81%) 152.84fps Trem:   0min   0mb  A-V:0.000 [94:0]\n",
      "[msmpeg4v2 @ 0x10ff62fe0]AVFrame.format is not set\n",
      "[msmpeg4v2 @ 0x10ff62fe0]AVFrame.width or height is not set\n",
      "Pos:  18.8s    375f (81%) 152.75fps Trem:   0min   0mb  A-V:0.000 [94:0]\n",
      "[msmpeg4v2 @ 0x10ff62fe0]AVFrame.format is not set\n",
      "[msmpeg4v2 @ 0x10ff62fe0]AVFrame.width or height is not set\n",
      "Pos:  18.8s    376f (81%) 152.85fps Trem:   0min   0mb  A-V:0.000 [94:0]\n",
      "[msmpeg4v2 @ 0x10ff62fe0]AVFrame.format is not set\n",
      "[msmpeg4v2 @ 0x10ff62fe0]AVFrame.width or height is not set\n",
      "Pos:  18.9s    377f (81%) 152.88fps Trem:   0min   0mb  A-V:0.000 [94:0]\n",
      "[msmpeg4v2 @ 0x10ff62fe0]AVFrame.format is not set\n",
      "[msmpeg4v2 @ 0x10ff62fe0]AVFrame.width or height is not set\n",
      "Pos:  18.9s    378f (81%) 152.85fps Trem:   0min   0mb  A-V:0.000 [94:0]\n",
      "[msmpeg4v2 @ 0x10ff62fe0]AVFrame.format is not set\n",
      "[msmpeg4v2 @ 0x10ff62fe0]AVFrame.width or height is not set\n",
      "Pos:  18.9s    379f (82%) 152.82fps Trem:   0min   0mb  A-V:0.000 [94:0]\n",
      "[msmpeg4v2 @ 0x10ff62fe0]AVFrame.format is not set\n",
      "[msmpeg4v2 @ 0x10ff62fe0]AVFrame.width or height is not set\n",
      "Pos:  19.0s    380f (82%) 152.86fps Trem:   0min   0mb  A-V:0.000 [94:0]\n",
      "[msmpeg4v2 @ 0x10ff62fe0]AVFrame.format is not set\n",
      "[msmpeg4v2 @ 0x10ff62fe0]AVFrame.width or height is not set\n",
      "Pos:  19.1s    381f (82%) 152.77fps Trem:   0min   0mb  A-V:0.000 [94:0]\n",
      "[msmpeg4v2 @ 0x10ff62fe0]AVFrame.format is not set\n",
      "[msmpeg4v2 @ 0x10ff62fe0]AVFrame.width or height is not set\n"
     ]
    },
    {
     "name": "stdout",
     "output_type": "stream",
     "text": [
      "Pos:  19.1s    382f (82%) 152.74fps Trem:   0min   0mb  A-V:0.000 [94:0]\n",
      "[msmpeg4v2 @ 0x10ff62fe0]AVFrame.format is not set\n",
      "[msmpeg4v2 @ 0x10ff62fe0]AVFrame.width or height is not set\n",
      "Pos:  19.1s    383f (83%) 152.71fps Trem:   0min   0mb  A-V:0.000 [94:0]\n",
      "[msmpeg4v2 @ 0x10ff62fe0]AVFrame.format is not set\n",
      "[msmpeg4v2 @ 0x10ff62fe0]AVFrame.width or height is not set\n",
      "Pos:  19.2s    384f (83%) 152.81fps Trem:   0min   0mb  A-V:0.000 [94:0]\n",
      "[msmpeg4v2 @ 0x10ff62fe0]AVFrame.format is not set\n",
      "[msmpeg4v2 @ 0x10ff62fe0]AVFrame.width or height is not set\n",
      "Pos:  19.2s    385f (83%) 152.84fps Trem:   0min   0mb  A-V:0.000 [94:0]\n",
      "[msmpeg4v2 @ 0x10ff62fe0]AVFrame.format is not set\n",
      "[msmpeg4v2 @ 0x10ff62fe0]AVFrame.width or height is not set\n",
      "Pos:  19.3s    386f (83%) 152.87fps Trem:   0min   0mb  A-V:0.000 [94:0]\n",
      "[msmpeg4v2 @ 0x10ff62fe0]AVFrame.format is not set\n",
      "[msmpeg4v2 @ 0x10ff62fe0]AVFrame.width or height is not set\n",
      "Pos:  19.4s    387f (83%) 152.84fps Trem:   0min   0mb  A-V:0.000 [94:0]\n",
      "[msmpeg4v2 @ 0x10ff62fe0]AVFrame.format is not set\n",
      "[msmpeg4v2 @ 0x10ff62fe0]AVFrame.width or height is not set\n",
      "Pos:  19.4s    388f (84%) 152.88fps Trem:   0min   0mb  A-V:0.000 [94:0]\n",
      "[msmpeg4v2 @ 0x10ff62fe0]AVFrame.format is not set\n",
      "[msmpeg4v2 @ 0x10ff62fe0]AVFrame.width or height is not set\n",
      "Pos:  19.4s    389f (84%) 152.97fps Trem:   0min   0mb  A-V:0.000 [94:0]\n",
      "[msmpeg4v2 @ 0x10ff62fe0]AVFrame.format is not set\n",
      "[msmpeg4v2 @ 0x10ff62fe0]AVFrame.width or height is not set\n",
      "Pos:  19.5s    390f (84%) 152.94fps Trem:   0min   0mb  A-V:0.000 [94:0]\n",
      "[msmpeg4v2 @ 0x10ff62fe0]AVFrame.format is not set\n",
      "[msmpeg4v2 @ 0x10ff62fe0]AVFrame.width or height is not set\n",
      "Pos:  19.6s    391f (84%) 152.97fps Trem:   0min   0mb  A-V:0.000 [94:0]\n",
      "[msmpeg4v2 @ 0x10ff62fe0]AVFrame.format is not set\n",
      "[msmpeg4v2 @ 0x10ff62fe0]AVFrame.width or height is not set\n",
      "Pos:  19.6s    392f (85%) 152.83fps Trem:   0min   0mb  A-V:0.000 [94:0]\n",
      "[msmpeg4v2 @ 0x10ff62fe0]AVFrame.format is not set\n",
      "[msmpeg4v2 @ 0x10ff62fe0]AVFrame.width or height is not set\n",
      "Pos:  19.6s    393f (85%) 152.92fps Trem:   0min   0mb  A-V:0.000 [94:0]\n",
      "[msmpeg4v2 @ 0x10ff62fe0]AVFrame.format is not set\n",
      "[msmpeg4v2 @ 0x10ff62fe0]AVFrame.width or height is not set\n",
      "Pos:  19.7s    394f (85%) 152.89fps Trem:   0min   0mb  A-V:0.000 [94:0]\n",
      "[msmpeg4v2 @ 0x10ff62fe0]AVFrame.format is not set\n",
      "[msmpeg4v2 @ 0x10ff62fe0]AVFrame.width or height is not set\n",
      "Pos:  19.8s    395f (85%) 152.80fps Trem:   0min   0mb  A-V:0.000 [94:0]\n",
      "[msmpeg4v2 @ 0x10ff62fe0]AVFrame.format is not set\n",
      "[msmpeg4v2 @ 0x10ff62fe0]AVFrame.width or height is not set\n",
      "Pos:  19.8s    396f (85%) 152.84fps Trem:   0min   0mb  A-V:0.000 [94:0]\n",
      "[msmpeg4v2 @ 0x10ff62fe0]AVFrame.format is not set\n",
      "[msmpeg4v2 @ 0x10ff62fe0]AVFrame.width or height is not set\n",
      "Pos:  19.9s    397f (86%) 152.87fps Trem:   0min   0mb  A-V:0.000 [99:0]\n",
      "[msmpeg4v2 @ 0x10ff62fe0]AVFrame.format is not set\n",
      "[msmpeg4v2 @ 0x10ff62fe0]AVFrame.width or height is not set\n",
      "Pos:  19.9s    398f (86%) 152.84fps Trem:   0min   0mb  A-V:0.000 [99:0]\n",
      "[msmpeg4v2 @ 0x10ff62fe0]AVFrame.format is not set\n",
      "[msmpeg4v2 @ 0x10ff62fe0]AVFrame.width or height is not set\n",
      "Pos:  19.9s    399f (86%) 152.76fps Trem:   0min   0mb  A-V:0.000 [99:0]\n",
      "[msmpeg4v2 @ 0x10ff62fe0]AVFrame.format is not set\n",
      "[msmpeg4v2 @ 0x10ff62fe0]AVFrame.width or height is not set\n",
      "Pos:  20.0s    400f (86%) 152.73fps Trem:   0min   0mb  A-V:0.000 [99:0]\n",
      "[msmpeg4v2 @ 0x10ff62fe0]AVFrame.format is not set\n",
      "[msmpeg4v2 @ 0x10ff62fe0]AVFrame.width or height is not set\n",
      "Pos:  20.1s    401f (86%) 152.70fps Trem:   0min   0mb  A-V:0.000 [99:0]\n",
      "[msmpeg4v2 @ 0x10ff62fe0]AVFrame.format is not set\n",
      "[msmpeg4v2 @ 0x10ff62fe0]AVFrame.width or height is not set\n",
      "Pos:  20.1s    402f (87%) 152.62fps Trem:   0min   0mb  A-V:0.000 [99:0]\n",
      "[msmpeg4v2 @ 0x10ff62fe0]AVFrame.format is not set\n",
      "[msmpeg4v2 @ 0x10ff62fe0]AVFrame.width or height is not set\n",
      "Pos:  20.1s    403f (87%) 152.71fps Trem:   0min   0mb  A-V:0.000 [99:0]\n",
      "[msmpeg4v2 @ 0x10ff62fe0]AVFrame.format is not set\n",
      "[msmpeg4v2 @ 0x10ff62fe0]AVFrame.width or height is not set\n",
      "Pos:  20.2s    404f (87%) 152.68fps Trem:   0min   0mb  A-V:0.000 [99:0]\n",
      "[msmpeg4v2 @ 0x10ff62fe0]AVFrame.format is not set\n",
      "[msmpeg4v2 @ 0x10ff62fe0]AVFrame.width or height is not set\n",
      "Pos:  20.2s    405f (87%) 152.66fps Trem:   0min   0mb  A-V:0.000 [99:0]\n",
      "[msmpeg4v2 @ 0x10ff62fe0]AVFrame.format is not set\n",
      "[msmpeg4v2 @ 0x10ff62fe0]AVFrame.width or height is not set\n",
      "Pos:  20.3s    406f (88%) 152.69fps Trem:   0min   0mb  A-V:0.000 [99:0]\n",
      "[msmpeg4v2 @ 0x10ff62fe0]AVFrame.format is not set\n",
      "[msmpeg4v2 @ 0x10ff62fe0]AVFrame.width or height is not set\n",
      "Pos:  20.4s    407f (88%) 152.72fps Trem:   0min   0mb  A-V:0.000 [99:0]\n",
      "[msmpeg4v2 @ 0x10ff62fe0]AVFrame.format is not set\n",
      "[msmpeg4v2 @ 0x10ff62fe0]AVFrame.width or height is not set\n",
      "Pos:  20.4s    408f (88%) 152.75fps Trem:   0min   0mb  A-V:0.000 [99:0]\n",
      "[msmpeg4v2 @ 0x10ff62fe0]AVFrame.format is not set\n",
      "[msmpeg4v2 @ 0x10ff62fe0]AVFrame.width or height is not set\n",
      "Pos:  20.4s    409f (88%) 152.67fps Trem:   0min   0mb  A-V:0.000 [99:0]\n",
      "[msmpeg4v2 @ 0x10ff62fe0]AVFrame.format is not set\n",
      "[msmpeg4v2 @ 0x10ff62fe0]AVFrame.width or height is not set\n",
      "Pos:  20.5s    410f (88%) 152.59fps Trem:   0min   0mb  A-V:0.000 [99:0]\n",
      "[msmpeg4v2 @ 0x10ff62fe0]AVFrame.format is not set\n",
      "[msmpeg4v2 @ 0x10ff62fe0]AVFrame.width or height is not set\n",
      "Pos:  20.6s    411f (89%) 152.50fps Trem:   0min   0mb  A-V:0.000 [99:0]\n",
      "[msmpeg4v2 @ 0x10ff62fe0]AVFrame.format is not set\n",
      "[msmpeg4v2 @ 0x10ff62fe0]AVFrame.width or height is not set\n",
      "Pos:  20.6s    412f (89%) 152.48fps Trem:   0min   0mb  A-V:0.000 [99:0]\n",
      "[msmpeg4v2 @ 0x10ff62fe0]AVFrame.format is not set\n",
      "[msmpeg4v2 @ 0x10ff62fe0]AVFrame.width or height is not set\n",
      "Pos:  20.6s    413f (89%) 152.57fps Trem:   0min   0mb  A-V:0.000 [99:0]\n",
      "[msmpeg4v2 @ 0x10ff62fe0]AVFrame.format is not set\n",
      "[msmpeg4v2 @ 0x10ff62fe0]AVFrame.width or height is not set\n",
      "Pos:  20.7s    414f (89%) 152.54fps Trem:   0min   0mb  A-V:0.000 [99:0]\n",
      "[msmpeg4v2 @ 0x10ff62fe0]AVFrame.format is not set\n",
      "[msmpeg4v2 @ 0x10ff62fe0]AVFrame.width or height is not set\n",
      "Pos:  20.8s    415f (90%) 152.46fps Trem:   0min   0mb  A-V:0.000 [99:0]\n",
      "[msmpeg4v2 @ 0x10ff62fe0]AVFrame.format is not set\n",
      "[msmpeg4v2 @ 0x10ff62fe0]AVFrame.width or height is not set\n",
      "Pos:  20.8s    416f (90%) 152.44fps Trem:   0min   0mb  A-V:0.000 [99:0]\n",
      "[msmpeg4v2 @ 0x10ff62fe0]AVFrame.format is not set\n",
      "[msmpeg4v2 @ 0x10ff62fe0]AVFrame.width or height is not set\n",
      "Pos:  20.9s    417f (90%) 152.41fps Trem:   0min   0mb  A-V:0.000 [99:0]\n",
      "[msmpeg4v2 @ 0x10ff62fe0]AVFrame.format is not set\n",
      "[msmpeg4v2 @ 0x10ff62fe0]AVFrame.width or height is not set\n",
      "Pos:  20.9s    418f (90%) 152.39fps Trem:   0min   0mb  A-V:0.000 [99:0]\n",
      "[msmpeg4v2 @ 0x10ff62fe0]AVFrame.format is not set\n",
      "[msmpeg4v2 @ 0x10ff62fe0]AVFrame.width or height is not set\n",
      "Pos:  20.9s    419f (90%) 152.42fps Trem:   0min   0mb  A-V:0.000 [98:0]\n",
      "[msmpeg4v2 @ 0x10ff62fe0]AVFrame.format is not set\n",
      "[msmpeg4v2 @ 0x10ff62fe0]AVFrame.width or height is not set\n",
      "Pos:  21.0s    420f (91%) 152.34fps Trem:   0min   0mb  A-V:0.000 [98:0]\n",
      "[msmpeg4v2 @ 0x10ff62fe0]AVFrame.format is not set\n",
      "[msmpeg4v2 @ 0x10ff62fe0]AVFrame.width or height is not set\n",
      "Pos:  21.1s    421f (91%) 152.37fps Trem:   0min   0mb  A-V:0.000 [98:0]\n",
      "[msmpeg4v2 @ 0x10ff62fe0]AVFrame.format is not set\n",
      "[msmpeg4v2 @ 0x10ff62fe0]AVFrame.width or height is not set\n",
      "Pos:  21.1s    422f (91%) 152.29fps Trem:   0min   0mb  A-V:0.000 [98:0]\n",
      "[msmpeg4v2 @ 0x10ff62fe0]AVFrame.format is not set\n",
      "[msmpeg4v2 @ 0x10ff62fe0]AVFrame.width or height is not set\n",
      "Pos:  21.1s    423f (91%) 152.10fps Trem:   0min   0mb  A-V:0.000 [98:0]\n",
      "[msmpeg4v2 @ 0x10ff62fe0]AVFrame.format is not set\n",
      "[msmpeg4v2 @ 0x10ff62fe0]AVFrame.width or height is not set\n",
      "Pos:  21.2s    424f (91%) 152.13fps Trem:   0min   0mb  A-V:0.000 [98:0]\n",
      "[msmpeg4v2 @ 0x10ff62fe0]AVFrame.format is not set\n",
      "[msmpeg4v2 @ 0x10ff62fe0]AVFrame.width or height is not set\n",
      "Pos:  21.2s    425f (92%) 152.17fps Trem:   0min   0mb  A-V:0.000 [98:0]\n",
      "[msmpeg4v2 @ 0x10ff62fe0]AVFrame.format is not set\n",
      "[msmpeg4v2 @ 0x10ff62fe0]AVFrame.width or height is not set\n",
      "Pos:  21.3s    426f (92%) 152.14fps Trem:   0min   0mb  A-V:0.000 [98:0]\n",
      "[msmpeg4v2 @ 0x10ff62fe0]AVFrame.format is not set\n",
      "[msmpeg4v2 @ 0x10ff62fe0]AVFrame.width or height is not set\n",
      "Pos:  21.4s    427f (92%) 152.17fps Trem:   0min   0mb  A-V:0.000 [98:0]\n",
      "[msmpeg4v2 @ 0x10ff62fe0]AVFrame.format is not set\n",
      "[msmpeg4v2 @ 0x10ff62fe0]AVFrame.width or height is not set\n"
     ]
    },
    {
     "name": "stdout",
     "output_type": "stream",
     "text": [
      "Pos:  21.4s    428f (92%) 152.15fps Trem:   0min   0mb  A-V:0.000 [98:0]\n",
      "[msmpeg4v2 @ 0x10ff62fe0]AVFrame.format is not set\n",
      "[msmpeg4v2 @ 0x10ff62fe0]AVFrame.width or height is not set\n",
      "Pos:  21.4s    429f (93%) 152.07fps Trem:   0min   0mb  A-V:0.000 [98:0]\n",
      "[msmpeg4v2 @ 0x10ff62fe0]AVFrame.format is not set\n",
      "[msmpeg4v2 @ 0x10ff62fe0]AVFrame.width or height is not set\n",
      "Pos:  21.5s    430f (93%) 152.00fps Trem:   0min   0mb  A-V:0.000 [98:0]\n",
      "[msmpeg4v2 @ 0x10ff62fe0]AVFrame.format is not set\n",
      "[msmpeg4v2 @ 0x10ff62fe0]AVFrame.width or height is not set\n",
      "Pos:  21.6s    431f (93%) 151.87fps Trem:   0min   0mb  A-V:0.000 [98:0]\n",
      "[msmpeg4v2 @ 0x10ff62fe0]AVFrame.format is not set\n",
      "[msmpeg4v2 @ 0x10ff62fe0]AVFrame.width or height is not set\n",
      "Pos:  21.6s    432f (93%) 151.95fps Trem:   0min   0mb  A-V:0.000 [98:0]\n",
      "[msmpeg4v2 @ 0x10ff62fe0]AVFrame.format is not set\n",
      "[msmpeg4v2 @ 0x10ff62fe0]AVFrame.width or height is not set\n",
      "Pos:  21.6s    433f (93%) 151.93fps Trem:   0min   0mb  A-V:0.000 [98:0]\n",
      "[msmpeg4v2 @ 0x10ff62fe0]AVFrame.format is not set\n",
      "[msmpeg4v2 @ 0x10ff62fe0]AVFrame.width or height is not set\n",
      "Pos:  21.7s    434f (94%) 151.96fps Trem:   0min   0mb  A-V:0.000 [98:0]\n",
      "[msmpeg4v2 @ 0x10ff62fe0]AVFrame.format is not set\n",
      "[msmpeg4v2 @ 0x10ff62fe0]AVFrame.width or height is not set\n",
      "Pos:  21.8s    435f (94%) 152.04fps Trem:   0min   0mb  A-V:0.000 [98:0]\n",
      "[msmpeg4v2 @ 0x10ff62fe0]AVFrame.format is not set\n",
      "[msmpeg4v2 @ 0x10ff62fe0]AVFrame.width or height is not set\n",
      "Pos:  21.8s    436f (94%) 152.08fps Trem:   0min   0mb  A-V:0.000 [97:0]\n",
      "[msmpeg4v2 @ 0x10ff62fe0]AVFrame.format is not set\n",
      "[msmpeg4v2 @ 0x10ff62fe0]AVFrame.width or height is not set\n",
      "Pos:  21.9s    437f (94%) 152.05fps Trem:   0min   0mb  A-V:0.000 [97:0]\n",
      "[msmpeg4v2 @ 0x10ff62fe0]AVFrame.format is not set\n",
      "[msmpeg4v2 @ 0x10ff62fe0]AVFrame.width or height is not set\n",
      "Pos:  21.9s    438f (95%) 152.03fps Trem:   0min   0mb  A-V:0.000 [97:0]\n",
      "[msmpeg4v2 @ 0x10ff62fe0]AVFrame.format is not set\n",
      "[msmpeg4v2 @ 0x10ff62fe0]AVFrame.width or height is not set\n",
      "Pos:  21.9s    439f (95%) 152.01fps Trem:   0min   0mb  A-V:0.000 [97:0]\n",
      "[msmpeg4v2 @ 0x10ff62fe0]AVFrame.format is not set\n",
      "[msmpeg4v2 @ 0x10ff62fe0]AVFrame.width or height is not set\n",
      "Pos:  22.0s    440f (95%) 151.99fps Trem:   0min   0mb  A-V:0.000 [97:0]\n",
      "[msmpeg4v2 @ 0x10ff62fe0]AVFrame.format is not set\n",
      "[msmpeg4v2 @ 0x10ff62fe0]AVFrame.width or height is not set\n",
      "Pos:  22.1s    441f (95%) 151.91fps Trem:   0min   0mb  A-V:0.000 [97:0]\n",
      "[msmpeg4v2 @ 0x10ff62fe0]AVFrame.format is not set\n",
      "[msmpeg4v2 @ 0x10ff62fe0]AVFrame.width or height is not set\n",
      "Pos:  22.1s    442f (95%) 151.94fps Trem:   0min   0mb  A-V:0.000 [97:0]\n",
      "[msmpeg4v2 @ 0x10ff62fe0]AVFrame.format is not set\n",
      "[msmpeg4v2 @ 0x10ff62fe0]AVFrame.width or height is not set\n",
      "Pos:  22.1s    443f (96%) 151.97fps Trem:   0min   0mb  A-V:0.000 [97:0]\n",
      "[msmpeg4v2 @ 0x10ff62fe0]AVFrame.format is not set\n",
      "[msmpeg4v2 @ 0x10ff62fe0]AVFrame.width or height is not set\n",
      "Pos:  22.2s    444f (96%) 151.95fps Trem:   0min   0mb  A-V:0.000 [97:0]\n",
      "[msmpeg4v2 @ 0x10ff62fe0]AVFrame.format is not set\n",
      "[msmpeg4v2 @ 0x10ff62fe0]AVFrame.width or height is not set\n",
      "Pos:  22.2s    445f (96%) 151.93fps Trem:   0min   0mb  A-V:0.000 [97:0]\n",
      "[msmpeg4v2 @ 0x10ff62fe0]AVFrame.format is not set\n",
      "[msmpeg4v2 @ 0x10ff62fe0]AVFrame.width or height is not set\n",
      "Pos:  22.3s    446f (96%) 151.96fps Trem:   0min   0mb  A-V:0.000 [97:0]\n",
      "[msmpeg4v2 @ 0x10ff62fe0]AVFrame.format is not set\n",
      "[msmpeg4v2 @ 0x10ff62fe0]AVFrame.width or height is not set\n",
      "Pos:  22.4s    447f (96%) 151.94fps Trem:   0min   0mb  A-V:0.000 [97:0]\n",
      "[msmpeg4v2 @ 0x10ff62fe0]AVFrame.format is not set\n",
      "[msmpeg4v2 @ 0x10ff62fe0]AVFrame.width or height is not set\n",
      "Pos:  22.4s    448f (97%) 152.02fps Trem:   0min   0mb  A-V:0.000 [97:0]\n",
      "[msmpeg4v2 @ 0x10ff62fe0]AVFrame.format is not set\n",
      "[msmpeg4v2 @ 0x10ff62fe0]AVFrame.width or height is not set\n",
      "Pos:  22.4s    449f (97%) 152.05fps Trem:   0min   0mb  A-V:0.000 [97:0]\n",
      "[msmpeg4v2 @ 0x10ff62fe0]AVFrame.format is not set\n",
      "[msmpeg4v2 @ 0x10ff62fe0]AVFrame.width or height is not set\n",
      "Pos:  22.5s    450f (97%) 152.08fps Trem:   0min   0mb  A-V:0.000 [97:0]\n",
      "[msmpeg4v2 @ 0x10ff62fe0]AVFrame.format is not set\n",
      "[msmpeg4v2 @ 0x10ff62fe0]AVFrame.width or height is not set\n",
      "Pos:  22.6s    451f (97%) 152.16fps Trem:   0min   0mb  A-V:0.000 [97:0]\n",
      "[msmpeg4v2 @ 0x10ff62fe0]AVFrame.format is not set\n",
      "[msmpeg4v2 @ 0x10ff62fe0]AVFrame.width or height is not set\n",
      "Pos:  22.6s    452f (98%) 152.14fps Trem:   0min   0mb  A-V:0.000 [97:0]\n",
      "[msmpeg4v2 @ 0x10ff62fe0]AVFrame.format is not set\n",
      "[msmpeg4v2 @ 0x10ff62fe0]AVFrame.width or height is not set\n",
      "Pos:  22.6s    453f (98%) 152.12fps Trem:   0min   0mb  A-V:0.000 [97:0]\n",
      "[msmpeg4v2 @ 0x10ff62fe0]AVFrame.format is not set\n",
      "[msmpeg4v2 @ 0x10ff62fe0]AVFrame.width or height is not set\n",
      "Pos:  22.7s    454f (98%) 152.14fps Trem:   0min   0mb  A-V:0.000 [97:0]\n",
      "[msmpeg4v2 @ 0x10ff62fe0]AVFrame.format is not set\n",
      "[msmpeg4v2 @ 0x10ff62fe0]AVFrame.width or height is not set\n",
      "Pos:  22.8s    455f (98%) 152.22fps Trem:   0min   0mb  A-V:0.000 [97:0]\n",
      "[msmpeg4v2 @ 0x10ff62fe0]AVFrame.format is not set\n",
      "[msmpeg4v2 @ 0x10ff62fe0]AVFrame.width or height is not set\n",
      "Pos:  22.8s    456f (98%) 152.25fps Trem:   0min   0mb  A-V:0.000 [97:0]\n",
      "[msmpeg4v2 @ 0x10ff62fe0]AVFrame.format is not set\n",
      "[msmpeg4v2 @ 0x10ff62fe0]AVFrame.width or height is not set\n",
      "Pos:  22.9s    457f (99%) 152.28fps Trem:   0min   0mb  A-V:0.000 [97:0]\n",
      "[msmpeg4v2 @ 0x10ff62fe0]AVFrame.format is not set\n",
      "[msmpeg4v2 @ 0x10ff62fe0]AVFrame.width or height is not set\n",
      "Pos:  22.9s    458f (99%) 152.31fps Trem:   0min   0mb  A-V:0.000 [96:0]\n",
      "[msmpeg4v2 @ 0x10ff62fe0]AVFrame.format is not set\n",
      "[msmpeg4v2 @ 0x10ff62fe0]AVFrame.width or height is not set\n",
      "Pos:  22.9s    459f (99%) 152.39fps Trem:   0min   0mb  A-V:0.000 [96:0]\n",
      "[msmpeg4v2 @ 0x10ff62fe0]AVFrame.format is not set\n",
      "[msmpeg4v2 @ 0x10ff62fe0]AVFrame.width or height is not set\n",
      "Pos:  23.0s    460f (99%) 152.42fps Trem:   0min   0mb  A-V:0.000 [96:0]\n",
      "[msmpeg4v2 @ 0x10ff62fe0]AVFrame.format is not set\n",
      "[msmpeg4v2 @ 0x10ff62fe0]AVFrame.width or height is not set\n",
      "Pos:  23.1s    461f (100%) 152.45fps Trem:   0min   0mb  A-V:0.000 [96:0]\n",
      "[msmpeg4v2 @ 0x10ff62fe0]AVFrame.format is not set\n",
      "[msmpeg4v2 @ 0x10ff62fe0]AVFrame.width or height is not set\n",
      "Pos:  23.1s    462f (100%) 152.42fps Trem:   0min   0mb  A-V:0.000 [96:0]\n",
      "\n",
      "Skipping frame!\n",
      "Pos:  23.1s    463f (100%) 152.75fps Trem:   0min   0mb  A-V:0.000 [96:0]\n",
      "\n",
      "Flushing video frames.\n",
      "Writing index...\n",
      "Writing header...\n",
      "ODML: vprp aspect is 16384:10922.\n",
      "\n",
      "Video stream:   96.733 kbit/s  (12091 B/s)  size: 279317 bytes  23.100 secs  463 frames\n"
     ]
    }
   ],
   "source": [
    "!mencoder \"mf://*.png\" -o Gillespie_Dif_01.mov -ovc lavc -lavcopts vcodec=msmpeg4v2:autoaspect:vbitrate=2160000:mbd=2:keyint=132:vqblur=1.0:cmp=2:subcmp=2:dia=2:o=mpv_flags=+mv0:last_pred=3 -fps 20;\n",
    "                                        \n"
   ]
  },
  {
   "cell_type": "code",
   "execution_count": null,
   "metadata": {},
   "outputs": [],
   "source": []
  },
  {
   "cell_type": "markdown",
   "metadata": {},
   "source": [
    "### Una reverenda mamada que haya cantidades negativas!!!!"
   ]
  },
  {
   "cell_type": "markdown",
   "metadata": {},
   "source": [
    "Observaciones:\n",
    " - Está eligiendo regiones donde no hay partículas\n",
    " - Sin embargo, esto no tiene que ver con el cálculo de las $a(\\mu,i,j)$, puesto que éstas son nulas en estos puntos\n",
    " - Todo indica que se debe a cómo se elige el punto donde se actualizan o el proceso, está eligiendo procesos de probabilidad nula!\n",
    " - Tiene que ser con la función que regresa las $mu$, $i$'s y $j$'s!!!\n",
    " - Otra pendajada inadmisible es que se pueden acumular particulas en una celda que superen la mayor concentracion máxima inicial!!!"
   ]
  },
  {
   "cell_type": "code",
   "execution_count": null,
   "metadata": {},
   "outputs": [],
   "source": []
  },
  {
   "cell_type": "code",
   "execution_count": 902,
   "metadata": {},
   "outputs": [
    {
     "data": {
      "text/plain": [
       "[0,\n",
       " 0.022782939057878905,\n",
       " 0.02610734412882857,\n",
       " 0.048790656058410486,\n",
       " 0.05771995365733049,\n",
       " 0.05995416170285268,\n",
       " 0.07688927362413511,\n",
       " 0.09792596082899703,\n",
       " 0.10064685583037497,\n",
       " 0.10404976320464035,\n",
       " 0.11157473891397447,\n",
       " 0.11502195889833153,\n",
       " 0.1197911972663537,\n",
       " 0.12623550920730012,\n",
       " 0.1297562360642434,\n",
       " 0.13139343479445117,\n",
       " 0.134924822172062,\n",
       " 0.135850289238767,\n",
       " 0.1359292925957475,\n",
       " 0.1390414233509816,\n",
       " 0.14343814691700968,\n",
       " 0.14419596259873646,\n",
       " 0.14493522209833276,\n",
       " 0.14637190048680093,\n",
       " 0.15072595141180445,\n",
       " 0.1555651467744636,\n",
       " 0.15729701225676557,\n",
       " 0.1577887476805447,\n",
       " 0.1585282839226886,\n",
       " 0.1671757133157456,\n",
       " 0.17313668989253111,\n",
       " 0.1788557922846567,\n",
       " 0.18104822388124395,\n",
       " 0.18634442204578164,\n",
       " 0.1933080349416896,\n",
       " 0.19494516780948318,\n",
       " 0.19573634084666922,\n",
       " 0.19602582663045978,\n",
       " 0.19953661279231316,\n",
       " 0.21106746884781957,\n",
       " 0.21500883291801848,\n",
       " 0.21805031390903748,\n",
       " 0.22207368125837582,\n",
       " 0.24101787380098796,\n",
       " 0.2412863888742947,\n",
       " 0.24533605437751957,\n",
       " 0.25447602088264293,\n",
       " 0.2652176554871615,\n",
       " 0.2676723006256415,\n",
       " 0.2740100060271232,\n",
       " 0.2756827664921874]"
      ]
     },
     "execution_count": 902,
     "metadata": {},
     "output_type": "execute_result"
    }
   ],
   "source": [
    "tiempos"
   ]
  },
  {
   "cell_type": "code",
   "execution_count": 903,
   "metadata": {},
   "outputs": [
    {
     "data": {
      "text/plain": [
       "[<matplotlib.lines.Line2D at 0x1a35bbebd0>]"
      ]
     },
     "execution_count": 903,
     "metadata": {},
     "output_type": "execute_result"
    },
    {
     "data": {
      "image/png": "[encoded data removed]",
      "text/plain": [
       "<Figure size 432x288 with 1 Axes>"
      ]
     },
     "metadata": {
      "needs_background": "light"
     },
     "output_type": "display_data"
    }
   ],
   "source": [
    "plt.plot(tiempos)"
   ]
  },
  {
   "cell_type": "code",
   "execution_count": null,
   "metadata": {},
   "outputs": [],
   "source": []
  },
  {
   "cell_type": "code",
   "execution_count": null,
   "metadata": {},
   "outputs": [],
   "source": []
  },
  {
   "cell_type": "code",
   "execution_count": null,
   "metadata": {},
   "outputs": [],
   "source": []
  },
  {
   "cell_type": "code",
   "execution_count": null,
   "metadata": {},
   "outputs": [],
   "source": []
  },
  {
   "cell_type": "markdown",
   "metadata": {},
   "source": [
    "### Pruebas"
   ]
  },
  {
   "cell_type": "code",
   "execution_count": 346,
   "metadata": {},
   "outputs": [],
   "source": [
    "def actualizacion_as(a, X):\n",
    "    for i in range(1,101):\n",
    "        for j in range(1,101):\n",
    "            a[0][i][j] =  D*(X[i][j] - X[i - 1][j])\n",
    "            if a[0][i][j] < 0:\n",
    "                a[0][i][j] = 0\n",
    "            a[1][i][j] =  D*(X[i][j] - X[i + 1][j])\n",
    "            if a[1][i][j] < 0:\n",
    "                a[1][i][j] = 0\n",
    "            a[2][i][j] =  D*(X[i][j] - X[i][j - 1])\n",
    "            if a[2][i][j] < 0:\n",
    "                a[2][i][j] = 0\n",
    "            a[3][i][j] =  D*(X[i][j] - X[i - 1][j + 1])\n",
    "            if a[3][i][j] < 0:\n",
    "                a[3][i][j] = 0\n",
    "            print(i,j)\n",
    "    return a"
   ]
  },
  {
   "cell_type": "code",
   "execution_count": null,
   "metadata": {},
   "outputs": [],
   "source": []
  },
  {
   "cell_type": "code",
   "execution_count": 973,
   "metadata": {},
   "outputs": [
    {
     "data": {
      "image/png": "[encoded data removed]",
      "text/plain": [
       "<Figure size 432x288 with 2 Axes>"
      ]
     },
     "metadata": {
      "needs_background": "light"
     },
     "output_type": "display_data"
    }
   ],
   "source": [
    "N_pasos = 20\n",
    "\n",
    "\n",
    "d = 10\n",
    "\n",
    "# Creamos una condicion inicial; una distribucion de particulas inicial\n",
    "\n",
    "X0 = np.zeros((d + 2, d + 2))\n",
    "\n",
    "for i in range(2,6):\n",
    "    for j in range(2,6):\n",
    "        X0[i][j] = 1\n",
    "\n",
    "\n",
    "# Replicamos las condiciones iniciales en el borde\n",
    "\n",
    "X0 = func_act_CC(X0, d)\n",
    "\n",
    "# Visualizamos la conddicion inicial\n",
    "\n",
    "sns.heatmap(X0)\n",
    "plt.title(\"Condicion inicial\")\n",
    "plt.show()\n"
   ]
  },
  {
   "cell_type": "code",
   "execution_count": 972,
   "metadata": {},
   "outputs": [
    {
     "data": {
      "text/plain": [
       "0.0"
      ]
     },
     "execution_count": 972,
     "metadata": {},
     "output_type": "execute_result"
    }
   ],
   "source": [
    "X[0][0]"
   ]
  },
  {
   "cell_type": "code",
   "execution_count": null,
   "metadata": {},
   "outputs": [],
   "source": []
  }
 ],
 "metadata": {
  "kernelspec": {
   "display_name": "Python 3",
   "language": "python",
   "name": "python3"
  },
  "language_info": {
   "codemirror_mode": {
    "name": "ipython",
    "version": 3
   },
   "file_extension": ".py",
   "mimetype": "text/x-python",
   "name": "python",
   "nbconvert_exporter": "python",
   "pygments_lexer": "ipython3",
   "version": "3.7.6"
  }
 },
 "nbformat": 4,
 "nbformat_minor": 4
}
