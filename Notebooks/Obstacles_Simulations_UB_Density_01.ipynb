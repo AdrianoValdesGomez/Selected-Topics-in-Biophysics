{
 "cells": [
  {
   "cell_type": "code",
   "execution_count": 4,
   "metadata": {},
   "outputs": [],
   "source": [
    "# coding: utf-8\n",
    "import numpy as np\n",
    "from matplotlib import pyplot as plt\n",
    "def orto(x):\n",
    "    if np.dot(x,x) == 0:\n",
    "        return 'No se puede: ese es el vector cero!'\n",
    "    else:\n",
    "        if 0 not in x:\n",
    "            v1 = 1\n",
    "            v2 = -(x[0]/x[1])\n",
    "            v3 = 0\n",
    "            #return np.array([v1,v2,v3])\n",
    "        else:\n",
    "            if x[0] == 0:\n",
    "                if x[1] == 0:\n",
    "                    v1 = 1\n",
    "                    v2 = 0\n",
    "                    v3 = 0\n",
    "                else:\n",
    "                    v1 = 0\n",
    "                    v2 = 0\n",
    "                    v3 = 1\n",
    "            elif x[1] == 0:\n",
    "                v1 = 0\n",
    "                v2 = 1\n",
    "                v3 = 0\n",
    "            else:\n",
    "                v1 = 0\n",
    "                v2 = 0\n",
    "                v3 = 1\n",
    "        return np.array([v1,v2,v3])\n",
    "    \n",
    "#Funcion que regresa dos vectores; numpy arrays de 3D, ortogonales al vector de input x.\n",
    "#Esto es, devuelven la base al espacio ortogonal definido por el vector x de entrada.\n",
    "#@jit\n",
    "def base_ort_nor(x):\n",
    "    y = orto(x)\n",
    "    v1 = y/np.linalg.norm(y)\n",
    "    z = np.cross(x,v1)\n",
    "    v2 = z/np.linalg.norm(z)\n",
    "    return v1, v2\n",
    "\n",
    "\n",
    "#Esta funcion genera un vector con distrubucion uniforme en las direcciones sobre un plano tangente a la esfera de radio R.\n",
    "#@jit\n",
    "def vector_des(v1,v2):\n",
    "    na = 2*np.pi*np.random.rand()\n",
    "    vn = v1*np.cos(na) + v2*np.sin(na)\n",
    "    return vn/np.linalg.norm(vn)\n",
    "\n",
    "R = 1\n",
    "\n",
    "#Normalizamos al vector de desplazamiento para que intersecte al vector de la nueva posicion de acuerdo con que el\n",
    "#desplazamiento (s) sobre la esfera, sobre este arco de circulo maximo, sea el determinado por el movimiento browniano particular.\n",
    "#@jit\n",
    "def vector_q(x,s):\n",
    "    q = (R)*np.tan(s/(R))\n",
    "    return q*x\n",
    "\n",
    "#Dados todos los datos anteriores, esta funcion actualiza la posicion de la particula.\n",
    "#Lo que hace es que la mueve sobre el plano tangente a la esfera en la direccion predeterminada de tal suerte que el desplazamiento efectivo\n",
    "#s sobre una geodesica de la esfera, se el deseado, y posteriormente la proyecta sobre la superficie de la esfera.\n",
    "#@jit\n",
    "def nuevo_r(r, vector_q):\n",
    "    y = r + vector_q\n",
    "    y = y/np.linalg.norm(y)\n",
    "    return (R)*y\n",
    "\n",
    "#funcion que incorpora el efecto de un campo externo\n",
    "\n",
    "\n",
    "\n",
    "#Esta funcion ensambla todo lo anterior: como imput necesita una posicion inicial y un arco de desplazamiento\n",
    "#Como output da un vector de posicion nuevo dada un tipo de desplazamiento.\n",
    "#@jit\n",
    "def actualiza(r,s):\n",
    "    v1, v2 = base_ort_nor(r)\n",
    "    pre_q = vector_des(v1,v2)\n",
    "    q = vector_q(pre_q, s)\n",
    "    return nuevo_r(r, q)\n",
    "\n",
    "\n",
    "\n",
    "\n",
    "#Esta funcion actualiza la posicion de todos los elementos de una lista; particula brownianas.\n",
    "#@jit\n",
    "\n",
    "\n",
    "def act_n(lista, D, delta_t):\n",
    "    l = []\n",
    "    for v in lista:\n",
    "        s = ese(D,delta_t)\n",
    "        l.append(actualiza(v,s))\n",
    "    return l\n",
    "\n",
    "\n",
    "\n",
    "#Huella de la trayectoria\n",
    "#La siguiente funcion hace una particion de la trayectoria sobre s en n pedazos y regresa\n",
    "#una lista de los vectores de esas posiciones sobre la esfera.\n",
    "#Usa al operador de rotacion.\n",
    "\n",
    "#@jit\n",
    "def b_steps_(ri,rf,n):\n",
    "    l = [ri]\n",
    "    r0 = ri\n",
    "    lamb = (np.dot(ri,rf))/((np.linalg.norm(ri))*(np.linalg.norm(rf)))\n",
    "    \n",
    "    if abs(lamb) > 1:\n",
    "        #print 'Is fucked up: there was a rounding '\n",
    "        if lamb < 0:\n",
    "            lamb = -1\n",
    "        else:\n",
    "            lamb = 1\n",
    "    \n",
    "    \n",
    "    \n",
    "    theta = np.arccos(lamb)\n",
    "    #if theta < 1e17:\n",
    "        #return l\n",
    "    if theta == 0:\n",
    "        return [ri,rf]\n",
    "    \n",
    "    else:\n",
    "\n",
    "        normal = np.cross(ri, rf)/ np.linalg.norm(np.cross(ri,rf))\n",
    "        for i in range(1,n + 1):\n",
    "            #vi = rot_theta(r0, theta/n, normal)\n",
    "            vi = rot_finita(r0, -normal, theta/n)\n",
    "            l.append(vi)\n",
    "            r0 = vi\n",
    "        return l\n",
    "\n",
    "\n",
    "#Operador de Rotacion\n",
    "#Depende de los parametros r, el vector o punto que queremos rotar; theta el angulo de rotacion; n el vector que define el eje de rotacion y el signo de rotacion.\n",
    "\n",
    "\n",
    "#@jit\n",
    "def rot_theta(r, theta, u):\n",
    "    x = np.array([np.cos(theta) + (u[0]*u[0])*(1 - np.cos(theta)), u[0]*u[1]*(1 - np.cos(theta)) - u[2]*np.sin(theta), u[0]*u[2]*(1 - np.cos(theta)) + u[1]*np.sin(theta)])\n",
    "    y = np.array([u[1]*u[0]*(1 - np.cos(theta)) + u[2]*np.sin(theta), np.cos(theta) + u[1]*u[1]*(1 - np.cos(theta)), u[1]*u[2]*(1 - np.cos(theta)) - u[0]*np.sin(theta)])\n",
    "    z = np.array([u[2]*u[0]*(1 - np.cos(theta)) - u[1]*np.sin(theta), u[2]*u[1]*(1 - np.cos(theta)) + u[0]*np.sin(theta), np.cos(theta) + u[2]*u[2]*(1 - np.cos(theta))])\n",
    "    R = np.array([x,y,z])\n",
    "    return np.dot(R, r)\n",
    "\n",
    "\n",
    "\n",
    "#Transformacion de coordenada de esfericas a cartesianas.\n",
    "\n",
    "#@jit\n",
    "def trans_s_c(r,theta, phi):\n",
    "    x = r*np.sin(theta)*np.cos(phi)\n",
    "    y = r*np.sin(theta)* np.sin(phi)\n",
    "    z = r*np.cos(theta)\n",
    "    return x, y, z\n",
    "\n",
    "\n",
    "\n",
    "def trans_c_s(x,y,z):\n",
    "    r = np.sqrt(x**2 + y**2 + z**2)\n",
    "    #print r\n",
    "    cociente = z/r\n",
    "    if abs(cociente) > 1:\n",
    "        if cociente < 0:\n",
    "            theta = np.arccos(-1)\n",
    "        else:\n",
    "            theta = np.arccos(1)\n",
    "    else:\n",
    "        \n",
    "        theta = np.arccos(z/r)\n",
    "    #Aqui hay un problema relevante: cada vez que y o x sean nulos, habra un problema\n",
    "    #de indefinicion de operacion\n",
    "    if x == 0.:\n",
    "        if y == 0.:\n",
    "            phi = 2*np.pi*np.random.rand()\n",
    "    else:\n",
    "        if x < 0:\n",
    "            phi = np.arctan(y/x) + np.pi\n",
    "        else:\n",
    "            if y < 0:\n",
    "                phi = np.arctan(y/x) + 2*np.pi\n",
    "            else:\n",
    "                \n",
    "                phi = np.arctan(y/x)\n",
    "    return r, theta, phi\n",
    "\n",
    "\n",
    "\n",
    "\n",
    "#Base unitaria para las coordenadas esféricas\n",
    "#@jit\n",
    "def r_uni(theta, phi):\n",
    "    x = np.sin(theta)*np.cos(phi)\n",
    "    y = np.cos(theta)*np.cos(phi)\n",
    "    z = np.cos(theta)\n",
    "    return np.array([x,y,z])\n",
    "#@jit\n",
    "def theta_uni(theta, phi):\n",
    "    x = np.cos(theta)*np.cos(phi)\n",
    "    y = np.cos(theta)*np.sin(phi)\n",
    "    z = -np.sin(theta)\n",
    "    return np.array([x,y,z])\n",
    "#@jit\n",
    "def phi_uni(theta, phi):\n",
    "    x = -np.sin(phi)\n",
    "    y = np.cos(phi)\n",
    "    z = 0\n",
    "    return np.array([x,y,z])\n",
    "\n",
    "#Función que normaliza los nombres para las animaciones de tal suerte que tenga el mismo número de\n",
    "#digitos y se iteren en orden\n",
    "#@jit\n",
    "def nombre(s):\n",
    "    diferencia = 4 - len(str(s))\n",
    "    ceros = '' \n",
    "    for i in range(diferencia):\n",
    "        ceros = ceros + '0'\n",
    "    variable = ceros + str(s)\n",
    "    return variable\n",
    "\n",
    "#Varianza para una distribucion bigaussiana; difusion en 2D\n",
    "#@jit\n",
    "def var(D, delta_t):\n",
    "    return 4*D*delta_t\n",
    "\n",
    "\n",
    "#Arco de circulo maximo con distribucion normal alrededor de cero y una varianza dada por\n",
    "#@jit\n",
    "def ese(D,delta_t):\n",
    "    return abs(np.random.normal(loc = 0., scale = np.sqrt(var(D,delta_t)),size = None))\n",
    "\n",
    "#Funcion de rotacion finita\n",
    "#@jit\n",
    "def rot_finita(r_ini, N, Phi):\n",
    "    n = N/np.linalg.norm(N)\n",
    "    r_fin = np.cos(Phi)*r_ini + (np.dot(n,r_ini))*(1 - np.cos(Phi))*n + (np.sin(Phi))*(np.cross(r_ini,n))\n",
    "    return r_fin\n",
    "\n",
    "\n",
    "#Funcion que regresa una lista de n numpy arrays que son l\n",
    "def Trayectoria(ri,rf,n):\n",
    "    l = [ri]\n",
    "    r0 = ri\n",
    "    theta = np.arccos((np.dot(ri,rf))/((np.linalg.norm(ri))*(np.linalg.norm(rf))))\n",
    "    N = np.cross(ri, rf)\n",
    "    \n",
    "    for i in range(1,n + 1):\n",
    "        vi = rot_finita(r0, N, theta/n)\n",
    "        l.append(vi)\n",
    "        r0 = vi\n",
    "    return l\n",
    "\n",
    "#Collision_check es una función que, dada una trayectoria: una lista de vectores que\n",
    "#pasan por puntos sucesivos de la trayectoria, verifica si alguna de estas posiciones\n",
    "#interesecto a alguno de los obstáculos. En caso de que así sea, actualiza conforme una\n",
    "#colision elastica. En caso de no intersectar a ningun obstaculo regresa una lista\n",
    "#con dos vectores: posicion inicial y posicion final en ese orden.\n",
    "#@jit\n",
    "def penetrate_obs(lista_vect, lista_obs, size):\n",
    "    metiches = []\n",
    "    for obs in lista_obs:\n",
    "        theta_omega = size\n",
    "        r_omega = obs\n",
    "        frontera = .2\n",
    "        #metiches = []\n",
    "        for v in lista_vect:\n",
    "            tamanho = np.cos(theta_omega - frontera)\n",
    "            if np.dot(v,r_omega) > tamanho:\n",
    "                print('Penetro el mother fucker obstacle')\n",
    "                metiches.append(v)\n",
    "                \n",
    "            else:\n",
    "                continue\n",
    "    #print 'no choco el mother fucker'\n",
    "    #valor = False\n",
    "    return metiches\n",
    "\n",
    "\n",
    "#Esta funcion cuando es llamada grafia la posicion de las partoculas brownianas.\n",
    "#sobre la superficie de una esfera sobre la que se esta difundiendo.\n",
    "#@jit\n",
    "def plot_particles(lista, vpolar, vazim, numero):\n",
    "    from mpl_toolkits.mplot3d import axes3d\n",
    "    from mpl_toolkits.mplot3d import Axes3D\n",
    "    from matplotlib import cm\n",
    "\n",
    "    #import matplotlib.pyplot as plt\n",
    "    #import numpy as np\n",
    "    from itertools import product, combinations\n",
    "    fig = plt.figure(figsize=(8,8))\n",
    "    ax = fig.gca(projection='3d')\n",
    "    ax.set_aspect(\"equal\")\n",
    "    ax._axis3don = False\n",
    "\n",
    "    \n",
    "\n",
    "\n",
    "\n",
    "    #draw sphere\n",
    "    R = 1\n",
    "    u, v = np.mgrid[0:2*np.pi:50j, 0:np.pi:50j]\n",
    "    x=R*np.cos(u)*np.sin(v)\n",
    "    y=R*np.sin(u)*np.sin(v)\n",
    "    z=R*np.cos(v)\n",
    "    #ax.plot_surface(x, y, z, color=\"r\", alpha = 0.15)\n",
    "\n",
    "    ax.plot_surface(x, y, z, cmap=cm.YlGnBu_r,rstride=1, cstride=1, alpha = 0.10, linewidth = 0.10)\n",
    "    ax.view_init(vpolar, vazim)\n",
    "    \n",
    "    \n",
    "    #draw an arrow or a set of arrow\n",
    "    ax.quiver(0,0,1.5,0,0,1, length=0.5, arrow_length_ratio = .5, color = \"b\")\n",
    "    ax.quiver(1.5,0,0,1,0,0, length=0.5, arrow_length_ratio = .5, color =\"g\")\n",
    "    ax.quiver(0,1.5,0,0,1,0, length=0.5, arrow_length_ratio = .5, color =\"r\")\n",
    "    #draw patch\n",
    "    #u, v = np.mgrid[0:2*np.pi:50j, 0:(np.pi/7):50j]\n",
    "    #x=R*np.cos(u)*np.sin(v)\n",
    "    #y=R*np.sin(u)*np.sin(v)\n",
    "    #z=R*np.cos(v)\n",
    "    #ax.plot_surface(x, y, z, color=\"r\", alpha = 0.25)    \n",
    "    \n",
    "    #draw points\n",
    "    for p in lista:\n",
    "        ax.scatter([p[0]],[p[1]],[p[2]],color=\"b\",s=15, alpha = 0.25)\n",
    "    \n",
    "    fig.savefig('Rotating_Field_X_Img{}.png'.format(nombre(numero)))\n",
    "    #ax.view_init(80, 30)\n",
    "    #plt.show()\n",
    "    plt.close()\n",
    "\n",
    "    \n",
    "    \n",
    "#@jit\n",
    "def polo_n(n, R):\n",
    "    l = []\n",
    "    for i in range(n):\n",
    "        l.append(np.array([0,0,R]))\n",
    "    return l\n",
    "\n",
    "#@jit\n",
    "def particion_esfera(ccero, Nphi):\n",
    "    Ntheta = int(4*np.pi/(ccero*Nphi))\n",
    "    print('Ntheta', Ntheta, 'Nphi', Nphi, 'Ntheta*Nphi', Ntheta*Nphi)\n",
    "    sigmaPhi = 2*np.pi/Nphi\n",
    "    deltaphi = 2*np.pi/Nphi\n",
    "    thetas = []\n",
    "    phis = [0]\n",
    "    cociente = ccero/sigmaPhi\n",
    "    for i in range(Ntheta + 1):\n",
    "        theta = np.arccos(1 - (i)*cociente)\n",
    "        thetas.append(theta)\n",
    "    for j in range(Nphi):\n",
    "        phis.append(phis[j] + deltaphi)\n",
    "    return thetas, phis\n",
    "\n",
    "#@jit\n",
    "def secuencia_part(tamini, Nfi, numero):\n",
    "    l1, l2 = particion_esfera(4*np.pi/tamini, Nfi)\n",
    "    particion = []\n",
    "    for i in range(len(l2)):\n",
    "        for j in range(len(l1)):\n",
    "            x, y, z = trans_s_c(1, l1[j], l2[i])\n",
    "            particion.append(np.array([x, y, z]))\n",
    "            \n",
    "    return plot_particles(particion, 45, 45, numero)\n",
    "\n",
    "#Funcion que regresa las coordenadas del centro de dos arreglos para \n",
    "#las coordenadas theta y phi\n",
    "#@jit\n",
    "def coordenadas_centro(l1,l2):\n",
    "    thetas_centro = []\n",
    "    phis_centro = []\n",
    "    for i in range(len(l1) - 1):\n",
    "        theta_media = l1[i] + (l1[i + 1] - l1[i])/2.\n",
    "        thetas_centro.append(theta_media)\n",
    "    for j in range(len(l2) - 1):\n",
    "        phi_media = l2[j] + (l2[j + 1] - l2[j])/2.\n",
    "        phis_centro.append(phi_media)\n",
    "    return thetas_centro, phis_centro\n",
    "\n",
    "#@jit(nopython=True)\n",
    "def secuencia_obs(N, Nfi, numero):\n",
    "    l1_prima, l2_prima = particion_esfera(4*np.pi/N, Nfi)\n",
    "    l1, l2 = coordenadas_centro(l1_prima, l2_prima)\n",
    "    particion = []\n",
    "    for i in range(len(l2)):\n",
    "        for j in range(len(l1)):\n",
    "            x, y, z = trans_s_c(1, l1[j], l2[i])\n",
    "            particion.append(np.array([x, y, z]))\n",
    "            \n",
    "    print(len(particion))\n",
    "    \n",
    "    #return plot_particles(particion, 0, 0, numero)\n",
    "    return particion\n",
    "\n",
    "\n",
    "def plot_particle_traj_obs(lista_obstaculos, trayectoria,  vpolar, vazim, numero):\n",
    "    from mpl_toolkits.mplot3d import axes3d\n",
    "    from mpl_toolkits.mplot3d import Axes3D\n",
    "    from matplotlib import cm\n",
    "\n",
    "    #import matplotlib.pyplot as plt\n",
    "    #import numpy as np\n",
    "    from itertools import product, combinations\n",
    "    fig = plt.figure(figsize=(20,10))\n",
    "    ax = fig.gca(projection='3d')\n",
    "    ax.set_aspect(\"equal\")\n",
    "    ax._axis3don = False\n",
    "    \n",
    "\n",
    "    \n",
    "\n",
    "\n",
    "\n",
    "    #draw sphere\n",
    "    R = 1\n",
    "    u, v = np.mgrid[0:2*np.pi:50j, 0:np.pi:50j]\n",
    "    x=R*np.cos(u)*np.sin(v)\n",
    "    y=R*np.sin(u)*np.sin(v)\n",
    "    z=R*np.cos(v)\n",
    "    #ax.plot_surface(x, y, z, color=\"r\", alpha = 0.15)\n",
    "\n",
    "    ax.plot_surface(x, y, z, cmap=cm.YlGnBu_r,rstride=1, cstride=1, alpha = 0.10, linewidth = 0.15)\n",
    "    ax.view_init(vpolar, vazim)\n",
    "    #draw patch\n",
    "    #u, v = np.mgrid[0:2*np.pi:50j, 0:(np.pi/7):50j]\n",
    "    #x=R*np.cos(u)*np.sin(v)\n",
    "    #y=R*np.sin(u)*np.sin(v)\n",
    "    #z=R*np.cos(v)\n",
    "    #ax.plot_surface(x, y, z, color=\"r\", alpha = 0.25)\n",
    "    \n",
    "    \n",
    "    \n",
    "    #draw obstacles\n",
    "    \n",
    "    for p in lista_obstaculos:\n",
    "        ax.scatter([p[0]],[p[1]],[p[2]], color=\"b\", s=10, alpha = 0.2)\n",
    "    \n",
    "    #draw trajectory\n",
    "    for p in trayectoria:\n",
    "        ax.scatter([p[0]],[p[1]],[p[2]], color=\"k\",s=20, alpha = 0.7)\n",
    "    \n",
    "    #Plot the x positive direction\n",
    "    \n",
    "    ax.quiver(1.5,0,0,1,0,0, length=0.5, arrow_length_ratio = .5)\n",
    "    ax.quiver(0,1.5,0,0,1,0, length=0.5, arrow_length_ratio = .5)\n",
    "    ax.quiver(0,0,1.5,0,0,1, length=0.5, arrow_length_ratio = .5)\n",
    "    \n",
    "    #fig.savefig('BS_24_Obs_test_01{}.png'.format(nombre(numero + 1)))\n",
    "    #ax.view_init(80, 30)\n",
    "    #plt.close()\n",
    "    plt.show()\n",
    "\n",
    "def obs_uniforme(N, R, size):\n",
    "    \n",
    "    list_obs = []\n",
    "    omega = np.cos(size)\n",
    "    while len(list_obs) < N:\n",
    "        x, y, z = np.random.uniform(-1,1), np.random.uniform(-1,1), np.random.uniform(-1,1)\n",
    "        v = np.array([x, y, z])\n",
    "        norma = np.linalg.norm(v)\n",
    "        if norma <= R:\n",
    "            n = v/norma\n",
    "            if not np.dot(n, np.array([0.,0.,1.]))/R > omega:\n",
    "                list_obs.append(R*n)\n",
    "    \n",
    "    return list_obs    \n",
    "\n",
    "\n",
    "def puntos_obs_j(r_omega, theta_omega, n):\n",
    "    r , theta, phi = trans_c_s(r_omega[0],r_omega[1],r_omega[2])\n",
    "    rp = rot_finita(r_omega, phi_uni(theta, phi), theta_omega)\n",
    "    puntos_obs_j = [rp]\n",
    "    for i in range(1,n):\n",
    "        x = rot_finita(rp, r_omega, 2*np.pi/n)\n",
    "        puntos_obs_j.append(x)\n",
    "        rp = x\n",
    "    return puntos_obs_j\n",
    "\n",
    "\n",
    "\n",
    "def puntos_obs(lista_obstaculos, size):\n",
    "    mis_obs = []\n",
    "    for i in range(len(lista_obstaculos)):\n",
    "        a = lista_obstaculos[i]\n",
    "        b = size\n",
    "        mis_obs = mis_obs + puntos_obs_j(a,b,100)\n",
    "    return mis_obs\n",
    "#Collision_check es una función que, dada una trayectoria: una lista de vectores que\n",
    "#pasan por puntos sucesivos de la trayectoria, verifica si alguna de estas posiciones\n",
    "#interesecto a alguno de los obstáculos. En caso de que así sea, actualiza conforme una\n",
    "#colision elastica. En caso de no intersectar a ningun obstaculo regresa una lista\n",
    "#con dos vectores: posicion inicial y posicion final en ese orden.\n",
    "\n",
    "def penetrate_obs(lista_vect, lista_obs, size):\n",
    "    metiches = []\n",
    "    for obs in lista_obs:\n",
    "        r_omega, theta_omega = obs, size\n",
    "        #frontera = .2\n",
    "        #metiches = []\n",
    "        for v in lista_vect:\n",
    "            tamanho = np.cos(theta_omega)\n",
    "            if np.dot(v,r_omega) >= tamanho:\n",
    "                #print 'Penetro el mother fucker obstacle'\n",
    "                metiches.append(v)\n",
    "                \n",
    "            else:\n",
    "                continue\n",
    "    #print 'no choco el mother fucker'\n",
    "    #valor = False\n",
    "    return metiches\n",
    "    \n",
    "\n",
    "def check_collision(lista_vect, lista_obs, size):\n",
    "    for obs in lista_obs:\n",
    "        r_omega, theta_omega = obs, size \n",
    "        for v in lista_vect:\n",
    "            tamanho = np.cos(theta_omega)\n",
    "            if np.dot(v,r_omega) > tamanho:\n",
    "                return  True\n",
    "            else:\n",
    "                continue\n",
    "    return False\n",
    "    \n",
    "\n",
    "def vector_q(x,s):\n",
    "    q = np.tan(s)\n",
    "    return q*x\n",
    "\n",
    "#Distribución en el polo sur\n",
    "\n",
    "def polo_s(n, R):\n",
    "    l = []\n",
    "    for i in range(n):\n",
    "        l.append(np.array([0,0,-R]))\n",
    "    return l\n",
    "\n",
    "#Dsitribución en el ecuador\n",
    "\n",
    "def dist_ecuador(n):\n",
    "    l = []\n",
    "    for i in range(n):\n",
    "        x, y, z = trans_s_c(1.,np.pi/2, np.random.uniform(0,2*np.pi))\n",
    "        l.append(np.array([x,y,z]))\n",
    "    return l\n",
    "\n"
   ]
  },
  {
   "cell_type": "code",
   "execution_count": null,
   "metadata": {},
   "outputs": [],
   "source": []
  },
  {
   "cell_type": "code",
   "execution_count": 5,
   "metadata": {},
   "outputs": [],
   "source": [
    "def tangent_space(x1,x2,xo):\n",
    "    np_prima = np.cross(np.cross(xo, x1), x1)\n",
    "    nor_p = np_prima/np.linalg.norm(np_prima)\n",
    "    up_prima = np.cross(np.cross(x1, x2), x1)\n",
    "    up = up_prima/np.linalg.norm(up_prima)\n",
    "    tp_prima = np.cross(x1, nor_p)\n",
    "    tp = tp_prima/np.linalg.norm(tp_prima)\n",
    "    y = (np.dot(up,tp))*tp - (np.dot(up, nor_p))*nor_p\n",
    "    v_rot_prima = np.cross(x1, y)\n",
    "    v_rot = v_rot_prima/np.linalg.norm(v_rot_prima)\n",
    "    return v_rot"
   ]
  },
  {
   "cell_type": "code",
   "execution_count": 6,
   "metadata": {},
   "outputs": [],
   "source": [
    "def uniform_inside_omega(N, R, size):\n",
    "\n",
    "    list_obs = []\n",
    "    omega = np.cos(size)\n",
    "    while len(list_obs) < N:\n",
    "        x, y, z = np.random.uniform(-1,1), np.random.uniform(-1,1), np.random.uniform(-1,1)\n",
    "        v = np.array([x, y, z])\n",
    "        norma = np.linalg.norm(v)\n",
    "        if norma <= R:\n",
    "            n = v/norma\n",
    "            if not np.dot(n, np.array([0.,0.,1.]))/R < omega:\n",
    "                list_obs.append(R*n)\n",
    "    \n",
    "    return list_obs   "
   ]
  },
  {
   "cell_type": "code",
   "execution_count": null,
   "metadata": {},
   "outputs": [],
   "source": []
  },
  {
   "cell_type": "code",
   "execution_count": null,
   "metadata": {},
   "outputs": [],
   "source": []
  },
  {
   "cell_type": "markdown",
   "metadata": {},
   "source": [
    "### Function to be modify"
   ]
  },
  {
   "cell_type": "code",
   "execution_count": null,
   "metadata": {},
   "outputs": [],
   "source": []
  },
  {
   "cell_type": "code",
   "execution_count": 7,
   "metadata": {},
   "outputs": [],
   "source": [
    "def compute_all(lista_vec):\n",
    "    thetas = []\n",
    "    #phis = []\n",
    "    #thetaphis = []\n",
    "    cos_thetas = [] \n",
    "    \n",
    "    for v in lista_vec:\n",
    "        r, theta, phi = trans_c_s(v[0],v[1],v[2])\n",
    "        thetas.append(theta)\n",
    "        #phis.append(phi)\n",
    "        #thetaphis.append(theta*phi)\n",
    "        cos_thetas.append(np.cos(theta))\n",
    "    \n",
    "    mean_theta, var_theta =np.mean(thetas), np.var(thetas)\n",
    "    \n",
    "    mean_cos_theta = np.mean(cos_thetas)\n",
    "    \n",
    "    return thetas, mean_theta, var_theta, mean_cos_theta"
   ]
  },
  {
   "cell_type": "code",
   "execution_count": null,
   "metadata": {},
   "outputs": [],
   "source": []
  },
  {
   "cell_type": "code",
   "execution_count": null,
   "metadata": {},
   "outputs": [],
   "source": []
  },
  {
   "cell_type": "code",
   "execution_count": 8,
   "metadata": {},
   "outputs": [],
   "source": [
    "# Modifique el codigo para que usara el cuadrado de costheta para que el log se pudiese calcular\n",
    "def simulacion_obs(lista_obs, estructura, size_obs, initial_cond, sim_size, sensitiveness, D, delta_t):\n",
    "    to_update = initial_cond\n",
    "    thetas_t = []\n",
    "    #phis_t = []\n",
    "    m_theta_t = []\n",
    "    #m_phi_t = []\n",
    "    v_theta_t = []\n",
    "    #v_phi_t = []\n",
    "    #cov_theta_phi_t = []\n",
    "    m_cos_theta_t = []\n",
    "    #plot_particle_traj_obs(estructura, to_update, 90,0,0)\n",
    "    for i in range(sim_size):\n",
    "        tentative_paths = []\n",
    "        updated_pos_at_t = []\n",
    "        tentative_pos = act_n(to_update, D, delta_t)\n",
    "        for j in range(len(tentative_pos)):\n",
    "            tentative_paths.append(b_steps_(to_update[j], tentative_pos[j], sensitiveness))\n",
    "        \n",
    "        for path in tentative_paths:\n",
    "            if check_collision(path, lista_obs, size_obs):\n",
    "                for k in range(1,len(path)):\n",
    "                    if check_collision([path[k]], lista_obs, size_obs):\n",
    "                        updated_pos_at_t.append(path[k-1])\n",
    "                        break\n",
    "            else:\n",
    "                updated_pos_at_t.append(path[-1])\n",
    "        \n",
    "        #plot_particle_traj_obs(estructura, updated_pos_at_t, 90,0,i + 1)\n",
    "        thetas, mean_theta, var_theta, mean_cos_theta = compute_all(updated_pos_at_t)\n",
    "        thetas_t.append(thetas)\n",
    "        \n",
    "        m_theta_t.append(mean_theta)\n",
    "        \n",
    "        v_theta_t.append(var_theta)\n",
    "        \n",
    "        m_cos_theta_t.append(mean_cos_theta**2)\n",
    "        \n",
    "        #print penetrate_obs(updated_pos_at_t, lista_obs , size_obs)\n",
    "        to_update = updated_pos_at_t\n",
    "    return thetas_t, m_theta_t, v_theta_t, m_cos_theta_t\n",
    "\n"
   ]
  },
  {
   "cell_type": "code",
   "execution_count": null,
   "metadata": {},
   "outputs": [],
   "source": []
  },
  {
   "cell_type": "code",
   "execution_count": null,
   "metadata": {},
   "outputs": [],
   "source": []
  },
  {
   "cell_type": "code",
   "execution_count": null,
   "metadata": {},
   "outputs": [],
   "source": []
  },
  {
   "cell_type": "code",
   "execution_count": 9,
   "metadata": {},
   "outputs": [],
   "source": [
    "def mean_var_hist_theta(lista):\n",
    "    thetas = []\n",
    "    for r in lista:\n",
    "        cociente = r[2]\n",
    "        if abs(cociente) > 1.:\n",
    "            if cociente < 0:\n",
    "                theta = np.arccos(-1)\n",
    "            else:\n",
    "                theta = np.arccos(1)\n",
    "        else:\n",
    "\n",
    "            theta = np.arccos(r[2])\n",
    "            \n",
    "        thetas.append(theta)\n",
    "        \n",
    "    return thetas, np.mean(thetas), np.var(thetas)"
   ]
  },
  {
   "cell_type": "code",
   "execution_count": 10,
   "metadata": {},
   "outputs": [],
   "source": [
    "def mean_var_hist_phis(lista):\n",
    "    phis = []\n",
    "    for r in lista:\n",
    "        \n",
    "        if r[0] == 0:\n",
    "            if r[1] == 0:\n",
    "                phi = 2*np.pi*np.random.rand()\n",
    "        else:\n",
    "            if r[0] < 0:\n",
    "                \n",
    "                phi = np.arctan(r[1]/r[0]) + np.pi\n",
    "                    \n",
    "            else:\n",
    "                if r[1] < 0:\n",
    "                    phi = np.arctan(r[1]/r[0]) + 2*np.pi\n",
    "                else:\n",
    "                \n",
    "                    phi = np.arctan(r[1]/r[0])\n",
    "                \n",
    "        phis.append(phi)\n",
    "    return phis, np.mean(phis), np.var(phis)"
   ]
  },
  {
   "cell_type": "code",
   "execution_count": null,
   "metadata": {},
   "outputs": [],
   "source": []
  },
  {
   "cell_type": "code",
   "execution_count": null,
   "metadata": {},
   "outputs": [],
   "source": []
  },
  {
   "cell_type": "code",
   "execution_count": null,
   "metadata": {},
   "outputs": [],
   "source": []
  },
  {
   "cell_type": "code",
   "execution_count": null,
   "metadata": {},
   "outputs": [],
   "source": []
  },
  {
   "cell_type": "markdown",
   "metadata": {},
   "source": [
    "### Few tests first"
   ]
  },
  {
   "cell_type": "code",
   "execution_count": 11,
   "metadata": {},
   "outputs": [
    {
     "name": "stdout",
     "output_type": "stream",
     "text": [
      "/Users/adrianovaldesgomez/Documents/Adriano_Programming\r\n"
     ]
    }
   ],
   "source": [
    "!pwd"
   ]
  },
  {
   "cell_type": "code",
   "execution_count": 14,
   "metadata": {},
   "outputs": [],
   "source": [
    "!mkdir OBS_SIM_Test_01"
   ]
  },
  {
   "cell_type": "code",
   "execution_count": 15,
   "metadata": {},
   "outputs": [
    {
     "name": "stdout",
     "output_type": "stream",
     "text": [
      "/Users/adrianovaldesgomez/Documents/Adriano_Programming/OBS_SIM_Test_01\n"
     ]
    }
   ],
   "source": [
    "%cd OBS_SIM_Test_01/"
   ]
  },
  {
   "cell_type": "code",
   "execution_count": null,
   "metadata": {},
   "outputs": [],
   "source": []
  },
  {
   "cell_type": "code",
   "execution_count": 16,
   "metadata": {},
   "outputs": [],
   "source": [
    "pos_ini = polo_n(100,1)\n",
    "unif_estorbos = obs_uniforme(705,1,0.05)"
   ]
  },
  {
   "cell_type": "code",
   "execution_count": 17,
   "metadata": {},
   "outputs": [],
   "source": [
    "import time"
   ]
  },
  {
   "cell_type": "code",
   "execution_count": 18,
   "metadata": {},
   "outputs": [
    {
     "name": "stdout",
     "output_type": "stream",
     "text": [
      "- 769.1353328227997 seconds -\n"
     ]
    }
   ],
   "source": [
    "start_time = time.time()\n",
    "thetas_t, m_theta_t, v_theta_t, m_cos_theta_t = simulacion_obs(unif_estorbos, unif_estorbos, 0.051, pos_ini, 100, 30, 1., np.log(2)*1e-3)\n",
    "print(\"- %s seconds -\" % (time.time() - start_time))"
   ]
  },
  {
   "cell_type": "code",
   "execution_count": null,
   "metadata": {},
   "outputs": [],
   "source": []
  },
  {
   "cell_type": "markdown",
   "metadata": {},
   "source": [
    "$$\\sigma = \\frac{n 2\\pi\\,r^2\\,(1-\\cos{\\theta_c})}{4\\pi\\,r^2}$$"
   ]
  },
  {
   "cell_type": "code",
   "execution_count": 19,
   "metadata": {},
   "outputs": [],
   "source": [
    "sig = 705*(1 - np.cos(0.05))/2"
   ]
  },
  {
   "cell_type": "code",
   "execution_count": 20,
   "metadata": {},
   "outputs": [
    {
     "data": {
      "text/plain": [
       "0.44053321077438534"
      ]
     },
     "execution_count": 20,
     "metadata": {},
     "output_type": "execute_result"
    }
   ],
   "source": [
    "sig"
   ]
  },
  {
   "cell_type": "code",
   "execution_count": 21,
   "metadata": {},
   "outputs": [],
   "source": [
    "x1,x2,x3,x4 = np.array(thetas_t), np.array(m_theta_t), np.array(v_theta_t), np.array(m_cos_theta_t)"
   ]
  },
  {
   "cell_type": "code",
   "execution_count": 22,
   "metadata": {},
   "outputs": [],
   "source": [
    "np.savetxt(\"thetas_t09.txt\", x1)\n",
    "np.savetxt(\"m_theta_t09.txt\", x2)\n",
    "np.savetxt(\"v_theta_t09.txt\", x3)\n",
    "np.savetxt(\"m_cos_theta_t09.txt\", x4)"
   ]
  },
  {
   "cell_type": "code",
   "execution_count": 23,
   "metadata": {},
   "outputs": [
    {
     "data": {
      "text/plain": [
       "100"
      ]
     },
     "execution_count": 23,
     "metadata": {},
     "output_type": "execute_result"
    }
   ],
   "source": [
    "len(x1)"
   ]
  },
  {
   "cell_type": "code",
   "execution_count": 24,
   "metadata": {},
   "outputs": [],
   "source": [
    "tiempos = [0]\n",
    "tiempo = 0\n",
    "for i in range(1,len(x1)):\n",
    "    tiempo += np.log(2)*1e-3\n",
    "    tiempos.append(tiempo)"
   ]
  },
  {
   "cell_type": "code",
   "execution_count": 25,
   "metadata": {},
   "outputs": [
    {
     "data": {
      "text/plain": [
       "100"
      ]
     },
     "execution_count": 25,
     "metadata": {},
     "output_type": "execute_result"
    }
   ],
   "source": [
    "len(tiempos)"
   ]
  },
  {
   "cell_type": "code",
   "execution_count": 27,
   "metadata": {},
   "outputs": [
    {
     "name": "stdout",
     "output_type": "stream",
     "text": [
      "-1.3666047747683825 -0.007397822850845801\n"
     ]
    },
    {
     "name": "stderr",
     "output_type": "stream",
     "text": [
      "/Users/adrianovaldesgomez/anaconda3/lib/python3.7/site-packages/ipykernel_launcher.py:2: FutureWarning: `rcond` parameter will change to the default of machine precision times ``max(M, N)`` where M and N are the input matrix dimensions.\n",
      "To use the future default and silence this warning we advise to pass `rcond=None`, to keep using the old, explicitly pass `rcond=-1`.\n",
      "  \n"
     ]
    }
   ],
   "source": [
    "A = np.vstack((tiempos, np.ones(len(tiempos)))).T\n",
    "m, c = np.linalg.lstsq(A, np.log(x4))[0]\n",
    "print(m, c)"
   ]
  },
  {
   "cell_type": "code",
   "execution_count": 28,
   "metadata": {},
   "outputs": [],
   "source": [
    "D = m/(-4)"
   ]
  },
  {
   "cell_type": "code",
   "execution_count": 29,
   "metadata": {},
   "outputs": [
    {
     "data": {
      "text/plain": [
       "0.3416511936920956"
      ]
     },
     "execution_count": 29,
     "metadata": {},
     "output_type": "execute_result"
    }
   ],
   "source": [
    "D"
   ]
  },
  {
   "cell_type": "code",
   "execution_count": 30,
   "metadata": {},
   "outputs": [
    {
     "data": {
      "text/plain": [
       "2.926961820895098"
      ]
     },
     "execution_count": 30,
     "metadata": {},
     "output_type": "execute_result"
    }
   ],
   "source": [
    "1/D"
   ]
  },
  {
   "cell_type": "code",
   "execution_count": null,
   "metadata": {},
   "outputs": [],
   "source": []
  },
  {
   "cell_type": "code",
   "execution_count": 31,
   "metadata": {},
   "outputs": [],
   "source": [
    "mpre = -1.940902"
   ]
  },
  {
   "cell_type": "code",
   "execution_count": 32,
   "metadata": {},
   "outputs": [],
   "source": [
    "Dpre = mpre/(-2)"
   ]
  },
  {
   "cell_type": "code",
   "execution_count": 33,
   "metadata": {},
   "outputs": [
    {
     "data": {
      "text/plain": [
       "0.970451"
      ]
     },
     "execution_count": 33,
     "metadata": {},
     "output_type": "execute_result"
    }
   ],
   "source": [
    "Dpre"
   ]
  },
  {
   "cell_type": "code",
   "execution_count": 34,
   "metadata": {},
   "outputs": [
    {
     "data": {
      "text/plain": [
       "1.5972640247326626"
      ]
     },
     "execution_count": 34,
     "metadata": {},
     "output_type": "execute_result"
    }
   ],
   "source": [
    "(np.exp(2)-1)/4"
   ]
  },
  {
   "cell_type": "code",
   "execution_count": 36,
   "metadata": {},
   "outputs": [
    {
     "data": {
      "text/plain": [
       "1.4365636569180902"
      ]
     },
     "execution_count": 36,
     "metadata": {},
     "output_type": "execute_result"
    }
   ],
   "source": []
  },
  {
   "cell_type": "code",
   "execution_count": null,
   "metadata": {},
   "outputs": [],
   "source": []
  }
 ],
 "metadata": {
  "anaconda-cloud": {},
  "kernelspec": {
   "display_name": "Python 3",
   "language": "python",
   "name": "python3"
  },
  "language_info": {
   "codemirror_mode": {
    "name": "ipython",
    "version": 3
   },
   "file_extension": ".py",
   "mimetype": "text/x-python",
   "name": "python",
   "nbconvert_exporter": "python",
   "pygments_lexer": "ipython3",
   "version": "3.7.6"
  }
 },
 "nbformat": 4,
 "nbformat_minor": 1
}
